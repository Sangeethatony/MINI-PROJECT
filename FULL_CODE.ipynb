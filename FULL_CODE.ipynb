{
  "nbformat": 4,
  "nbformat_minor": 0,
  "metadata": {
    "colab": {
      "provenance": []
    },
    "kernelspec": {
      "name": "python3",
      "display_name": "Python 3"
    },
    "language_info": {
      "name": "python"
    },
    "widgets": {
      "application/vnd.jupyter.widget-state+json": {
        "d8ec40eeda3842379e878ba58393fb6c": {
          "model_module": "@jupyter-widgets/controls",
          "model_name": "HBoxModel",
          "model_module_version": "1.5.0",
          "state": {
            "_dom_classes": [],
            "_model_module": "@jupyter-widgets/controls",
            "_model_module_version": "1.5.0",
            "_model_name": "HBoxModel",
            "_view_count": null,
            "_view_module": "@jupyter-widgets/controls",
            "_view_module_version": "1.5.0",
            "_view_name": "HBoxView",
            "box_style": "",
            "children": [
              "IPY_MODEL_85c28ba1aa0c4369b76f8ad9babc09fe",
              "IPY_MODEL_f5037d60e88b4014b8ea07d526fd28d1",
              "IPY_MODEL_97e4501fa77f423fa9070d11590e9468"
            ],
            "layout": "IPY_MODEL_0309b54114d045a9bbb923e38d6c4c05"
          }
        },
        "85c28ba1aa0c4369b76f8ad9babc09fe": {
          "model_module": "@jupyter-widgets/controls",
          "model_name": "HTMLModel",
          "model_module_version": "1.5.0",
          "state": {
            "_dom_classes": [],
            "_model_module": "@jupyter-widgets/controls",
            "_model_module_version": "1.5.0",
            "_model_name": "HTMLModel",
            "_view_count": null,
            "_view_module": "@jupyter-widgets/controls",
            "_view_module_version": "1.5.0",
            "_view_name": "HTMLView",
            "description": "",
            "description_tooltip": null,
            "layout": "IPY_MODEL_48ce7a136ec94e1aa8355ac7d27737ac",
            "placeholder": "​",
            "style": "IPY_MODEL_c308268b3eb34f27b83d97e87b1ff2a6",
            "value": "tokenizer_config.json: 100%"
          }
        },
        "f5037d60e88b4014b8ea07d526fd28d1": {
          "model_module": "@jupyter-widgets/controls",
          "model_name": "FloatProgressModel",
          "model_module_version": "1.5.0",
          "state": {
            "_dom_classes": [],
            "_model_module": "@jupyter-widgets/controls",
            "_model_module_version": "1.5.0",
            "_model_name": "FloatProgressModel",
            "_view_count": null,
            "_view_module": "@jupyter-widgets/controls",
            "_view_module_version": "1.5.0",
            "_view_name": "ProgressView",
            "bar_style": "success",
            "description": "",
            "description_tooltip": null,
            "layout": "IPY_MODEL_3d1a8b97d34a486abc86717e25cf8085",
            "max": 48,
            "min": 0,
            "orientation": "horizontal",
            "style": "IPY_MODEL_92b6a387b798444dad0bb9fa9f9ef372",
            "value": 48
          }
        },
        "97e4501fa77f423fa9070d11590e9468": {
          "model_module": "@jupyter-widgets/controls",
          "model_name": "HTMLModel",
          "model_module_version": "1.5.0",
          "state": {
            "_dom_classes": [],
            "_model_module": "@jupyter-widgets/controls",
            "_model_module_version": "1.5.0",
            "_model_name": "HTMLModel",
            "_view_count": null,
            "_view_module": "@jupyter-widgets/controls",
            "_view_module_version": "1.5.0",
            "_view_name": "HTMLView",
            "description": "",
            "description_tooltip": null,
            "layout": "IPY_MODEL_d040a807ff5446578d4e4528dfb4a654",
            "placeholder": "​",
            "style": "IPY_MODEL_4ae0046eae1c48afa900458c13b4528a",
            "value": " 48.0/48.0 [00:00&lt;00:00, 2.65kB/s]"
          }
        },
        "0309b54114d045a9bbb923e38d6c4c05": {
          "model_module": "@jupyter-widgets/base",
          "model_name": "LayoutModel",
          "model_module_version": "1.2.0",
          "state": {
            "_model_module": "@jupyter-widgets/base",
            "_model_module_version": "1.2.0",
            "_model_name": "LayoutModel",
            "_view_count": null,
            "_view_module": "@jupyter-widgets/base",
            "_view_module_version": "1.2.0",
            "_view_name": "LayoutView",
            "align_content": null,
            "align_items": null,
            "align_self": null,
            "border": null,
            "bottom": null,
            "display": null,
            "flex": null,
            "flex_flow": null,
            "grid_area": null,
            "grid_auto_columns": null,
            "grid_auto_flow": null,
            "grid_auto_rows": null,
            "grid_column": null,
            "grid_gap": null,
            "grid_row": null,
            "grid_template_areas": null,
            "grid_template_columns": null,
            "grid_template_rows": null,
            "height": null,
            "justify_content": null,
            "justify_items": null,
            "left": null,
            "margin": null,
            "max_height": null,
            "max_width": null,
            "min_height": null,
            "min_width": null,
            "object_fit": null,
            "object_position": null,
            "order": null,
            "overflow": null,
            "overflow_x": null,
            "overflow_y": null,
            "padding": null,
            "right": null,
            "top": null,
            "visibility": null,
            "width": null
          }
        },
        "48ce7a136ec94e1aa8355ac7d27737ac": {
          "model_module": "@jupyter-widgets/base",
          "model_name": "LayoutModel",
          "model_module_version": "1.2.0",
          "state": {
            "_model_module": "@jupyter-widgets/base",
            "_model_module_version": "1.2.0",
            "_model_name": "LayoutModel",
            "_view_count": null,
            "_view_module": "@jupyter-widgets/base",
            "_view_module_version": "1.2.0",
            "_view_name": "LayoutView",
            "align_content": null,
            "align_items": null,
            "align_self": null,
            "border": null,
            "bottom": null,
            "display": null,
            "flex": null,
            "flex_flow": null,
            "grid_area": null,
            "grid_auto_columns": null,
            "grid_auto_flow": null,
            "grid_auto_rows": null,
            "grid_column": null,
            "grid_gap": null,
            "grid_row": null,
            "grid_template_areas": null,
            "grid_template_columns": null,
            "grid_template_rows": null,
            "height": null,
            "justify_content": null,
            "justify_items": null,
            "left": null,
            "margin": null,
            "max_height": null,
            "max_width": null,
            "min_height": null,
            "min_width": null,
            "object_fit": null,
            "object_position": null,
            "order": null,
            "overflow": null,
            "overflow_x": null,
            "overflow_y": null,
            "padding": null,
            "right": null,
            "top": null,
            "visibility": null,
            "width": null
          }
        },
        "c308268b3eb34f27b83d97e87b1ff2a6": {
          "model_module": "@jupyter-widgets/controls",
          "model_name": "DescriptionStyleModel",
          "model_module_version": "1.5.0",
          "state": {
            "_model_module": "@jupyter-widgets/controls",
            "_model_module_version": "1.5.0",
            "_model_name": "DescriptionStyleModel",
            "_view_count": null,
            "_view_module": "@jupyter-widgets/base",
            "_view_module_version": "1.2.0",
            "_view_name": "StyleView",
            "description_width": ""
          }
        },
        "3d1a8b97d34a486abc86717e25cf8085": {
          "model_module": "@jupyter-widgets/base",
          "model_name": "LayoutModel",
          "model_module_version": "1.2.0",
          "state": {
            "_model_module": "@jupyter-widgets/base",
            "_model_module_version": "1.2.0",
            "_model_name": "LayoutModel",
            "_view_count": null,
            "_view_module": "@jupyter-widgets/base",
            "_view_module_version": "1.2.0",
            "_view_name": "LayoutView",
            "align_content": null,
            "align_items": null,
            "align_self": null,
            "border": null,
            "bottom": null,
            "display": null,
            "flex": null,
            "flex_flow": null,
            "grid_area": null,
            "grid_auto_columns": null,
            "grid_auto_flow": null,
            "grid_auto_rows": null,
            "grid_column": null,
            "grid_gap": null,
            "grid_row": null,
            "grid_template_areas": null,
            "grid_template_columns": null,
            "grid_template_rows": null,
            "height": null,
            "justify_content": null,
            "justify_items": null,
            "left": null,
            "margin": null,
            "max_height": null,
            "max_width": null,
            "min_height": null,
            "min_width": null,
            "object_fit": null,
            "object_position": null,
            "order": null,
            "overflow": null,
            "overflow_x": null,
            "overflow_y": null,
            "padding": null,
            "right": null,
            "top": null,
            "visibility": null,
            "width": null
          }
        },
        "92b6a387b798444dad0bb9fa9f9ef372": {
          "model_module": "@jupyter-widgets/controls",
          "model_name": "ProgressStyleModel",
          "model_module_version": "1.5.0",
          "state": {
            "_model_module": "@jupyter-widgets/controls",
            "_model_module_version": "1.5.0",
            "_model_name": "ProgressStyleModel",
            "_view_count": null,
            "_view_module": "@jupyter-widgets/base",
            "_view_module_version": "1.2.0",
            "_view_name": "StyleView",
            "bar_color": null,
            "description_width": ""
          }
        },
        "d040a807ff5446578d4e4528dfb4a654": {
          "model_module": "@jupyter-widgets/base",
          "model_name": "LayoutModel",
          "model_module_version": "1.2.0",
          "state": {
            "_model_module": "@jupyter-widgets/base",
            "_model_module_version": "1.2.0",
            "_model_name": "LayoutModel",
            "_view_count": null,
            "_view_module": "@jupyter-widgets/base",
            "_view_module_version": "1.2.0",
            "_view_name": "LayoutView",
            "align_content": null,
            "align_items": null,
            "align_self": null,
            "border": null,
            "bottom": null,
            "display": null,
            "flex": null,
            "flex_flow": null,
            "grid_area": null,
            "grid_auto_columns": null,
            "grid_auto_flow": null,
            "grid_auto_rows": null,
            "grid_column": null,
            "grid_gap": null,
            "grid_row": null,
            "grid_template_areas": null,
            "grid_template_columns": null,
            "grid_template_rows": null,
            "height": null,
            "justify_content": null,
            "justify_items": null,
            "left": null,
            "margin": null,
            "max_height": null,
            "max_width": null,
            "min_height": null,
            "min_width": null,
            "object_fit": null,
            "object_position": null,
            "order": null,
            "overflow": null,
            "overflow_x": null,
            "overflow_y": null,
            "padding": null,
            "right": null,
            "top": null,
            "visibility": null,
            "width": null
          }
        },
        "4ae0046eae1c48afa900458c13b4528a": {
          "model_module": "@jupyter-widgets/controls",
          "model_name": "DescriptionStyleModel",
          "model_module_version": "1.5.0",
          "state": {
            "_model_module": "@jupyter-widgets/controls",
            "_model_module_version": "1.5.0",
            "_model_name": "DescriptionStyleModel",
            "_view_count": null,
            "_view_module": "@jupyter-widgets/base",
            "_view_module_version": "1.2.0",
            "_view_name": "StyleView",
            "description_width": ""
          }
        },
        "08b0a656c3b44fc2aa003fac510b6703": {
          "model_module": "@jupyter-widgets/controls",
          "model_name": "HBoxModel",
          "model_module_version": "1.5.0",
          "state": {
            "_dom_classes": [],
            "_model_module": "@jupyter-widgets/controls",
            "_model_module_version": "1.5.0",
            "_model_name": "HBoxModel",
            "_view_count": null,
            "_view_module": "@jupyter-widgets/controls",
            "_view_module_version": "1.5.0",
            "_view_name": "HBoxView",
            "box_style": "",
            "children": [
              "IPY_MODEL_bf388cd3317440acb5fec1f67d66df30",
              "IPY_MODEL_2b5102ea155e40bb9f05b174b15b0c6c",
              "IPY_MODEL_fe54dc1272e74dc69e9933cb9fe0ca21"
            ],
            "layout": "IPY_MODEL_1c17dd85550044d298e9418d861b5682"
          }
        },
        "bf388cd3317440acb5fec1f67d66df30": {
          "model_module": "@jupyter-widgets/controls",
          "model_name": "HTMLModel",
          "model_module_version": "1.5.0",
          "state": {
            "_dom_classes": [],
            "_model_module": "@jupyter-widgets/controls",
            "_model_module_version": "1.5.0",
            "_model_name": "HTMLModel",
            "_view_count": null,
            "_view_module": "@jupyter-widgets/controls",
            "_view_module_version": "1.5.0",
            "_view_name": "HTMLView",
            "description": "",
            "description_tooltip": null,
            "layout": "IPY_MODEL_5f279916538d4fb39aa9427c5b25c963",
            "placeholder": "​",
            "style": "IPY_MODEL_8f7b277e26824beda14ac7bed9b87875",
            "value": "vocab.txt: 100%"
          }
        },
        "2b5102ea155e40bb9f05b174b15b0c6c": {
          "model_module": "@jupyter-widgets/controls",
          "model_name": "FloatProgressModel",
          "model_module_version": "1.5.0",
          "state": {
            "_dom_classes": [],
            "_model_module": "@jupyter-widgets/controls",
            "_model_module_version": "1.5.0",
            "_model_name": "FloatProgressModel",
            "_view_count": null,
            "_view_module": "@jupyter-widgets/controls",
            "_view_module_version": "1.5.0",
            "_view_name": "ProgressView",
            "bar_style": "success",
            "description": "",
            "description_tooltip": null,
            "layout": "IPY_MODEL_6e293ae80c304405a348064363a271a7",
            "max": 231508,
            "min": 0,
            "orientation": "horizontal",
            "style": "IPY_MODEL_10a0dd4e5d2a44b9bf2c0cfca66da98b",
            "value": 231508
          }
        },
        "fe54dc1272e74dc69e9933cb9fe0ca21": {
          "model_module": "@jupyter-widgets/controls",
          "model_name": "HTMLModel",
          "model_module_version": "1.5.0",
          "state": {
            "_dom_classes": [],
            "_model_module": "@jupyter-widgets/controls",
            "_model_module_version": "1.5.0",
            "_model_name": "HTMLModel",
            "_view_count": null,
            "_view_module": "@jupyter-widgets/controls",
            "_view_module_version": "1.5.0",
            "_view_name": "HTMLView",
            "description": "",
            "description_tooltip": null,
            "layout": "IPY_MODEL_d68ea9afb8e64ce38933a0013e23d575",
            "placeholder": "​",
            "style": "IPY_MODEL_0fa2e55459204bfcaea25a3a62df9acd",
            "value": " 232k/232k [00:00&lt;00:00, 6.07MB/s]"
          }
        },
        "1c17dd85550044d298e9418d861b5682": {
          "model_module": "@jupyter-widgets/base",
          "model_name": "LayoutModel",
          "model_module_version": "1.2.0",
          "state": {
            "_model_module": "@jupyter-widgets/base",
            "_model_module_version": "1.2.0",
            "_model_name": "LayoutModel",
            "_view_count": null,
            "_view_module": "@jupyter-widgets/base",
            "_view_module_version": "1.2.0",
            "_view_name": "LayoutView",
            "align_content": null,
            "align_items": null,
            "align_self": null,
            "border": null,
            "bottom": null,
            "display": null,
            "flex": null,
            "flex_flow": null,
            "grid_area": null,
            "grid_auto_columns": null,
            "grid_auto_flow": null,
            "grid_auto_rows": null,
            "grid_column": null,
            "grid_gap": null,
            "grid_row": null,
            "grid_template_areas": null,
            "grid_template_columns": null,
            "grid_template_rows": null,
            "height": null,
            "justify_content": null,
            "justify_items": null,
            "left": null,
            "margin": null,
            "max_height": null,
            "max_width": null,
            "min_height": null,
            "min_width": null,
            "object_fit": null,
            "object_position": null,
            "order": null,
            "overflow": null,
            "overflow_x": null,
            "overflow_y": null,
            "padding": null,
            "right": null,
            "top": null,
            "visibility": null,
            "width": null
          }
        },
        "5f279916538d4fb39aa9427c5b25c963": {
          "model_module": "@jupyter-widgets/base",
          "model_name": "LayoutModel",
          "model_module_version": "1.2.0",
          "state": {
            "_model_module": "@jupyter-widgets/base",
            "_model_module_version": "1.2.0",
            "_model_name": "LayoutModel",
            "_view_count": null,
            "_view_module": "@jupyter-widgets/base",
            "_view_module_version": "1.2.0",
            "_view_name": "LayoutView",
            "align_content": null,
            "align_items": null,
            "align_self": null,
            "border": null,
            "bottom": null,
            "display": null,
            "flex": null,
            "flex_flow": null,
            "grid_area": null,
            "grid_auto_columns": null,
            "grid_auto_flow": null,
            "grid_auto_rows": null,
            "grid_column": null,
            "grid_gap": null,
            "grid_row": null,
            "grid_template_areas": null,
            "grid_template_columns": null,
            "grid_template_rows": null,
            "height": null,
            "justify_content": null,
            "justify_items": null,
            "left": null,
            "margin": null,
            "max_height": null,
            "max_width": null,
            "min_height": null,
            "min_width": null,
            "object_fit": null,
            "object_position": null,
            "order": null,
            "overflow": null,
            "overflow_x": null,
            "overflow_y": null,
            "padding": null,
            "right": null,
            "top": null,
            "visibility": null,
            "width": null
          }
        },
        "8f7b277e26824beda14ac7bed9b87875": {
          "model_module": "@jupyter-widgets/controls",
          "model_name": "DescriptionStyleModel",
          "model_module_version": "1.5.0",
          "state": {
            "_model_module": "@jupyter-widgets/controls",
            "_model_module_version": "1.5.0",
            "_model_name": "DescriptionStyleModel",
            "_view_count": null,
            "_view_module": "@jupyter-widgets/base",
            "_view_module_version": "1.2.0",
            "_view_name": "StyleView",
            "description_width": ""
          }
        },
        "6e293ae80c304405a348064363a271a7": {
          "model_module": "@jupyter-widgets/base",
          "model_name": "LayoutModel",
          "model_module_version": "1.2.0",
          "state": {
            "_model_module": "@jupyter-widgets/base",
            "_model_module_version": "1.2.0",
            "_model_name": "LayoutModel",
            "_view_count": null,
            "_view_module": "@jupyter-widgets/base",
            "_view_module_version": "1.2.0",
            "_view_name": "LayoutView",
            "align_content": null,
            "align_items": null,
            "align_self": null,
            "border": null,
            "bottom": null,
            "display": null,
            "flex": null,
            "flex_flow": null,
            "grid_area": null,
            "grid_auto_columns": null,
            "grid_auto_flow": null,
            "grid_auto_rows": null,
            "grid_column": null,
            "grid_gap": null,
            "grid_row": null,
            "grid_template_areas": null,
            "grid_template_columns": null,
            "grid_template_rows": null,
            "height": null,
            "justify_content": null,
            "justify_items": null,
            "left": null,
            "margin": null,
            "max_height": null,
            "max_width": null,
            "min_height": null,
            "min_width": null,
            "object_fit": null,
            "object_position": null,
            "order": null,
            "overflow": null,
            "overflow_x": null,
            "overflow_y": null,
            "padding": null,
            "right": null,
            "top": null,
            "visibility": null,
            "width": null
          }
        },
        "10a0dd4e5d2a44b9bf2c0cfca66da98b": {
          "model_module": "@jupyter-widgets/controls",
          "model_name": "ProgressStyleModel",
          "model_module_version": "1.5.0",
          "state": {
            "_model_module": "@jupyter-widgets/controls",
            "_model_module_version": "1.5.0",
            "_model_name": "ProgressStyleModel",
            "_view_count": null,
            "_view_module": "@jupyter-widgets/base",
            "_view_module_version": "1.2.0",
            "_view_name": "StyleView",
            "bar_color": null,
            "description_width": ""
          }
        },
        "d68ea9afb8e64ce38933a0013e23d575": {
          "model_module": "@jupyter-widgets/base",
          "model_name": "LayoutModel",
          "model_module_version": "1.2.0",
          "state": {
            "_model_module": "@jupyter-widgets/base",
            "_model_module_version": "1.2.0",
            "_model_name": "LayoutModel",
            "_view_count": null,
            "_view_module": "@jupyter-widgets/base",
            "_view_module_version": "1.2.0",
            "_view_name": "LayoutView",
            "align_content": null,
            "align_items": null,
            "align_self": null,
            "border": null,
            "bottom": null,
            "display": null,
            "flex": null,
            "flex_flow": null,
            "grid_area": null,
            "grid_auto_columns": null,
            "grid_auto_flow": null,
            "grid_auto_rows": null,
            "grid_column": null,
            "grid_gap": null,
            "grid_row": null,
            "grid_template_areas": null,
            "grid_template_columns": null,
            "grid_template_rows": null,
            "height": null,
            "justify_content": null,
            "justify_items": null,
            "left": null,
            "margin": null,
            "max_height": null,
            "max_width": null,
            "min_height": null,
            "min_width": null,
            "object_fit": null,
            "object_position": null,
            "order": null,
            "overflow": null,
            "overflow_x": null,
            "overflow_y": null,
            "padding": null,
            "right": null,
            "top": null,
            "visibility": null,
            "width": null
          }
        },
        "0fa2e55459204bfcaea25a3a62df9acd": {
          "model_module": "@jupyter-widgets/controls",
          "model_name": "DescriptionStyleModel",
          "model_module_version": "1.5.0",
          "state": {
            "_model_module": "@jupyter-widgets/controls",
            "_model_module_version": "1.5.0",
            "_model_name": "DescriptionStyleModel",
            "_view_count": null,
            "_view_module": "@jupyter-widgets/base",
            "_view_module_version": "1.2.0",
            "_view_name": "StyleView",
            "description_width": ""
          }
        },
        "dfc031d5aee2472f8f5315493c7e9a21": {
          "model_module": "@jupyter-widgets/controls",
          "model_name": "HBoxModel",
          "model_module_version": "1.5.0",
          "state": {
            "_dom_classes": [],
            "_model_module": "@jupyter-widgets/controls",
            "_model_module_version": "1.5.0",
            "_model_name": "HBoxModel",
            "_view_count": null,
            "_view_module": "@jupyter-widgets/controls",
            "_view_module_version": "1.5.0",
            "_view_name": "HBoxView",
            "box_style": "",
            "children": [
              "IPY_MODEL_ad05fe6086f046ba82b4e8eecd4115ad",
              "IPY_MODEL_f20a4012336a4d3ba6546ede145d158a",
              "IPY_MODEL_a4319b48427e4f26847973cb243dac69"
            ],
            "layout": "IPY_MODEL_2033c4a30ee44280b57e6712a7a566bf"
          }
        },
        "ad05fe6086f046ba82b4e8eecd4115ad": {
          "model_module": "@jupyter-widgets/controls",
          "model_name": "HTMLModel",
          "model_module_version": "1.5.0",
          "state": {
            "_dom_classes": [],
            "_model_module": "@jupyter-widgets/controls",
            "_model_module_version": "1.5.0",
            "_model_name": "HTMLModel",
            "_view_count": null,
            "_view_module": "@jupyter-widgets/controls",
            "_view_module_version": "1.5.0",
            "_view_name": "HTMLView",
            "description": "",
            "description_tooltip": null,
            "layout": "IPY_MODEL_3fe6423c7cd1433db73cd5ef40dabdb9",
            "placeholder": "​",
            "style": "IPY_MODEL_c64fe583cf5d489c94f0f82261dbf079",
            "value": "tokenizer.json: 100%"
          }
        },
        "f20a4012336a4d3ba6546ede145d158a": {
          "model_module": "@jupyter-widgets/controls",
          "model_name": "FloatProgressModel",
          "model_module_version": "1.5.0",
          "state": {
            "_dom_classes": [],
            "_model_module": "@jupyter-widgets/controls",
            "_model_module_version": "1.5.0",
            "_model_name": "FloatProgressModel",
            "_view_count": null,
            "_view_module": "@jupyter-widgets/controls",
            "_view_module_version": "1.5.0",
            "_view_name": "ProgressView",
            "bar_style": "success",
            "description": "",
            "description_tooltip": null,
            "layout": "IPY_MODEL_e9d488ce98b54bcdb077333377823e69",
            "max": 466062,
            "min": 0,
            "orientation": "horizontal",
            "style": "IPY_MODEL_3d2fde838d9041fa9d1d7937b726f99a",
            "value": 466062
          }
        },
        "a4319b48427e4f26847973cb243dac69": {
          "model_module": "@jupyter-widgets/controls",
          "model_name": "HTMLModel",
          "model_module_version": "1.5.0",
          "state": {
            "_dom_classes": [],
            "_model_module": "@jupyter-widgets/controls",
            "_model_module_version": "1.5.0",
            "_model_name": "HTMLModel",
            "_view_count": null,
            "_view_module": "@jupyter-widgets/controls",
            "_view_module_version": "1.5.0",
            "_view_name": "HTMLView",
            "description": "",
            "description_tooltip": null,
            "layout": "IPY_MODEL_f1e55fe91c8d4d6fb14b19a111afbf57",
            "placeholder": "​",
            "style": "IPY_MODEL_3054bface5644051afce96feebf1b6ac",
            "value": " 466k/466k [00:00&lt;00:00, 20.6MB/s]"
          }
        },
        "2033c4a30ee44280b57e6712a7a566bf": {
          "model_module": "@jupyter-widgets/base",
          "model_name": "LayoutModel",
          "model_module_version": "1.2.0",
          "state": {
            "_model_module": "@jupyter-widgets/base",
            "_model_module_version": "1.2.0",
            "_model_name": "LayoutModel",
            "_view_count": null,
            "_view_module": "@jupyter-widgets/base",
            "_view_module_version": "1.2.0",
            "_view_name": "LayoutView",
            "align_content": null,
            "align_items": null,
            "align_self": null,
            "border": null,
            "bottom": null,
            "display": null,
            "flex": null,
            "flex_flow": null,
            "grid_area": null,
            "grid_auto_columns": null,
            "grid_auto_flow": null,
            "grid_auto_rows": null,
            "grid_column": null,
            "grid_gap": null,
            "grid_row": null,
            "grid_template_areas": null,
            "grid_template_columns": null,
            "grid_template_rows": null,
            "height": null,
            "justify_content": null,
            "justify_items": null,
            "left": null,
            "margin": null,
            "max_height": null,
            "max_width": null,
            "min_height": null,
            "min_width": null,
            "object_fit": null,
            "object_position": null,
            "order": null,
            "overflow": null,
            "overflow_x": null,
            "overflow_y": null,
            "padding": null,
            "right": null,
            "top": null,
            "visibility": null,
            "width": null
          }
        },
        "3fe6423c7cd1433db73cd5ef40dabdb9": {
          "model_module": "@jupyter-widgets/base",
          "model_name": "LayoutModel",
          "model_module_version": "1.2.0",
          "state": {
            "_model_module": "@jupyter-widgets/base",
            "_model_module_version": "1.2.0",
            "_model_name": "LayoutModel",
            "_view_count": null,
            "_view_module": "@jupyter-widgets/base",
            "_view_module_version": "1.2.0",
            "_view_name": "LayoutView",
            "align_content": null,
            "align_items": null,
            "align_self": null,
            "border": null,
            "bottom": null,
            "display": null,
            "flex": null,
            "flex_flow": null,
            "grid_area": null,
            "grid_auto_columns": null,
            "grid_auto_flow": null,
            "grid_auto_rows": null,
            "grid_column": null,
            "grid_gap": null,
            "grid_row": null,
            "grid_template_areas": null,
            "grid_template_columns": null,
            "grid_template_rows": null,
            "height": null,
            "justify_content": null,
            "justify_items": null,
            "left": null,
            "margin": null,
            "max_height": null,
            "max_width": null,
            "min_height": null,
            "min_width": null,
            "object_fit": null,
            "object_position": null,
            "order": null,
            "overflow": null,
            "overflow_x": null,
            "overflow_y": null,
            "padding": null,
            "right": null,
            "top": null,
            "visibility": null,
            "width": null
          }
        },
        "c64fe583cf5d489c94f0f82261dbf079": {
          "model_module": "@jupyter-widgets/controls",
          "model_name": "DescriptionStyleModel",
          "model_module_version": "1.5.0",
          "state": {
            "_model_module": "@jupyter-widgets/controls",
            "_model_module_version": "1.5.0",
            "_model_name": "DescriptionStyleModel",
            "_view_count": null,
            "_view_module": "@jupyter-widgets/base",
            "_view_module_version": "1.2.0",
            "_view_name": "StyleView",
            "description_width": ""
          }
        },
        "e9d488ce98b54bcdb077333377823e69": {
          "model_module": "@jupyter-widgets/base",
          "model_name": "LayoutModel",
          "model_module_version": "1.2.0",
          "state": {
            "_model_module": "@jupyter-widgets/base",
            "_model_module_version": "1.2.0",
            "_model_name": "LayoutModel",
            "_view_count": null,
            "_view_module": "@jupyter-widgets/base",
            "_view_module_version": "1.2.0",
            "_view_name": "LayoutView",
            "align_content": null,
            "align_items": null,
            "align_self": null,
            "border": null,
            "bottom": null,
            "display": null,
            "flex": null,
            "flex_flow": null,
            "grid_area": null,
            "grid_auto_columns": null,
            "grid_auto_flow": null,
            "grid_auto_rows": null,
            "grid_column": null,
            "grid_gap": null,
            "grid_row": null,
            "grid_template_areas": null,
            "grid_template_columns": null,
            "grid_template_rows": null,
            "height": null,
            "justify_content": null,
            "justify_items": null,
            "left": null,
            "margin": null,
            "max_height": null,
            "max_width": null,
            "min_height": null,
            "min_width": null,
            "object_fit": null,
            "object_position": null,
            "order": null,
            "overflow": null,
            "overflow_x": null,
            "overflow_y": null,
            "padding": null,
            "right": null,
            "top": null,
            "visibility": null,
            "width": null
          }
        },
        "3d2fde838d9041fa9d1d7937b726f99a": {
          "model_module": "@jupyter-widgets/controls",
          "model_name": "ProgressStyleModel",
          "model_module_version": "1.5.0",
          "state": {
            "_model_module": "@jupyter-widgets/controls",
            "_model_module_version": "1.5.0",
            "_model_name": "ProgressStyleModel",
            "_view_count": null,
            "_view_module": "@jupyter-widgets/base",
            "_view_module_version": "1.2.0",
            "_view_name": "StyleView",
            "bar_color": null,
            "description_width": ""
          }
        },
        "f1e55fe91c8d4d6fb14b19a111afbf57": {
          "model_module": "@jupyter-widgets/base",
          "model_name": "LayoutModel",
          "model_module_version": "1.2.0",
          "state": {
            "_model_module": "@jupyter-widgets/base",
            "_model_module_version": "1.2.0",
            "_model_name": "LayoutModel",
            "_view_count": null,
            "_view_module": "@jupyter-widgets/base",
            "_view_module_version": "1.2.0",
            "_view_name": "LayoutView",
            "align_content": null,
            "align_items": null,
            "align_self": null,
            "border": null,
            "bottom": null,
            "display": null,
            "flex": null,
            "flex_flow": null,
            "grid_area": null,
            "grid_auto_columns": null,
            "grid_auto_flow": null,
            "grid_auto_rows": null,
            "grid_column": null,
            "grid_gap": null,
            "grid_row": null,
            "grid_template_areas": null,
            "grid_template_columns": null,
            "grid_template_rows": null,
            "height": null,
            "justify_content": null,
            "justify_items": null,
            "left": null,
            "margin": null,
            "max_height": null,
            "max_width": null,
            "min_height": null,
            "min_width": null,
            "object_fit": null,
            "object_position": null,
            "order": null,
            "overflow": null,
            "overflow_x": null,
            "overflow_y": null,
            "padding": null,
            "right": null,
            "top": null,
            "visibility": null,
            "width": null
          }
        },
        "3054bface5644051afce96feebf1b6ac": {
          "model_module": "@jupyter-widgets/controls",
          "model_name": "DescriptionStyleModel",
          "model_module_version": "1.5.0",
          "state": {
            "_model_module": "@jupyter-widgets/controls",
            "_model_module_version": "1.5.0",
            "_model_name": "DescriptionStyleModel",
            "_view_count": null,
            "_view_module": "@jupyter-widgets/base",
            "_view_module_version": "1.2.0",
            "_view_name": "StyleView",
            "description_width": ""
          }
        },
        "dac1e0d4352b4c28b40feb7c7b24ab4f": {
          "model_module": "@jupyter-widgets/controls",
          "model_name": "HBoxModel",
          "model_module_version": "1.5.0",
          "state": {
            "_dom_classes": [],
            "_model_module": "@jupyter-widgets/controls",
            "_model_module_version": "1.5.0",
            "_model_name": "HBoxModel",
            "_view_count": null,
            "_view_module": "@jupyter-widgets/controls",
            "_view_module_version": "1.5.0",
            "_view_name": "HBoxView",
            "box_style": "",
            "children": [
              "IPY_MODEL_e607639742a144d7a5b8615ff2d01698",
              "IPY_MODEL_e30909ba1eb346929e9bfee20894a8df",
              "IPY_MODEL_f050cb7ed3904ccd8d4f224065529fac"
            ],
            "layout": "IPY_MODEL_3165be6e80354969aed998ce1416c89a"
          }
        },
        "e607639742a144d7a5b8615ff2d01698": {
          "model_module": "@jupyter-widgets/controls",
          "model_name": "HTMLModel",
          "model_module_version": "1.5.0",
          "state": {
            "_dom_classes": [],
            "_model_module": "@jupyter-widgets/controls",
            "_model_module_version": "1.5.0",
            "_model_name": "HTMLModel",
            "_view_count": null,
            "_view_module": "@jupyter-widgets/controls",
            "_view_module_version": "1.5.0",
            "_view_name": "HTMLView",
            "description": "",
            "description_tooltip": null,
            "layout": "IPY_MODEL_a9f6655ebb6646fda0e27ff4d1cc8f14",
            "placeholder": "​",
            "style": "IPY_MODEL_fdf0a0f75a414771a10ccf106861d5e3",
            "value": "config.json: 100%"
          }
        },
        "e30909ba1eb346929e9bfee20894a8df": {
          "model_module": "@jupyter-widgets/controls",
          "model_name": "FloatProgressModel",
          "model_module_version": "1.5.0",
          "state": {
            "_dom_classes": [],
            "_model_module": "@jupyter-widgets/controls",
            "_model_module_version": "1.5.0",
            "_model_name": "FloatProgressModel",
            "_view_count": null,
            "_view_module": "@jupyter-widgets/controls",
            "_view_module_version": "1.5.0",
            "_view_name": "ProgressView",
            "bar_style": "success",
            "description": "",
            "description_tooltip": null,
            "layout": "IPY_MODEL_c7b42bbc72934a71823c6c21e136b286",
            "max": 570,
            "min": 0,
            "orientation": "horizontal",
            "style": "IPY_MODEL_23b729b9ffc34238930d6db155dc746e",
            "value": 570
          }
        },
        "f050cb7ed3904ccd8d4f224065529fac": {
          "model_module": "@jupyter-widgets/controls",
          "model_name": "HTMLModel",
          "model_module_version": "1.5.0",
          "state": {
            "_dom_classes": [],
            "_model_module": "@jupyter-widgets/controls",
            "_model_module_version": "1.5.0",
            "_model_name": "HTMLModel",
            "_view_count": null,
            "_view_module": "@jupyter-widgets/controls",
            "_view_module_version": "1.5.0",
            "_view_name": "HTMLView",
            "description": "",
            "description_tooltip": null,
            "layout": "IPY_MODEL_ded5e79575b24073bdd89c01fcd36fd5",
            "placeholder": "​",
            "style": "IPY_MODEL_63ecdbce593e464b9a6f4d345d16537e",
            "value": " 570/570 [00:00&lt;00:00, 22.6kB/s]"
          }
        },
        "3165be6e80354969aed998ce1416c89a": {
          "model_module": "@jupyter-widgets/base",
          "model_name": "LayoutModel",
          "model_module_version": "1.2.0",
          "state": {
            "_model_module": "@jupyter-widgets/base",
            "_model_module_version": "1.2.0",
            "_model_name": "LayoutModel",
            "_view_count": null,
            "_view_module": "@jupyter-widgets/base",
            "_view_module_version": "1.2.0",
            "_view_name": "LayoutView",
            "align_content": null,
            "align_items": null,
            "align_self": null,
            "border": null,
            "bottom": null,
            "display": null,
            "flex": null,
            "flex_flow": null,
            "grid_area": null,
            "grid_auto_columns": null,
            "grid_auto_flow": null,
            "grid_auto_rows": null,
            "grid_column": null,
            "grid_gap": null,
            "grid_row": null,
            "grid_template_areas": null,
            "grid_template_columns": null,
            "grid_template_rows": null,
            "height": null,
            "justify_content": null,
            "justify_items": null,
            "left": null,
            "margin": null,
            "max_height": null,
            "max_width": null,
            "min_height": null,
            "min_width": null,
            "object_fit": null,
            "object_position": null,
            "order": null,
            "overflow": null,
            "overflow_x": null,
            "overflow_y": null,
            "padding": null,
            "right": null,
            "top": null,
            "visibility": null,
            "width": null
          }
        },
        "a9f6655ebb6646fda0e27ff4d1cc8f14": {
          "model_module": "@jupyter-widgets/base",
          "model_name": "LayoutModel",
          "model_module_version": "1.2.0",
          "state": {
            "_model_module": "@jupyter-widgets/base",
            "_model_module_version": "1.2.0",
            "_model_name": "LayoutModel",
            "_view_count": null,
            "_view_module": "@jupyter-widgets/base",
            "_view_module_version": "1.2.0",
            "_view_name": "LayoutView",
            "align_content": null,
            "align_items": null,
            "align_self": null,
            "border": null,
            "bottom": null,
            "display": null,
            "flex": null,
            "flex_flow": null,
            "grid_area": null,
            "grid_auto_columns": null,
            "grid_auto_flow": null,
            "grid_auto_rows": null,
            "grid_column": null,
            "grid_gap": null,
            "grid_row": null,
            "grid_template_areas": null,
            "grid_template_columns": null,
            "grid_template_rows": null,
            "height": null,
            "justify_content": null,
            "justify_items": null,
            "left": null,
            "margin": null,
            "max_height": null,
            "max_width": null,
            "min_height": null,
            "min_width": null,
            "object_fit": null,
            "object_position": null,
            "order": null,
            "overflow": null,
            "overflow_x": null,
            "overflow_y": null,
            "padding": null,
            "right": null,
            "top": null,
            "visibility": null,
            "width": null
          }
        },
        "fdf0a0f75a414771a10ccf106861d5e3": {
          "model_module": "@jupyter-widgets/controls",
          "model_name": "DescriptionStyleModel",
          "model_module_version": "1.5.0",
          "state": {
            "_model_module": "@jupyter-widgets/controls",
            "_model_module_version": "1.5.0",
            "_model_name": "DescriptionStyleModel",
            "_view_count": null,
            "_view_module": "@jupyter-widgets/base",
            "_view_module_version": "1.2.0",
            "_view_name": "StyleView",
            "description_width": ""
          }
        },
        "c7b42bbc72934a71823c6c21e136b286": {
          "model_module": "@jupyter-widgets/base",
          "model_name": "LayoutModel",
          "model_module_version": "1.2.0",
          "state": {
            "_model_module": "@jupyter-widgets/base",
            "_model_module_version": "1.2.0",
            "_model_name": "LayoutModel",
            "_view_count": null,
            "_view_module": "@jupyter-widgets/base",
            "_view_module_version": "1.2.0",
            "_view_name": "LayoutView",
            "align_content": null,
            "align_items": null,
            "align_self": null,
            "border": null,
            "bottom": null,
            "display": null,
            "flex": null,
            "flex_flow": null,
            "grid_area": null,
            "grid_auto_columns": null,
            "grid_auto_flow": null,
            "grid_auto_rows": null,
            "grid_column": null,
            "grid_gap": null,
            "grid_row": null,
            "grid_template_areas": null,
            "grid_template_columns": null,
            "grid_template_rows": null,
            "height": null,
            "justify_content": null,
            "justify_items": null,
            "left": null,
            "margin": null,
            "max_height": null,
            "max_width": null,
            "min_height": null,
            "min_width": null,
            "object_fit": null,
            "object_position": null,
            "order": null,
            "overflow": null,
            "overflow_x": null,
            "overflow_y": null,
            "padding": null,
            "right": null,
            "top": null,
            "visibility": null,
            "width": null
          }
        },
        "23b729b9ffc34238930d6db155dc746e": {
          "model_module": "@jupyter-widgets/controls",
          "model_name": "ProgressStyleModel",
          "model_module_version": "1.5.0",
          "state": {
            "_model_module": "@jupyter-widgets/controls",
            "_model_module_version": "1.5.0",
            "_model_name": "ProgressStyleModel",
            "_view_count": null,
            "_view_module": "@jupyter-widgets/base",
            "_view_module_version": "1.2.0",
            "_view_name": "StyleView",
            "bar_color": null,
            "description_width": ""
          }
        },
        "ded5e79575b24073bdd89c01fcd36fd5": {
          "model_module": "@jupyter-widgets/base",
          "model_name": "LayoutModel",
          "model_module_version": "1.2.0",
          "state": {
            "_model_module": "@jupyter-widgets/base",
            "_model_module_version": "1.2.0",
            "_model_name": "LayoutModel",
            "_view_count": null,
            "_view_module": "@jupyter-widgets/base",
            "_view_module_version": "1.2.0",
            "_view_name": "LayoutView",
            "align_content": null,
            "align_items": null,
            "align_self": null,
            "border": null,
            "bottom": null,
            "display": null,
            "flex": null,
            "flex_flow": null,
            "grid_area": null,
            "grid_auto_columns": null,
            "grid_auto_flow": null,
            "grid_auto_rows": null,
            "grid_column": null,
            "grid_gap": null,
            "grid_row": null,
            "grid_template_areas": null,
            "grid_template_columns": null,
            "grid_template_rows": null,
            "height": null,
            "justify_content": null,
            "justify_items": null,
            "left": null,
            "margin": null,
            "max_height": null,
            "max_width": null,
            "min_height": null,
            "min_width": null,
            "object_fit": null,
            "object_position": null,
            "order": null,
            "overflow": null,
            "overflow_x": null,
            "overflow_y": null,
            "padding": null,
            "right": null,
            "top": null,
            "visibility": null,
            "width": null
          }
        },
        "63ecdbce593e464b9a6f4d345d16537e": {
          "model_module": "@jupyter-widgets/controls",
          "model_name": "DescriptionStyleModel",
          "model_module_version": "1.5.0",
          "state": {
            "_model_module": "@jupyter-widgets/controls",
            "_model_module_version": "1.5.0",
            "_model_name": "DescriptionStyleModel",
            "_view_count": null,
            "_view_module": "@jupyter-widgets/base",
            "_view_module_version": "1.2.0",
            "_view_name": "StyleView",
            "description_width": ""
          }
        },
        "db3cee5952ef4dc096674cc3fc53390d": {
          "model_module": "@jupyter-widgets/controls",
          "model_name": "HBoxModel",
          "model_module_version": "1.5.0",
          "state": {
            "_dom_classes": [],
            "_model_module": "@jupyter-widgets/controls",
            "_model_module_version": "1.5.0",
            "_model_name": "HBoxModel",
            "_view_count": null,
            "_view_module": "@jupyter-widgets/controls",
            "_view_module_version": "1.5.0",
            "_view_name": "HBoxView",
            "box_style": "",
            "children": [
              "IPY_MODEL_f8d762afa82c4323b71bb6f608a132b8",
              "IPY_MODEL_3eff9448b4ca40a8b2cb46760282fa80",
              "IPY_MODEL_d9d74f0748e44c2e836cc7c2703b7f02"
            ],
            "layout": "IPY_MODEL_ce98eea99752477f870d98c8f0bbbb48"
          }
        },
        "f8d762afa82c4323b71bb6f608a132b8": {
          "model_module": "@jupyter-widgets/controls",
          "model_name": "HTMLModel",
          "model_module_version": "1.5.0",
          "state": {
            "_dom_classes": [],
            "_model_module": "@jupyter-widgets/controls",
            "_model_module_version": "1.5.0",
            "_model_name": "HTMLModel",
            "_view_count": null,
            "_view_module": "@jupyter-widgets/controls",
            "_view_module_version": "1.5.0",
            "_view_name": "HTMLView",
            "description": "",
            "description_tooltip": null,
            "layout": "IPY_MODEL_4249ae00891c485eab3e849f21d60438",
            "placeholder": "​",
            "style": "IPY_MODEL_4ade03a83e904ff7acc815c786efa6ab",
            "value": "model.safetensors: 100%"
          }
        },
        "3eff9448b4ca40a8b2cb46760282fa80": {
          "model_module": "@jupyter-widgets/controls",
          "model_name": "FloatProgressModel",
          "model_module_version": "1.5.0",
          "state": {
            "_dom_classes": [],
            "_model_module": "@jupyter-widgets/controls",
            "_model_module_version": "1.5.0",
            "_model_name": "FloatProgressModel",
            "_view_count": null,
            "_view_module": "@jupyter-widgets/controls",
            "_view_module_version": "1.5.0",
            "_view_name": "ProgressView",
            "bar_style": "success",
            "description": "",
            "description_tooltip": null,
            "layout": "IPY_MODEL_e748899a51c24b34ad903dcaa1cf5ab4",
            "max": 440449768,
            "min": 0,
            "orientation": "horizontal",
            "style": "IPY_MODEL_f581669d2cc84809adeb32821fcf783c",
            "value": 440449768
          }
        },
        "d9d74f0748e44c2e836cc7c2703b7f02": {
          "model_module": "@jupyter-widgets/controls",
          "model_name": "HTMLModel",
          "model_module_version": "1.5.0",
          "state": {
            "_dom_classes": [],
            "_model_module": "@jupyter-widgets/controls",
            "_model_module_version": "1.5.0",
            "_model_name": "HTMLModel",
            "_view_count": null,
            "_view_module": "@jupyter-widgets/controls",
            "_view_module_version": "1.5.0",
            "_view_name": "HTMLView",
            "description": "",
            "description_tooltip": null,
            "layout": "IPY_MODEL_832ded2e75fa46bf9e2147e4005d87fc",
            "placeholder": "​",
            "style": "IPY_MODEL_fe06de13110542e29ad35dbd382a181e",
            "value": " 440M/440M [00:05&lt;00:00, 48.2MB/s]"
          }
        },
        "ce98eea99752477f870d98c8f0bbbb48": {
          "model_module": "@jupyter-widgets/base",
          "model_name": "LayoutModel",
          "model_module_version": "1.2.0",
          "state": {
            "_model_module": "@jupyter-widgets/base",
            "_model_module_version": "1.2.0",
            "_model_name": "LayoutModel",
            "_view_count": null,
            "_view_module": "@jupyter-widgets/base",
            "_view_module_version": "1.2.0",
            "_view_name": "LayoutView",
            "align_content": null,
            "align_items": null,
            "align_self": null,
            "border": null,
            "bottom": null,
            "display": null,
            "flex": null,
            "flex_flow": null,
            "grid_area": null,
            "grid_auto_columns": null,
            "grid_auto_flow": null,
            "grid_auto_rows": null,
            "grid_column": null,
            "grid_gap": null,
            "grid_row": null,
            "grid_template_areas": null,
            "grid_template_columns": null,
            "grid_template_rows": null,
            "height": null,
            "justify_content": null,
            "justify_items": null,
            "left": null,
            "margin": null,
            "max_height": null,
            "max_width": null,
            "min_height": null,
            "min_width": null,
            "object_fit": null,
            "object_position": null,
            "order": null,
            "overflow": null,
            "overflow_x": null,
            "overflow_y": null,
            "padding": null,
            "right": null,
            "top": null,
            "visibility": null,
            "width": null
          }
        },
        "4249ae00891c485eab3e849f21d60438": {
          "model_module": "@jupyter-widgets/base",
          "model_name": "LayoutModel",
          "model_module_version": "1.2.0",
          "state": {
            "_model_module": "@jupyter-widgets/base",
            "_model_module_version": "1.2.0",
            "_model_name": "LayoutModel",
            "_view_count": null,
            "_view_module": "@jupyter-widgets/base",
            "_view_module_version": "1.2.0",
            "_view_name": "LayoutView",
            "align_content": null,
            "align_items": null,
            "align_self": null,
            "border": null,
            "bottom": null,
            "display": null,
            "flex": null,
            "flex_flow": null,
            "grid_area": null,
            "grid_auto_columns": null,
            "grid_auto_flow": null,
            "grid_auto_rows": null,
            "grid_column": null,
            "grid_gap": null,
            "grid_row": null,
            "grid_template_areas": null,
            "grid_template_columns": null,
            "grid_template_rows": null,
            "height": null,
            "justify_content": null,
            "justify_items": null,
            "left": null,
            "margin": null,
            "max_height": null,
            "max_width": null,
            "min_height": null,
            "min_width": null,
            "object_fit": null,
            "object_position": null,
            "order": null,
            "overflow": null,
            "overflow_x": null,
            "overflow_y": null,
            "padding": null,
            "right": null,
            "top": null,
            "visibility": null,
            "width": null
          }
        },
        "4ade03a83e904ff7acc815c786efa6ab": {
          "model_module": "@jupyter-widgets/controls",
          "model_name": "DescriptionStyleModel",
          "model_module_version": "1.5.0",
          "state": {
            "_model_module": "@jupyter-widgets/controls",
            "_model_module_version": "1.5.0",
            "_model_name": "DescriptionStyleModel",
            "_view_count": null,
            "_view_module": "@jupyter-widgets/base",
            "_view_module_version": "1.2.0",
            "_view_name": "StyleView",
            "description_width": ""
          }
        },
        "e748899a51c24b34ad903dcaa1cf5ab4": {
          "model_module": "@jupyter-widgets/base",
          "model_name": "LayoutModel",
          "model_module_version": "1.2.0",
          "state": {
            "_model_module": "@jupyter-widgets/base",
            "_model_module_version": "1.2.0",
            "_model_name": "LayoutModel",
            "_view_count": null,
            "_view_module": "@jupyter-widgets/base",
            "_view_module_version": "1.2.0",
            "_view_name": "LayoutView",
            "align_content": null,
            "align_items": null,
            "align_self": null,
            "border": null,
            "bottom": null,
            "display": null,
            "flex": null,
            "flex_flow": null,
            "grid_area": null,
            "grid_auto_columns": null,
            "grid_auto_flow": null,
            "grid_auto_rows": null,
            "grid_column": null,
            "grid_gap": null,
            "grid_row": null,
            "grid_template_areas": null,
            "grid_template_columns": null,
            "grid_template_rows": null,
            "height": null,
            "justify_content": null,
            "justify_items": null,
            "left": null,
            "margin": null,
            "max_height": null,
            "max_width": null,
            "min_height": null,
            "min_width": null,
            "object_fit": null,
            "object_position": null,
            "order": null,
            "overflow": null,
            "overflow_x": null,
            "overflow_y": null,
            "padding": null,
            "right": null,
            "top": null,
            "visibility": null,
            "width": null
          }
        },
        "f581669d2cc84809adeb32821fcf783c": {
          "model_module": "@jupyter-widgets/controls",
          "model_name": "ProgressStyleModel",
          "model_module_version": "1.5.0",
          "state": {
            "_model_module": "@jupyter-widgets/controls",
            "_model_module_version": "1.5.0",
            "_model_name": "ProgressStyleModel",
            "_view_count": null,
            "_view_module": "@jupyter-widgets/base",
            "_view_module_version": "1.2.0",
            "_view_name": "StyleView",
            "bar_color": null,
            "description_width": ""
          }
        },
        "832ded2e75fa46bf9e2147e4005d87fc": {
          "model_module": "@jupyter-widgets/base",
          "model_name": "LayoutModel",
          "model_module_version": "1.2.0",
          "state": {
            "_model_module": "@jupyter-widgets/base",
            "_model_module_version": "1.2.0",
            "_model_name": "LayoutModel",
            "_view_count": null,
            "_view_module": "@jupyter-widgets/base",
            "_view_module_version": "1.2.0",
            "_view_name": "LayoutView",
            "align_content": null,
            "align_items": null,
            "align_self": null,
            "border": null,
            "bottom": null,
            "display": null,
            "flex": null,
            "flex_flow": null,
            "grid_area": null,
            "grid_auto_columns": null,
            "grid_auto_flow": null,
            "grid_auto_rows": null,
            "grid_column": null,
            "grid_gap": null,
            "grid_row": null,
            "grid_template_areas": null,
            "grid_template_columns": null,
            "grid_template_rows": null,
            "height": null,
            "justify_content": null,
            "justify_items": null,
            "left": null,
            "margin": null,
            "max_height": null,
            "max_width": null,
            "min_height": null,
            "min_width": null,
            "object_fit": null,
            "object_position": null,
            "order": null,
            "overflow": null,
            "overflow_x": null,
            "overflow_y": null,
            "padding": null,
            "right": null,
            "top": null,
            "visibility": null,
            "width": null
          }
        },
        "fe06de13110542e29ad35dbd382a181e": {
          "model_module": "@jupyter-widgets/controls",
          "model_name": "DescriptionStyleModel",
          "model_module_version": "1.5.0",
          "state": {
            "_model_module": "@jupyter-widgets/controls",
            "_model_module_version": "1.5.0",
            "_model_name": "DescriptionStyleModel",
            "_view_count": null,
            "_view_module": "@jupyter-widgets/base",
            "_view_module_version": "1.2.0",
            "_view_name": "StyleView",
            "description_width": ""
          }
        },
        "9885f51708a04c94bb2e31f69ddd3eae": {
          "model_module": "@jupyter-widgets/controls",
          "model_name": "HBoxModel",
          "model_module_version": "1.5.0",
          "state": {
            "_dom_classes": [],
            "_model_module": "@jupyter-widgets/controls",
            "_model_module_version": "1.5.0",
            "_model_name": "HBoxModel",
            "_view_count": null,
            "_view_module": "@jupyter-widgets/controls",
            "_view_module_version": "1.5.0",
            "_view_name": "HBoxView",
            "box_style": "",
            "children": [
              "IPY_MODEL_d3be6195f8aa44a0aacf41cd35e8fe41",
              "IPY_MODEL_559f0bd087184f88bd8c6f06eb55c6f1",
              "IPY_MODEL_974d22dedadc460bac58015cefea5f31"
            ],
            "layout": "IPY_MODEL_47ff9d82b455418f9098f1056fc0eb5f"
          }
        },
        "d3be6195f8aa44a0aacf41cd35e8fe41": {
          "model_module": "@jupyter-widgets/controls",
          "model_name": "HTMLModel",
          "model_module_version": "1.5.0",
          "state": {
            "_dom_classes": [],
            "_model_module": "@jupyter-widgets/controls",
            "_model_module_version": "1.5.0",
            "_model_name": "HTMLModel",
            "_view_count": null,
            "_view_module": "@jupyter-widgets/controls",
            "_view_module_version": "1.5.0",
            "_view_name": "HTMLView",
            "description": "",
            "description_tooltip": null,
            "layout": "IPY_MODEL_1dba6d47d8bb438ea10b40b11d42cc91",
            "placeholder": "​",
            "style": "IPY_MODEL_9d304962f1e148b995b20bc649fb6069",
            "value": "tokenizer_config.json: 100%"
          }
        },
        "559f0bd087184f88bd8c6f06eb55c6f1": {
          "model_module": "@jupyter-widgets/controls",
          "model_name": "FloatProgressModel",
          "model_module_version": "1.5.0",
          "state": {
            "_dom_classes": [],
            "_model_module": "@jupyter-widgets/controls",
            "_model_module_version": "1.5.0",
            "_model_name": "FloatProgressModel",
            "_view_count": null,
            "_view_module": "@jupyter-widgets/controls",
            "_view_module_version": "1.5.0",
            "_view_name": "ProgressView",
            "bar_style": "success",
            "description": "",
            "description_tooltip": null,
            "layout": "IPY_MODEL_f6f4ee4102834ef5b39d3b3648d637a4",
            "max": 52,
            "min": 0,
            "orientation": "horizontal",
            "style": "IPY_MODEL_0a93d03d880d4ca4baf21383e6b1145e",
            "value": 52
          }
        },
        "974d22dedadc460bac58015cefea5f31": {
          "model_module": "@jupyter-widgets/controls",
          "model_name": "HTMLModel",
          "model_module_version": "1.5.0",
          "state": {
            "_dom_classes": [],
            "_model_module": "@jupyter-widgets/controls",
            "_model_module_version": "1.5.0",
            "_model_name": "HTMLModel",
            "_view_count": null,
            "_view_module": "@jupyter-widgets/controls",
            "_view_module_version": "1.5.0",
            "_view_name": "HTMLView",
            "description": "",
            "description_tooltip": null,
            "layout": "IPY_MODEL_472b8679082a4a95b3d6d21500d1de3a",
            "placeholder": "​",
            "style": "IPY_MODEL_2906705c2c01421e89bfc332fa729aac",
            "value": " 52.0/52.0 [00:00&lt;00:00, 490B/s]"
          }
        },
        "47ff9d82b455418f9098f1056fc0eb5f": {
          "model_module": "@jupyter-widgets/base",
          "model_name": "LayoutModel",
          "model_module_version": "1.2.0",
          "state": {
            "_model_module": "@jupyter-widgets/base",
            "_model_module_version": "1.2.0",
            "_model_name": "LayoutModel",
            "_view_count": null,
            "_view_module": "@jupyter-widgets/base",
            "_view_module_version": "1.2.0",
            "_view_name": "LayoutView",
            "align_content": null,
            "align_items": null,
            "align_self": null,
            "border": null,
            "bottom": null,
            "display": null,
            "flex": null,
            "flex_flow": null,
            "grid_area": null,
            "grid_auto_columns": null,
            "grid_auto_flow": null,
            "grid_auto_rows": null,
            "grid_column": null,
            "grid_gap": null,
            "grid_row": null,
            "grid_template_areas": null,
            "grid_template_columns": null,
            "grid_template_rows": null,
            "height": null,
            "justify_content": null,
            "justify_items": null,
            "left": null,
            "margin": null,
            "max_height": null,
            "max_width": null,
            "min_height": null,
            "min_width": null,
            "object_fit": null,
            "object_position": null,
            "order": null,
            "overflow": null,
            "overflow_x": null,
            "overflow_y": null,
            "padding": null,
            "right": null,
            "top": null,
            "visibility": null,
            "width": null
          }
        },
        "1dba6d47d8bb438ea10b40b11d42cc91": {
          "model_module": "@jupyter-widgets/base",
          "model_name": "LayoutModel",
          "model_module_version": "1.2.0",
          "state": {
            "_model_module": "@jupyter-widgets/base",
            "_model_module_version": "1.2.0",
            "_model_name": "LayoutModel",
            "_view_count": null,
            "_view_module": "@jupyter-widgets/base",
            "_view_module_version": "1.2.0",
            "_view_name": "LayoutView",
            "align_content": null,
            "align_items": null,
            "align_self": null,
            "border": null,
            "bottom": null,
            "display": null,
            "flex": null,
            "flex_flow": null,
            "grid_area": null,
            "grid_auto_columns": null,
            "grid_auto_flow": null,
            "grid_auto_rows": null,
            "grid_column": null,
            "grid_gap": null,
            "grid_row": null,
            "grid_template_areas": null,
            "grid_template_columns": null,
            "grid_template_rows": null,
            "height": null,
            "justify_content": null,
            "justify_items": null,
            "left": null,
            "margin": null,
            "max_height": null,
            "max_width": null,
            "min_height": null,
            "min_width": null,
            "object_fit": null,
            "object_position": null,
            "order": null,
            "overflow": null,
            "overflow_x": null,
            "overflow_y": null,
            "padding": null,
            "right": null,
            "top": null,
            "visibility": null,
            "width": null
          }
        },
        "9d304962f1e148b995b20bc649fb6069": {
          "model_module": "@jupyter-widgets/controls",
          "model_name": "DescriptionStyleModel",
          "model_module_version": "1.5.0",
          "state": {
            "_model_module": "@jupyter-widgets/controls",
            "_model_module_version": "1.5.0",
            "_model_name": "DescriptionStyleModel",
            "_view_count": null,
            "_view_module": "@jupyter-widgets/base",
            "_view_module_version": "1.2.0",
            "_view_name": "StyleView",
            "description_width": ""
          }
        },
        "f6f4ee4102834ef5b39d3b3648d637a4": {
          "model_module": "@jupyter-widgets/base",
          "model_name": "LayoutModel",
          "model_module_version": "1.2.0",
          "state": {
            "_model_module": "@jupyter-widgets/base",
            "_model_module_version": "1.2.0",
            "_model_name": "LayoutModel",
            "_view_count": null,
            "_view_module": "@jupyter-widgets/base",
            "_view_module_version": "1.2.0",
            "_view_name": "LayoutView",
            "align_content": null,
            "align_items": null,
            "align_self": null,
            "border": null,
            "bottom": null,
            "display": null,
            "flex": null,
            "flex_flow": null,
            "grid_area": null,
            "grid_auto_columns": null,
            "grid_auto_flow": null,
            "grid_auto_rows": null,
            "grid_column": null,
            "grid_gap": null,
            "grid_row": null,
            "grid_template_areas": null,
            "grid_template_columns": null,
            "grid_template_rows": null,
            "height": null,
            "justify_content": null,
            "justify_items": null,
            "left": null,
            "margin": null,
            "max_height": null,
            "max_width": null,
            "min_height": null,
            "min_width": null,
            "object_fit": null,
            "object_position": null,
            "order": null,
            "overflow": null,
            "overflow_x": null,
            "overflow_y": null,
            "padding": null,
            "right": null,
            "top": null,
            "visibility": null,
            "width": null
          }
        },
        "0a93d03d880d4ca4baf21383e6b1145e": {
          "model_module": "@jupyter-widgets/controls",
          "model_name": "ProgressStyleModel",
          "model_module_version": "1.5.0",
          "state": {
            "_model_module": "@jupyter-widgets/controls",
            "_model_module_version": "1.5.0",
            "_model_name": "ProgressStyleModel",
            "_view_count": null,
            "_view_module": "@jupyter-widgets/base",
            "_view_module_version": "1.2.0",
            "_view_name": "StyleView",
            "bar_color": null,
            "description_width": ""
          }
        },
        "472b8679082a4a95b3d6d21500d1de3a": {
          "model_module": "@jupyter-widgets/base",
          "model_name": "LayoutModel",
          "model_module_version": "1.2.0",
          "state": {
            "_model_module": "@jupyter-widgets/base",
            "_model_module_version": "1.2.0",
            "_model_name": "LayoutModel",
            "_view_count": null,
            "_view_module": "@jupyter-widgets/base",
            "_view_module_version": "1.2.0",
            "_view_name": "LayoutView",
            "align_content": null,
            "align_items": null,
            "align_self": null,
            "border": null,
            "bottom": null,
            "display": null,
            "flex": null,
            "flex_flow": null,
            "grid_area": null,
            "grid_auto_columns": null,
            "grid_auto_flow": null,
            "grid_auto_rows": null,
            "grid_column": null,
            "grid_gap": null,
            "grid_row": null,
            "grid_template_areas": null,
            "grid_template_columns": null,
            "grid_template_rows": null,
            "height": null,
            "justify_content": null,
            "justify_items": null,
            "left": null,
            "margin": null,
            "max_height": null,
            "max_width": null,
            "min_height": null,
            "min_width": null,
            "object_fit": null,
            "object_position": null,
            "order": null,
            "overflow": null,
            "overflow_x": null,
            "overflow_y": null,
            "padding": null,
            "right": null,
            "top": null,
            "visibility": null,
            "width": null
          }
        },
        "2906705c2c01421e89bfc332fa729aac": {
          "model_module": "@jupyter-widgets/controls",
          "model_name": "DescriptionStyleModel",
          "model_module_version": "1.5.0",
          "state": {
            "_model_module": "@jupyter-widgets/controls",
            "_model_module_version": "1.5.0",
            "_model_name": "DescriptionStyleModel",
            "_view_count": null,
            "_view_module": "@jupyter-widgets/base",
            "_view_module_version": "1.2.0",
            "_view_name": "StyleView",
            "description_width": ""
          }
        },
        "c82fed929f64485885e5bb82788bbdb4": {
          "model_module": "@jupyter-widgets/controls",
          "model_name": "HBoxModel",
          "model_module_version": "1.5.0",
          "state": {
            "_dom_classes": [],
            "_model_module": "@jupyter-widgets/controls",
            "_model_module_version": "1.5.0",
            "_model_name": "HBoxModel",
            "_view_count": null,
            "_view_module": "@jupyter-widgets/controls",
            "_view_module_version": "1.5.0",
            "_view_name": "HBoxView",
            "box_style": "",
            "children": [
              "IPY_MODEL_bdfbba212c2c49f794b6b11ab10aeb45",
              "IPY_MODEL_8fb6ae8f9fbf4f3093938f2002fa6b8d",
              "IPY_MODEL_48d40dfcf0434b339e6aebf09a559666"
            ],
            "layout": "IPY_MODEL_78464bf522b949ebac8922157444473f"
          }
        },
        "bdfbba212c2c49f794b6b11ab10aeb45": {
          "model_module": "@jupyter-widgets/controls",
          "model_name": "HTMLModel",
          "model_module_version": "1.5.0",
          "state": {
            "_dom_classes": [],
            "_model_module": "@jupyter-widgets/controls",
            "_model_module_version": "1.5.0",
            "_model_name": "HTMLModel",
            "_view_count": null,
            "_view_module": "@jupyter-widgets/controls",
            "_view_module_version": "1.5.0",
            "_view_name": "HTMLView",
            "description": "",
            "description_tooltip": null,
            "layout": "IPY_MODEL_110d6034a182496abf6e56b2e9032315",
            "placeholder": "​",
            "style": "IPY_MODEL_ce8ffa7abd27433e94d98f2f679f999b",
            "value": "vocab.json: 100%"
          }
        },
        "8fb6ae8f9fbf4f3093938f2002fa6b8d": {
          "model_module": "@jupyter-widgets/controls",
          "model_name": "FloatProgressModel",
          "model_module_version": "1.5.0",
          "state": {
            "_dom_classes": [],
            "_model_module": "@jupyter-widgets/controls",
            "_model_module_version": "1.5.0",
            "_model_name": "FloatProgressModel",
            "_view_count": null,
            "_view_module": "@jupyter-widgets/controls",
            "_view_module_version": "1.5.0",
            "_view_name": "ProgressView",
            "bar_style": "success",
            "description": "",
            "description_tooltip": null,
            "layout": "IPY_MODEL_1340259c54ff45b69c81b0b3412ecaed",
            "max": 898825,
            "min": 0,
            "orientation": "horizontal",
            "style": "IPY_MODEL_1bb70da8aca64fd3881760d4a27ff236",
            "value": 898825
          }
        },
        "48d40dfcf0434b339e6aebf09a559666": {
          "model_module": "@jupyter-widgets/controls",
          "model_name": "HTMLModel",
          "model_module_version": "1.5.0",
          "state": {
            "_dom_classes": [],
            "_model_module": "@jupyter-widgets/controls",
            "_model_module_version": "1.5.0",
            "_model_name": "HTMLModel",
            "_view_count": null,
            "_view_module": "@jupyter-widgets/controls",
            "_view_module_version": "1.5.0",
            "_view_name": "HTMLView",
            "description": "",
            "description_tooltip": null,
            "layout": "IPY_MODEL_b571cd25da46450ab1a3514b5abd1a2e",
            "placeholder": "​",
            "style": "IPY_MODEL_12c34ced4a6b4bd894b5fbe04db3940d",
            "value": " 899k/899k [00:00&lt;00:00, 10.3MB/s]"
          }
        },
        "78464bf522b949ebac8922157444473f": {
          "model_module": "@jupyter-widgets/base",
          "model_name": "LayoutModel",
          "model_module_version": "1.2.0",
          "state": {
            "_model_module": "@jupyter-widgets/base",
            "_model_module_version": "1.2.0",
            "_model_name": "LayoutModel",
            "_view_count": null,
            "_view_module": "@jupyter-widgets/base",
            "_view_module_version": "1.2.0",
            "_view_name": "LayoutView",
            "align_content": null,
            "align_items": null,
            "align_self": null,
            "border": null,
            "bottom": null,
            "display": null,
            "flex": null,
            "flex_flow": null,
            "grid_area": null,
            "grid_auto_columns": null,
            "grid_auto_flow": null,
            "grid_auto_rows": null,
            "grid_column": null,
            "grid_gap": null,
            "grid_row": null,
            "grid_template_areas": null,
            "grid_template_columns": null,
            "grid_template_rows": null,
            "height": null,
            "justify_content": null,
            "justify_items": null,
            "left": null,
            "margin": null,
            "max_height": null,
            "max_width": null,
            "min_height": null,
            "min_width": null,
            "object_fit": null,
            "object_position": null,
            "order": null,
            "overflow": null,
            "overflow_x": null,
            "overflow_y": null,
            "padding": null,
            "right": null,
            "top": null,
            "visibility": null,
            "width": null
          }
        },
        "110d6034a182496abf6e56b2e9032315": {
          "model_module": "@jupyter-widgets/base",
          "model_name": "LayoutModel",
          "model_module_version": "1.2.0",
          "state": {
            "_model_module": "@jupyter-widgets/base",
            "_model_module_version": "1.2.0",
            "_model_name": "LayoutModel",
            "_view_count": null,
            "_view_module": "@jupyter-widgets/base",
            "_view_module_version": "1.2.0",
            "_view_name": "LayoutView",
            "align_content": null,
            "align_items": null,
            "align_self": null,
            "border": null,
            "bottom": null,
            "display": null,
            "flex": null,
            "flex_flow": null,
            "grid_area": null,
            "grid_auto_columns": null,
            "grid_auto_flow": null,
            "grid_auto_rows": null,
            "grid_column": null,
            "grid_gap": null,
            "grid_row": null,
            "grid_template_areas": null,
            "grid_template_columns": null,
            "grid_template_rows": null,
            "height": null,
            "justify_content": null,
            "justify_items": null,
            "left": null,
            "margin": null,
            "max_height": null,
            "max_width": null,
            "min_height": null,
            "min_width": null,
            "object_fit": null,
            "object_position": null,
            "order": null,
            "overflow": null,
            "overflow_x": null,
            "overflow_y": null,
            "padding": null,
            "right": null,
            "top": null,
            "visibility": null,
            "width": null
          }
        },
        "ce8ffa7abd27433e94d98f2f679f999b": {
          "model_module": "@jupyter-widgets/controls",
          "model_name": "DescriptionStyleModel",
          "model_module_version": "1.5.0",
          "state": {
            "_model_module": "@jupyter-widgets/controls",
            "_model_module_version": "1.5.0",
            "_model_name": "DescriptionStyleModel",
            "_view_count": null,
            "_view_module": "@jupyter-widgets/base",
            "_view_module_version": "1.2.0",
            "_view_name": "StyleView",
            "description_width": ""
          }
        },
        "1340259c54ff45b69c81b0b3412ecaed": {
          "model_module": "@jupyter-widgets/base",
          "model_name": "LayoutModel",
          "model_module_version": "1.2.0",
          "state": {
            "_model_module": "@jupyter-widgets/base",
            "_model_module_version": "1.2.0",
            "_model_name": "LayoutModel",
            "_view_count": null,
            "_view_module": "@jupyter-widgets/base",
            "_view_module_version": "1.2.0",
            "_view_name": "LayoutView",
            "align_content": null,
            "align_items": null,
            "align_self": null,
            "border": null,
            "bottom": null,
            "display": null,
            "flex": null,
            "flex_flow": null,
            "grid_area": null,
            "grid_auto_columns": null,
            "grid_auto_flow": null,
            "grid_auto_rows": null,
            "grid_column": null,
            "grid_gap": null,
            "grid_row": null,
            "grid_template_areas": null,
            "grid_template_columns": null,
            "grid_template_rows": null,
            "height": null,
            "justify_content": null,
            "justify_items": null,
            "left": null,
            "margin": null,
            "max_height": null,
            "max_width": null,
            "min_height": null,
            "min_width": null,
            "object_fit": null,
            "object_position": null,
            "order": null,
            "overflow": null,
            "overflow_x": null,
            "overflow_y": null,
            "padding": null,
            "right": null,
            "top": null,
            "visibility": null,
            "width": null
          }
        },
        "1bb70da8aca64fd3881760d4a27ff236": {
          "model_module": "@jupyter-widgets/controls",
          "model_name": "ProgressStyleModel",
          "model_module_version": "1.5.0",
          "state": {
            "_model_module": "@jupyter-widgets/controls",
            "_model_module_version": "1.5.0",
            "_model_name": "ProgressStyleModel",
            "_view_count": null,
            "_view_module": "@jupyter-widgets/base",
            "_view_module_version": "1.2.0",
            "_view_name": "StyleView",
            "bar_color": null,
            "description_width": ""
          }
        },
        "b571cd25da46450ab1a3514b5abd1a2e": {
          "model_module": "@jupyter-widgets/base",
          "model_name": "LayoutModel",
          "model_module_version": "1.2.0",
          "state": {
            "_model_module": "@jupyter-widgets/base",
            "_model_module_version": "1.2.0",
            "_model_name": "LayoutModel",
            "_view_count": null,
            "_view_module": "@jupyter-widgets/base",
            "_view_module_version": "1.2.0",
            "_view_name": "LayoutView",
            "align_content": null,
            "align_items": null,
            "align_self": null,
            "border": null,
            "bottom": null,
            "display": null,
            "flex": null,
            "flex_flow": null,
            "grid_area": null,
            "grid_auto_columns": null,
            "grid_auto_flow": null,
            "grid_auto_rows": null,
            "grid_column": null,
            "grid_gap": null,
            "grid_row": null,
            "grid_template_areas": null,
            "grid_template_columns": null,
            "grid_template_rows": null,
            "height": null,
            "justify_content": null,
            "justify_items": null,
            "left": null,
            "margin": null,
            "max_height": null,
            "max_width": null,
            "min_height": null,
            "min_width": null,
            "object_fit": null,
            "object_position": null,
            "order": null,
            "overflow": null,
            "overflow_x": null,
            "overflow_y": null,
            "padding": null,
            "right": null,
            "top": null,
            "visibility": null,
            "width": null
          }
        },
        "12c34ced4a6b4bd894b5fbe04db3940d": {
          "model_module": "@jupyter-widgets/controls",
          "model_name": "DescriptionStyleModel",
          "model_module_version": "1.5.0",
          "state": {
            "_model_module": "@jupyter-widgets/controls",
            "_model_module_version": "1.5.0",
            "_model_name": "DescriptionStyleModel",
            "_view_count": null,
            "_view_module": "@jupyter-widgets/base",
            "_view_module_version": "1.2.0",
            "_view_name": "StyleView",
            "description_width": ""
          }
        },
        "6be416413cec4d77a3f1a8d018941727": {
          "model_module": "@jupyter-widgets/controls",
          "model_name": "HBoxModel",
          "model_module_version": "1.5.0",
          "state": {
            "_dom_classes": [],
            "_model_module": "@jupyter-widgets/controls",
            "_model_module_version": "1.5.0",
            "_model_name": "HBoxModel",
            "_view_count": null,
            "_view_module": "@jupyter-widgets/controls",
            "_view_module_version": "1.5.0",
            "_view_name": "HBoxView",
            "box_style": "",
            "children": [
              "IPY_MODEL_4296028aaa47470f99e538db8dfcb079",
              "IPY_MODEL_fd3cfe91bb3f4342ae72747c527a9738",
              "IPY_MODEL_241ab434fece44a3ab3832b20a4fcfc4"
            ],
            "layout": "IPY_MODEL_de9db8a529b341df825d1650f8b04eae"
          }
        },
        "4296028aaa47470f99e538db8dfcb079": {
          "model_module": "@jupyter-widgets/controls",
          "model_name": "HTMLModel",
          "model_module_version": "1.5.0",
          "state": {
            "_dom_classes": [],
            "_model_module": "@jupyter-widgets/controls",
            "_model_module_version": "1.5.0",
            "_model_name": "HTMLModel",
            "_view_count": null,
            "_view_module": "@jupyter-widgets/controls",
            "_view_module_version": "1.5.0",
            "_view_name": "HTMLView",
            "description": "",
            "description_tooltip": null,
            "layout": "IPY_MODEL_a355da5790fe4226939cd7bc0cf3ee52",
            "placeholder": "​",
            "style": "IPY_MODEL_c1a3a4dad63a477ea31be572ba17ed2a",
            "value": "merges.txt: 100%"
          }
        },
        "fd3cfe91bb3f4342ae72747c527a9738": {
          "model_module": "@jupyter-widgets/controls",
          "model_name": "FloatProgressModel",
          "model_module_version": "1.5.0",
          "state": {
            "_dom_classes": [],
            "_model_module": "@jupyter-widgets/controls",
            "_model_module_version": "1.5.0",
            "_model_name": "FloatProgressModel",
            "_view_count": null,
            "_view_module": "@jupyter-widgets/controls",
            "_view_module_version": "1.5.0",
            "_view_name": "ProgressView",
            "bar_style": "success",
            "description": "",
            "description_tooltip": null,
            "layout": "IPY_MODEL_5277f8b459cd4f168e173dba63953ddb",
            "max": 456318,
            "min": 0,
            "orientation": "horizontal",
            "style": "IPY_MODEL_11e0054d524e4e03b6b8fa7640ebd818",
            "value": 456318
          }
        },
        "241ab434fece44a3ab3832b20a4fcfc4": {
          "model_module": "@jupyter-widgets/controls",
          "model_name": "HTMLModel",
          "model_module_version": "1.5.0",
          "state": {
            "_dom_classes": [],
            "_model_module": "@jupyter-widgets/controls",
            "_model_module_version": "1.5.0",
            "_model_name": "HTMLModel",
            "_view_count": null,
            "_view_module": "@jupyter-widgets/controls",
            "_view_module_version": "1.5.0",
            "_view_name": "HTMLView",
            "description": "",
            "description_tooltip": null,
            "layout": "IPY_MODEL_db2e1cf86e9447ed92188b74b27df86e",
            "placeholder": "​",
            "style": "IPY_MODEL_10cfaf60c6da483ba72228a18da0fe2d",
            "value": " 456k/456k [00:00&lt;00:00, 5.27MB/s]"
          }
        },
        "de9db8a529b341df825d1650f8b04eae": {
          "model_module": "@jupyter-widgets/base",
          "model_name": "LayoutModel",
          "model_module_version": "1.2.0",
          "state": {
            "_model_module": "@jupyter-widgets/base",
            "_model_module_version": "1.2.0",
            "_model_name": "LayoutModel",
            "_view_count": null,
            "_view_module": "@jupyter-widgets/base",
            "_view_module_version": "1.2.0",
            "_view_name": "LayoutView",
            "align_content": null,
            "align_items": null,
            "align_self": null,
            "border": null,
            "bottom": null,
            "display": null,
            "flex": null,
            "flex_flow": null,
            "grid_area": null,
            "grid_auto_columns": null,
            "grid_auto_flow": null,
            "grid_auto_rows": null,
            "grid_column": null,
            "grid_gap": null,
            "grid_row": null,
            "grid_template_areas": null,
            "grid_template_columns": null,
            "grid_template_rows": null,
            "height": null,
            "justify_content": null,
            "justify_items": null,
            "left": null,
            "margin": null,
            "max_height": null,
            "max_width": null,
            "min_height": null,
            "min_width": null,
            "object_fit": null,
            "object_position": null,
            "order": null,
            "overflow": null,
            "overflow_x": null,
            "overflow_y": null,
            "padding": null,
            "right": null,
            "top": null,
            "visibility": null,
            "width": null
          }
        },
        "a355da5790fe4226939cd7bc0cf3ee52": {
          "model_module": "@jupyter-widgets/base",
          "model_name": "LayoutModel",
          "model_module_version": "1.2.0",
          "state": {
            "_model_module": "@jupyter-widgets/base",
            "_model_module_version": "1.2.0",
            "_model_name": "LayoutModel",
            "_view_count": null,
            "_view_module": "@jupyter-widgets/base",
            "_view_module_version": "1.2.0",
            "_view_name": "LayoutView",
            "align_content": null,
            "align_items": null,
            "align_self": null,
            "border": null,
            "bottom": null,
            "display": null,
            "flex": null,
            "flex_flow": null,
            "grid_area": null,
            "grid_auto_columns": null,
            "grid_auto_flow": null,
            "grid_auto_rows": null,
            "grid_column": null,
            "grid_gap": null,
            "grid_row": null,
            "grid_template_areas": null,
            "grid_template_columns": null,
            "grid_template_rows": null,
            "height": null,
            "justify_content": null,
            "justify_items": null,
            "left": null,
            "margin": null,
            "max_height": null,
            "max_width": null,
            "min_height": null,
            "min_width": null,
            "object_fit": null,
            "object_position": null,
            "order": null,
            "overflow": null,
            "overflow_x": null,
            "overflow_y": null,
            "padding": null,
            "right": null,
            "top": null,
            "visibility": null,
            "width": null
          }
        },
        "c1a3a4dad63a477ea31be572ba17ed2a": {
          "model_module": "@jupyter-widgets/controls",
          "model_name": "DescriptionStyleModel",
          "model_module_version": "1.5.0",
          "state": {
            "_model_module": "@jupyter-widgets/controls",
            "_model_module_version": "1.5.0",
            "_model_name": "DescriptionStyleModel",
            "_view_count": null,
            "_view_module": "@jupyter-widgets/base",
            "_view_module_version": "1.2.0",
            "_view_name": "StyleView",
            "description_width": ""
          }
        },
        "5277f8b459cd4f168e173dba63953ddb": {
          "model_module": "@jupyter-widgets/base",
          "model_name": "LayoutModel",
          "model_module_version": "1.2.0",
          "state": {
            "_model_module": "@jupyter-widgets/base",
            "_model_module_version": "1.2.0",
            "_model_name": "LayoutModel",
            "_view_count": null,
            "_view_module": "@jupyter-widgets/base",
            "_view_module_version": "1.2.0",
            "_view_name": "LayoutView",
            "align_content": null,
            "align_items": null,
            "align_self": null,
            "border": null,
            "bottom": null,
            "display": null,
            "flex": null,
            "flex_flow": null,
            "grid_area": null,
            "grid_auto_columns": null,
            "grid_auto_flow": null,
            "grid_auto_rows": null,
            "grid_column": null,
            "grid_gap": null,
            "grid_row": null,
            "grid_template_areas": null,
            "grid_template_columns": null,
            "grid_template_rows": null,
            "height": null,
            "justify_content": null,
            "justify_items": null,
            "left": null,
            "margin": null,
            "max_height": null,
            "max_width": null,
            "min_height": null,
            "min_width": null,
            "object_fit": null,
            "object_position": null,
            "order": null,
            "overflow": null,
            "overflow_x": null,
            "overflow_y": null,
            "padding": null,
            "right": null,
            "top": null,
            "visibility": null,
            "width": null
          }
        },
        "11e0054d524e4e03b6b8fa7640ebd818": {
          "model_module": "@jupyter-widgets/controls",
          "model_name": "ProgressStyleModel",
          "model_module_version": "1.5.0",
          "state": {
            "_model_module": "@jupyter-widgets/controls",
            "_model_module_version": "1.5.0",
            "_model_name": "ProgressStyleModel",
            "_view_count": null,
            "_view_module": "@jupyter-widgets/base",
            "_view_module_version": "1.2.0",
            "_view_name": "StyleView",
            "bar_color": null,
            "description_width": ""
          }
        },
        "db2e1cf86e9447ed92188b74b27df86e": {
          "model_module": "@jupyter-widgets/base",
          "model_name": "LayoutModel",
          "model_module_version": "1.2.0",
          "state": {
            "_model_module": "@jupyter-widgets/base",
            "_model_module_version": "1.2.0",
            "_model_name": "LayoutModel",
            "_view_count": null,
            "_view_module": "@jupyter-widgets/base",
            "_view_module_version": "1.2.0",
            "_view_name": "LayoutView",
            "align_content": null,
            "align_items": null,
            "align_self": null,
            "border": null,
            "bottom": null,
            "display": null,
            "flex": null,
            "flex_flow": null,
            "grid_area": null,
            "grid_auto_columns": null,
            "grid_auto_flow": null,
            "grid_auto_rows": null,
            "grid_column": null,
            "grid_gap": null,
            "grid_row": null,
            "grid_template_areas": null,
            "grid_template_columns": null,
            "grid_template_rows": null,
            "height": null,
            "justify_content": null,
            "justify_items": null,
            "left": null,
            "margin": null,
            "max_height": null,
            "max_width": null,
            "min_height": null,
            "min_width": null,
            "object_fit": null,
            "object_position": null,
            "order": null,
            "overflow": null,
            "overflow_x": null,
            "overflow_y": null,
            "padding": null,
            "right": null,
            "top": null,
            "visibility": null,
            "width": null
          }
        },
        "10cfaf60c6da483ba72228a18da0fe2d": {
          "model_module": "@jupyter-widgets/controls",
          "model_name": "DescriptionStyleModel",
          "model_module_version": "1.5.0",
          "state": {
            "_model_module": "@jupyter-widgets/controls",
            "_model_module_version": "1.5.0",
            "_model_name": "DescriptionStyleModel",
            "_view_count": null,
            "_view_module": "@jupyter-widgets/base",
            "_view_module_version": "1.2.0",
            "_view_name": "StyleView",
            "description_width": ""
          }
        },
        "5ab2bbce6cc440dba7aeb3b8561c896d": {
          "model_module": "@jupyter-widgets/controls",
          "model_name": "HBoxModel",
          "model_module_version": "1.5.0",
          "state": {
            "_dom_classes": [],
            "_model_module": "@jupyter-widgets/controls",
            "_model_module_version": "1.5.0",
            "_model_name": "HBoxModel",
            "_view_count": null,
            "_view_module": "@jupyter-widgets/controls",
            "_view_module_version": "1.5.0",
            "_view_name": "HBoxView",
            "box_style": "",
            "children": [
              "IPY_MODEL_f2829506503046ef8ee194b22bf34e45",
              "IPY_MODEL_fa5ea4127bef4a589330d916fb3f8cab",
              "IPY_MODEL_7d4da57839a3466e94ba730ff117a612"
            ],
            "layout": "IPY_MODEL_279a24ac60714c1ca5d1e604651c7064"
          }
        },
        "f2829506503046ef8ee194b22bf34e45": {
          "model_module": "@jupyter-widgets/controls",
          "model_name": "HTMLModel",
          "model_module_version": "1.5.0",
          "state": {
            "_dom_classes": [],
            "_model_module": "@jupyter-widgets/controls",
            "_model_module_version": "1.5.0",
            "_model_name": "HTMLModel",
            "_view_count": null,
            "_view_module": "@jupyter-widgets/controls",
            "_view_module_version": "1.5.0",
            "_view_name": "HTMLView",
            "description": "",
            "description_tooltip": null,
            "layout": "IPY_MODEL_2519fe00f4be4549adbf2132c37865fe",
            "placeholder": "​",
            "style": "IPY_MODEL_c385feeaab284d419ca1b4767e834aaa",
            "value": "config.json: 100%"
          }
        },
        "fa5ea4127bef4a589330d916fb3f8cab": {
          "model_module": "@jupyter-widgets/controls",
          "model_name": "FloatProgressModel",
          "model_module_version": "1.5.0",
          "state": {
            "_dom_classes": [],
            "_model_module": "@jupyter-widgets/controls",
            "_model_module_version": "1.5.0",
            "_model_name": "FloatProgressModel",
            "_view_count": null,
            "_view_module": "@jupyter-widgets/controls",
            "_view_module_version": "1.5.0",
            "_view_name": "ProgressView",
            "bar_style": "success",
            "description": "",
            "description_tooltip": null,
            "layout": "IPY_MODEL_08f4463c3d4c4a08bb3f5cff798ca896",
            "max": 474,
            "min": 0,
            "orientation": "horizontal",
            "style": "IPY_MODEL_5cd00d6fa0cd41e58ce34167841cee7c",
            "value": 474
          }
        },
        "7d4da57839a3466e94ba730ff117a612": {
          "model_module": "@jupyter-widgets/controls",
          "model_name": "HTMLModel",
          "model_module_version": "1.5.0",
          "state": {
            "_dom_classes": [],
            "_model_module": "@jupyter-widgets/controls",
            "_model_module_version": "1.5.0",
            "_model_name": "HTMLModel",
            "_view_count": null,
            "_view_module": "@jupyter-widgets/controls",
            "_view_module_version": "1.5.0",
            "_view_name": "HTMLView",
            "description": "",
            "description_tooltip": null,
            "layout": "IPY_MODEL_6f74fc5f73d740b784cd7ff4da16425e",
            "placeholder": "​",
            "style": "IPY_MODEL_7274872dffc643dda2bad556e72b6cad",
            "value": " 474/474 [00:00&lt;00:00, 4.85kB/s]"
          }
        },
        "279a24ac60714c1ca5d1e604651c7064": {
          "model_module": "@jupyter-widgets/base",
          "model_name": "LayoutModel",
          "model_module_version": "1.2.0",
          "state": {
            "_model_module": "@jupyter-widgets/base",
            "_model_module_version": "1.2.0",
            "_model_name": "LayoutModel",
            "_view_count": null,
            "_view_module": "@jupyter-widgets/base",
            "_view_module_version": "1.2.0",
            "_view_name": "LayoutView",
            "align_content": null,
            "align_items": null,
            "align_self": null,
            "border": null,
            "bottom": null,
            "display": null,
            "flex": null,
            "flex_flow": null,
            "grid_area": null,
            "grid_auto_columns": null,
            "grid_auto_flow": null,
            "grid_auto_rows": null,
            "grid_column": null,
            "grid_gap": null,
            "grid_row": null,
            "grid_template_areas": null,
            "grid_template_columns": null,
            "grid_template_rows": null,
            "height": null,
            "justify_content": null,
            "justify_items": null,
            "left": null,
            "margin": null,
            "max_height": null,
            "max_width": null,
            "min_height": null,
            "min_width": null,
            "object_fit": null,
            "object_position": null,
            "order": null,
            "overflow": null,
            "overflow_x": null,
            "overflow_y": null,
            "padding": null,
            "right": null,
            "top": null,
            "visibility": null,
            "width": null
          }
        },
        "2519fe00f4be4549adbf2132c37865fe": {
          "model_module": "@jupyter-widgets/base",
          "model_name": "LayoutModel",
          "model_module_version": "1.2.0",
          "state": {
            "_model_module": "@jupyter-widgets/base",
            "_model_module_version": "1.2.0",
            "_model_name": "LayoutModel",
            "_view_count": null,
            "_view_module": "@jupyter-widgets/base",
            "_view_module_version": "1.2.0",
            "_view_name": "LayoutView",
            "align_content": null,
            "align_items": null,
            "align_self": null,
            "border": null,
            "bottom": null,
            "display": null,
            "flex": null,
            "flex_flow": null,
            "grid_area": null,
            "grid_auto_columns": null,
            "grid_auto_flow": null,
            "grid_auto_rows": null,
            "grid_column": null,
            "grid_gap": null,
            "grid_row": null,
            "grid_template_areas": null,
            "grid_template_columns": null,
            "grid_template_rows": null,
            "height": null,
            "justify_content": null,
            "justify_items": null,
            "left": null,
            "margin": null,
            "max_height": null,
            "max_width": null,
            "min_height": null,
            "min_width": null,
            "object_fit": null,
            "object_position": null,
            "order": null,
            "overflow": null,
            "overflow_x": null,
            "overflow_y": null,
            "padding": null,
            "right": null,
            "top": null,
            "visibility": null,
            "width": null
          }
        },
        "c385feeaab284d419ca1b4767e834aaa": {
          "model_module": "@jupyter-widgets/controls",
          "model_name": "DescriptionStyleModel",
          "model_module_version": "1.5.0",
          "state": {
            "_model_module": "@jupyter-widgets/controls",
            "_model_module_version": "1.5.0",
            "_model_name": "DescriptionStyleModel",
            "_view_count": null,
            "_view_module": "@jupyter-widgets/base",
            "_view_module_version": "1.2.0",
            "_view_name": "StyleView",
            "description_width": ""
          }
        },
        "08f4463c3d4c4a08bb3f5cff798ca896": {
          "model_module": "@jupyter-widgets/base",
          "model_name": "LayoutModel",
          "model_module_version": "1.2.0",
          "state": {
            "_model_module": "@jupyter-widgets/base",
            "_model_module_version": "1.2.0",
            "_model_name": "LayoutModel",
            "_view_count": null,
            "_view_module": "@jupyter-widgets/base",
            "_view_module_version": "1.2.0",
            "_view_name": "LayoutView",
            "align_content": null,
            "align_items": null,
            "align_self": null,
            "border": null,
            "bottom": null,
            "display": null,
            "flex": null,
            "flex_flow": null,
            "grid_area": null,
            "grid_auto_columns": null,
            "grid_auto_flow": null,
            "grid_auto_rows": null,
            "grid_column": null,
            "grid_gap": null,
            "grid_row": null,
            "grid_template_areas": null,
            "grid_template_columns": null,
            "grid_template_rows": null,
            "height": null,
            "justify_content": null,
            "justify_items": null,
            "left": null,
            "margin": null,
            "max_height": null,
            "max_width": null,
            "min_height": null,
            "min_width": null,
            "object_fit": null,
            "object_position": null,
            "order": null,
            "overflow": null,
            "overflow_x": null,
            "overflow_y": null,
            "padding": null,
            "right": null,
            "top": null,
            "visibility": null,
            "width": null
          }
        },
        "5cd00d6fa0cd41e58ce34167841cee7c": {
          "model_module": "@jupyter-widgets/controls",
          "model_name": "ProgressStyleModel",
          "model_module_version": "1.5.0",
          "state": {
            "_model_module": "@jupyter-widgets/controls",
            "_model_module_version": "1.5.0",
            "_model_name": "ProgressStyleModel",
            "_view_count": null,
            "_view_module": "@jupyter-widgets/base",
            "_view_module_version": "1.2.0",
            "_view_name": "StyleView",
            "bar_color": null,
            "description_width": ""
          }
        },
        "6f74fc5f73d740b784cd7ff4da16425e": {
          "model_module": "@jupyter-widgets/base",
          "model_name": "LayoutModel",
          "model_module_version": "1.2.0",
          "state": {
            "_model_module": "@jupyter-widgets/base",
            "_model_module_version": "1.2.0",
            "_model_name": "LayoutModel",
            "_view_count": null,
            "_view_module": "@jupyter-widgets/base",
            "_view_module_version": "1.2.0",
            "_view_name": "LayoutView",
            "align_content": null,
            "align_items": null,
            "align_self": null,
            "border": null,
            "bottom": null,
            "display": null,
            "flex": null,
            "flex_flow": null,
            "grid_area": null,
            "grid_auto_columns": null,
            "grid_auto_flow": null,
            "grid_auto_rows": null,
            "grid_column": null,
            "grid_gap": null,
            "grid_row": null,
            "grid_template_areas": null,
            "grid_template_columns": null,
            "grid_template_rows": null,
            "height": null,
            "justify_content": null,
            "justify_items": null,
            "left": null,
            "margin": null,
            "max_height": null,
            "max_width": null,
            "min_height": null,
            "min_width": null,
            "object_fit": null,
            "object_position": null,
            "order": null,
            "overflow": null,
            "overflow_x": null,
            "overflow_y": null,
            "padding": null,
            "right": null,
            "top": null,
            "visibility": null,
            "width": null
          }
        },
        "7274872dffc643dda2bad556e72b6cad": {
          "model_module": "@jupyter-widgets/controls",
          "model_name": "DescriptionStyleModel",
          "model_module_version": "1.5.0",
          "state": {
            "_model_module": "@jupyter-widgets/controls",
            "_model_module_version": "1.5.0",
            "_model_name": "DescriptionStyleModel",
            "_view_count": null,
            "_view_module": "@jupyter-widgets/base",
            "_view_module_version": "1.2.0",
            "_view_name": "StyleView",
            "description_width": ""
          }
        },
        "71c2622d6b944df88d831ee30b28cc31": {
          "model_module": "@jupyter-widgets/controls",
          "model_name": "HBoxModel",
          "model_module_version": "1.5.0",
          "state": {
            "_dom_classes": [],
            "_model_module": "@jupyter-widgets/controls",
            "_model_module_version": "1.5.0",
            "_model_name": "HBoxModel",
            "_view_count": null,
            "_view_module": "@jupyter-widgets/controls",
            "_view_module_version": "1.5.0",
            "_view_name": "HBoxView",
            "box_style": "",
            "children": [
              "IPY_MODEL_1965e094d7ed4698a0ed7d16acbb6bd7",
              "IPY_MODEL_ebc8fc7c53a640249716c62adb5f494f",
              "IPY_MODEL_6f7f472f6838449a9178ac09e8defd71"
            ],
            "layout": "IPY_MODEL_55015cfd3a894a7ea130d85b609acab8"
          }
        },
        "1965e094d7ed4698a0ed7d16acbb6bd7": {
          "model_module": "@jupyter-widgets/controls",
          "model_name": "HTMLModel",
          "model_module_version": "1.5.0",
          "state": {
            "_dom_classes": [],
            "_model_module": "@jupyter-widgets/controls",
            "_model_module_version": "1.5.0",
            "_model_name": "HTMLModel",
            "_view_count": null,
            "_view_module": "@jupyter-widgets/controls",
            "_view_module_version": "1.5.0",
            "_view_name": "HTMLView",
            "description": "",
            "description_tooltip": null,
            "layout": "IPY_MODEL_d939526334614a10988eb24e45e17066",
            "placeholder": "​",
            "style": "IPY_MODEL_bd29d641a9dc4e5c9665640eefa1f985",
            "value": "pytorch_model.bin: 100%"
          }
        },
        "ebc8fc7c53a640249716c62adb5f494f": {
          "model_module": "@jupyter-widgets/controls",
          "model_name": "FloatProgressModel",
          "model_module_version": "1.5.0",
          "state": {
            "_dom_classes": [],
            "_model_module": "@jupyter-widgets/controls",
            "_model_module_version": "1.5.0",
            "_model_name": "FloatProgressModel",
            "_view_count": null,
            "_view_module": "@jupyter-widgets/controls",
            "_view_module_version": "1.5.0",
            "_view_name": "ProgressView",
            "bar_style": "success",
            "description": "",
            "description_tooltip": null,
            "layout": "IPY_MODEL_999a07a71f184d4bbfd8bc0bf414e341",
            "max": 558614189,
            "min": 0,
            "orientation": "horizontal",
            "style": "IPY_MODEL_aa0a359df4404a8bacf0418000606590",
            "value": 558614189
          }
        },
        "6f7f472f6838449a9178ac09e8defd71": {
          "model_module": "@jupyter-widgets/controls",
          "model_name": "HTMLModel",
          "model_module_version": "1.5.0",
          "state": {
            "_dom_classes": [],
            "_model_module": "@jupyter-widgets/controls",
            "_model_module_version": "1.5.0",
            "_model_name": "HTMLModel",
            "_view_count": null,
            "_view_module": "@jupyter-widgets/controls",
            "_view_module_version": "1.5.0",
            "_view_name": "HTMLView",
            "description": "",
            "description_tooltip": null,
            "layout": "IPY_MODEL_cf9cacbe1893416f8fe5bddba529ccf7",
            "placeholder": "​",
            "style": "IPY_MODEL_30a65b563df149b1a5a6a174fbdd33b1",
            "value": " 559M/559M [00:06&lt;00:00, 159MB/s]"
          }
        },
        "55015cfd3a894a7ea130d85b609acab8": {
          "model_module": "@jupyter-widgets/base",
          "model_name": "LayoutModel",
          "model_module_version": "1.2.0",
          "state": {
            "_model_module": "@jupyter-widgets/base",
            "_model_module_version": "1.2.0",
            "_model_name": "LayoutModel",
            "_view_count": null,
            "_view_module": "@jupyter-widgets/base",
            "_view_module_version": "1.2.0",
            "_view_name": "LayoutView",
            "align_content": null,
            "align_items": null,
            "align_self": null,
            "border": null,
            "bottom": null,
            "display": null,
            "flex": null,
            "flex_flow": null,
            "grid_area": null,
            "grid_auto_columns": null,
            "grid_auto_flow": null,
            "grid_auto_rows": null,
            "grid_column": null,
            "grid_gap": null,
            "grid_row": null,
            "grid_template_areas": null,
            "grid_template_columns": null,
            "grid_template_rows": null,
            "height": null,
            "justify_content": null,
            "justify_items": null,
            "left": null,
            "margin": null,
            "max_height": null,
            "max_width": null,
            "min_height": null,
            "min_width": null,
            "object_fit": null,
            "object_position": null,
            "order": null,
            "overflow": null,
            "overflow_x": null,
            "overflow_y": null,
            "padding": null,
            "right": null,
            "top": null,
            "visibility": null,
            "width": null
          }
        },
        "d939526334614a10988eb24e45e17066": {
          "model_module": "@jupyter-widgets/base",
          "model_name": "LayoutModel",
          "model_module_version": "1.2.0",
          "state": {
            "_model_module": "@jupyter-widgets/base",
            "_model_module_version": "1.2.0",
            "_model_name": "LayoutModel",
            "_view_count": null,
            "_view_module": "@jupyter-widgets/base",
            "_view_module_version": "1.2.0",
            "_view_name": "LayoutView",
            "align_content": null,
            "align_items": null,
            "align_self": null,
            "border": null,
            "bottom": null,
            "display": null,
            "flex": null,
            "flex_flow": null,
            "grid_area": null,
            "grid_auto_columns": null,
            "grid_auto_flow": null,
            "grid_auto_rows": null,
            "grid_column": null,
            "grid_gap": null,
            "grid_row": null,
            "grid_template_areas": null,
            "grid_template_columns": null,
            "grid_template_rows": null,
            "height": null,
            "justify_content": null,
            "justify_items": null,
            "left": null,
            "margin": null,
            "max_height": null,
            "max_width": null,
            "min_height": null,
            "min_width": null,
            "object_fit": null,
            "object_position": null,
            "order": null,
            "overflow": null,
            "overflow_x": null,
            "overflow_y": null,
            "padding": null,
            "right": null,
            "top": null,
            "visibility": null,
            "width": null
          }
        },
        "bd29d641a9dc4e5c9665640eefa1f985": {
          "model_module": "@jupyter-widgets/controls",
          "model_name": "DescriptionStyleModel",
          "model_module_version": "1.5.0",
          "state": {
            "_model_module": "@jupyter-widgets/controls",
            "_model_module_version": "1.5.0",
            "_model_name": "DescriptionStyleModel",
            "_view_count": null,
            "_view_module": "@jupyter-widgets/base",
            "_view_module_version": "1.2.0",
            "_view_name": "StyleView",
            "description_width": ""
          }
        },
        "999a07a71f184d4bbfd8bc0bf414e341": {
          "model_module": "@jupyter-widgets/base",
          "model_name": "LayoutModel",
          "model_module_version": "1.2.0",
          "state": {
            "_model_module": "@jupyter-widgets/base",
            "_model_module_version": "1.2.0",
            "_model_name": "LayoutModel",
            "_view_count": null,
            "_view_module": "@jupyter-widgets/base",
            "_view_module_version": "1.2.0",
            "_view_name": "LayoutView",
            "align_content": null,
            "align_items": null,
            "align_self": null,
            "border": null,
            "bottom": null,
            "display": null,
            "flex": null,
            "flex_flow": null,
            "grid_area": null,
            "grid_auto_columns": null,
            "grid_auto_flow": null,
            "grid_auto_rows": null,
            "grid_column": null,
            "grid_gap": null,
            "grid_row": null,
            "grid_template_areas": null,
            "grid_template_columns": null,
            "grid_template_rows": null,
            "height": null,
            "justify_content": null,
            "justify_items": null,
            "left": null,
            "margin": null,
            "max_height": null,
            "max_width": null,
            "min_height": null,
            "min_width": null,
            "object_fit": null,
            "object_position": null,
            "order": null,
            "overflow": null,
            "overflow_x": null,
            "overflow_y": null,
            "padding": null,
            "right": null,
            "top": null,
            "visibility": null,
            "width": null
          }
        },
        "aa0a359df4404a8bacf0418000606590": {
          "model_module": "@jupyter-widgets/controls",
          "model_name": "ProgressStyleModel",
          "model_module_version": "1.5.0",
          "state": {
            "_model_module": "@jupyter-widgets/controls",
            "_model_module_version": "1.5.0",
            "_model_name": "ProgressStyleModel",
            "_view_count": null,
            "_view_module": "@jupyter-widgets/base",
            "_view_module_version": "1.2.0",
            "_view_name": "StyleView",
            "bar_color": null,
            "description_width": ""
          }
        },
        "cf9cacbe1893416f8fe5bddba529ccf7": {
          "model_module": "@jupyter-widgets/base",
          "model_name": "LayoutModel",
          "model_module_version": "1.2.0",
          "state": {
            "_model_module": "@jupyter-widgets/base",
            "_model_module_version": "1.2.0",
            "_model_name": "LayoutModel",
            "_view_count": null,
            "_view_module": "@jupyter-widgets/base",
            "_view_module_version": "1.2.0",
            "_view_name": "LayoutView",
            "align_content": null,
            "align_items": null,
            "align_self": null,
            "border": null,
            "bottom": null,
            "display": null,
            "flex": null,
            "flex_flow": null,
            "grid_area": null,
            "grid_auto_columns": null,
            "grid_auto_flow": null,
            "grid_auto_rows": null,
            "grid_column": null,
            "grid_gap": null,
            "grid_row": null,
            "grid_template_areas": null,
            "grid_template_columns": null,
            "grid_template_rows": null,
            "height": null,
            "justify_content": null,
            "justify_items": null,
            "left": null,
            "margin": null,
            "max_height": null,
            "max_width": null,
            "min_height": null,
            "min_width": null,
            "object_fit": null,
            "object_position": null,
            "order": null,
            "overflow": null,
            "overflow_x": null,
            "overflow_y": null,
            "padding": null,
            "right": null,
            "top": null,
            "visibility": null,
            "width": null
          }
        },
        "30a65b563df149b1a5a6a174fbdd33b1": {
          "model_module": "@jupyter-widgets/controls",
          "model_name": "DescriptionStyleModel",
          "model_module_version": "1.5.0",
          "state": {
            "_model_module": "@jupyter-widgets/controls",
            "_model_module_version": "1.5.0",
            "_model_name": "DescriptionStyleModel",
            "_view_count": null,
            "_view_module": "@jupyter-widgets/base",
            "_view_module_version": "1.2.0",
            "_view_name": "StyleView",
            "description_width": ""
          }
        }
      }
    }
  },
  "cells": [
    {
      "cell_type": "code",
      "execution_count": null,
      "metadata": {
        "colab": {
          "base_uri": "https://localhost:8080/"
        },
        "id": "cjqmsxsap-jP",
        "outputId": "bcbbea7d-3853-4c31-e83c-4e85482b2e1a"
      },
      "outputs": [
        {
          "output_type": "stream",
          "name": "stdout",
          "text": [
            "Mounted at /content/drive\n"
          ]
        }
      ],
      "source": [
        "from google.colab import drive\n",
        "drive.mount('/content/drive')"
      ]
    },
    {
      "cell_type": "markdown",
      "source": [
        "Extracting title and content from webpages"
      ],
      "metadata": {
        "id": "X5wHRLr24NOi"
      }
    },
    {
      "cell_type": "code",
      "execution_count": null,
      "metadata": {
        "colab": {
          "base_uri": "https://localhost:8080/"
        },
        "id": "kTNqHv5rqoLk",
        "outputId": "add6185a-e9e9-461d-f086-83b3164bfb54"
      },
      "outputs": [
        {
          "output_type": "stream",
          "name": "stdout",
          "text": [
            "Extraction completed. Extracted data saved to 'extracted_data.csv'.\n"
          ]
        }
      ],
      "source": [
        "from bs4 import BeautifulSoup\n",
        "import os\n",
        "import pandas as pd\n",
        "\n",
        "def extract_title_and_content(file_path):\n",
        "    try:\n",
        "        # Read the HTML file\n",
        "        with open(file_path, 'r', encoding='utf-8') as file:\n",
        "            html_content = file.read()\n",
        "\n",
        "        # Parse the HTML using BeautifulSoup\n",
        "        soup = BeautifulSoup(html_content, 'html.parser')\n",
        "\n",
        "        # Extract the title\n",
        "        title = soup.title.string if soup.title else None\n",
        "\n",
        "        # Extract the content (e.g., paragraphs)\n",
        "        paragraphs = soup.find_all('p')\n",
        "        content = ' '.join([p.get_text() for p in paragraphs])\n",
        "\n",
        "        return title, content\n",
        "    except Exception as e:\n",
        "        print(f\"Error processing file {file_path}: {e}\")\n",
        "        return None, None\n",
        "\n",
        "# Specify the path to the folder containing HTML files\n",
        "folder_path = '/content/drive/MyDrive/dataset-part-1/'\n",
        "\n",
        "# Extract titles and content for each HTML file in the folder\n",
        "extracted_data = []\n",
        "for file_name in os.listdir(folder_path):\n",
        "    if file_name.endswith('.html'):\n",
        "        file_path = os.path.join(folder_path, file_name)\n",
        "        title, content = extract_title_and_content(file_path)\n",
        "        extracted_data.append({'file_name': file_name, 'title': title, 'content': content})\n",
        "\n",
        "# Convert extracted data to DataFrame and save to CSV\n",
        "extracted_df = pd.DataFrame(extracted_data)\n",
        "extracted_df.to_csv('/content/drive/MyDrive/dataset-part-1/extracted_data.csv', index=False)\n",
        "\n",
        "print(\"Extraction completed. Extracted data saved to 'extracted_data.csv'.\")\n"
      ]
    },
    {
      "cell_type": "code",
      "execution_count": null,
      "metadata": {
        "colab": {
          "base_uri": "https://localhost:8080/",
          "height": 423
        },
        "id": "KYEc75Fctooj",
        "outputId": "6ac94305-e25a-48dc-ca33-467d3de26e24"
      },
      "outputs": [
        {
          "output_type": "execute_result",
          "data": {
            "text/plain": [
              "                 file_name                                              title  \\\n",
              "0    1622000111815969.html              \\n   Paypal - Log in your account\\n     \n",
              "1     162214030163758.html                                     \\n   Gmail\\n     \n",
              "2    1626907950904767.html     \\n   ‎10 Day NOAA Weather on the App Store\\n     \n",
              "3    1627144214613448.html                      \\n   NaVi Team - Giveaway\\n     \n",
              "4    1626067948222555.html                            \\n   Amazon Sign In\\n     \n",
              "..                     ...                                                ...   \n",
              "794  1635747418498447.html  \\n   Huntington Bancshares Inc, HBAN:NSQ summa...   \n",
              "795  1635748094761144.html                     \\n   McDelivery™ Sri Lanka\\n     \n",
              "796   163574908792612.html     \\n   Account – Taylor Swift Official Store\\n     \n",
              "797          10003934.html                                                NaN   \n",
              "798          10004056.html                                               Home   \n",
              "\n",
              "                                               content  \n",
              "0                                                  NaN  \n",
              "1    \\n \\n\\n\\n           Sign in with a different a...  \n",
              "2    \\n           Always stay a step ahead of the w...  \n",
              "3    \\n         Free case giveaway.\\n         \\n   ...  \n",
              "4                                               \\n\\n\\n  \n",
              "..                                                 ...  \n",
              "794  \\n                Largest regional lenders hav...  \n",
              "795  \\n\\n\\n\\n        We will be switching to the br...  \n",
              "796  \\n      Your cart is empty\\n      \\n        fr...  \n",
              "797  Ayúdanos a comprobar que no eres un robot © 20...  \n",
              "798                                                NaN  \n",
              "\n",
              "[799 rows x 3 columns]"
            ],
            "text/html": [
              "\n",
              "  <div id=\"df-1b0c6d30-f28d-4752-9d62-b503f369f0d4\" class=\"colab-df-container\">\n",
              "    <div>\n",
              "<style scoped>\n",
              "    .dataframe tbody tr th:only-of-type {\n",
              "        vertical-align: middle;\n",
              "    }\n",
              "\n",
              "    .dataframe tbody tr th {\n",
              "        vertical-align: top;\n",
              "    }\n",
              "\n",
              "    .dataframe thead th {\n",
              "        text-align: right;\n",
              "    }\n",
              "</style>\n",
              "<table border=\"1\" class=\"dataframe\">\n",
              "  <thead>\n",
              "    <tr style=\"text-align: right;\">\n",
              "      <th></th>\n",
              "      <th>file_name</th>\n",
              "      <th>title</th>\n",
              "      <th>content</th>\n",
              "    </tr>\n",
              "  </thead>\n",
              "  <tbody>\n",
              "    <tr>\n",
              "      <th>0</th>\n",
              "      <td>1622000111815969.html</td>\n",
              "      <td>\\n   Paypal - Log in your account\\n</td>\n",
              "      <td>NaN</td>\n",
              "    </tr>\n",
              "    <tr>\n",
              "      <th>1</th>\n",
              "      <td>162214030163758.html</td>\n",
              "      <td>\\n   Gmail\\n</td>\n",
              "      <td>\\n \\n\\n\\n           Sign in with a different a...</td>\n",
              "    </tr>\n",
              "    <tr>\n",
              "      <th>2</th>\n",
              "      <td>1626907950904767.html</td>\n",
              "      <td>\\n   ‎10 Day NOAA Weather on the App Store\\n</td>\n",
              "      <td>\\n           Always stay a step ahead of the w...</td>\n",
              "    </tr>\n",
              "    <tr>\n",
              "      <th>3</th>\n",
              "      <td>1627144214613448.html</td>\n",
              "      <td>\\n   NaVi Team - Giveaway\\n</td>\n",
              "      <td>\\n         Free case giveaway.\\n         \\n   ...</td>\n",
              "    </tr>\n",
              "    <tr>\n",
              "      <th>4</th>\n",
              "      <td>1626067948222555.html</td>\n",
              "      <td>\\n   Amazon Sign In\\n</td>\n",
              "      <td>\\n\\n\\n</td>\n",
              "    </tr>\n",
              "    <tr>\n",
              "      <th>...</th>\n",
              "      <td>...</td>\n",
              "      <td>...</td>\n",
              "      <td>...</td>\n",
              "    </tr>\n",
              "    <tr>\n",
              "      <th>794</th>\n",
              "      <td>1635747418498447.html</td>\n",
              "      <td>\\n   Huntington Bancshares Inc, HBAN:NSQ summa...</td>\n",
              "      <td>\\n                Largest regional lenders hav...</td>\n",
              "    </tr>\n",
              "    <tr>\n",
              "      <th>795</th>\n",
              "      <td>1635748094761144.html</td>\n",
              "      <td>\\n   McDelivery™ Sri Lanka\\n</td>\n",
              "      <td>\\n\\n\\n\\n        We will be switching to the br...</td>\n",
              "    </tr>\n",
              "    <tr>\n",
              "      <th>796</th>\n",
              "      <td>163574908792612.html</td>\n",
              "      <td>\\n   Account – Taylor Swift Official Store\\n</td>\n",
              "      <td>\\n      Your cart is empty\\n      \\n        fr...</td>\n",
              "    </tr>\n",
              "    <tr>\n",
              "      <th>797</th>\n",
              "      <td>10003934.html</td>\n",
              "      <td>NaN</td>\n",
              "      <td>Ayúdanos a comprobar que no eres un robot © 20...</td>\n",
              "    </tr>\n",
              "    <tr>\n",
              "      <th>798</th>\n",
              "      <td>10004056.html</td>\n",
              "      <td>Home</td>\n",
              "      <td>NaN</td>\n",
              "    </tr>\n",
              "  </tbody>\n",
              "</table>\n",
              "<p>799 rows × 3 columns</p>\n",
              "</div>\n",
              "    <div class=\"colab-df-buttons\">\n",
              "\n",
              "  <div class=\"colab-df-container\">\n",
              "    <button class=\"colab-df-convert\" onclick=\"convertToInteractive('df-1b0c6d30-f28d-4752-9d62-b503f369f0d4')\"\n",
              "            title=\"Convert this dataframe to an interactive table.\"\n",
              "            style=\"display:none;\">\n",
              "\n",
              "  <svg xmlns=\"http://www.w3.org/2000/svg\" height=\"24px\" viewBox=\"0 -960 960 960\">\n",
              "    <path d=\"M120-120v-720h720v720H120Zm60-500h600v-160H180v160Zm220 220h160v-160H400v160Zm0 220h160v-160H400v160ZM180-400h160v-160H180v160Zm440 0h160v-160H620v160ZM180-180h160v-160H180v160Zm440 0h160v-160H620v160Z\"/>\n",
              "  </svg>\n",
              "    </button>\n",
              "\n",
              "  <style>\n",
              "    .colab-df-container {\n",
              "      display:flex;\n",
              "      gap: 12px;\n",
              "    }\n",
              "\n",
              "    .colab-df-convert {\n",
              "      background-color: #E8F0FE;\n",
              "      border: none;\n",
              "      border-radius: 50%;\n",
              "      cursor: pointer;\n",
              "      display: none;\n",
              "      fill: #1967D2;\n",
              "      height: 32px;\n",
              "      padding: 0 0 0 0;\n",
              "      width: 32px;\n",
              "    }\n",
              "\n",
              "    .colab-df-convert:hover {\n",
              "      background-color: #E2EBFA;\n",
              "      box-shadow: 0px 1px 2px rgba(60, 64, 67, 0.3), 0px 1px 3px 1px rgba(60, 64, 67, 0.15);\n",
              "      fill: #174EA6;\n",
              "    }\n",
              "\n",
              "    .colab-df-buttons div {\n",
              "      margin-bottom: 4px;\n",
              "    }\n",
              "\n",
              "    [theme=dark] .colab-df-convert {\n",
              "      background-color: #3B4455;\n",
              "      fill: #D2E3FC;\n",
              "    }\n",
              "\n",
              "    [theme=dark] .colab-df-convert:hover {\n",
              "      background-color: #434B5C;\n",
              "      box-shadow: 0px 1px 3px 1px rgba(0, 0, 0, 0.15);\n",
              "      filter: drop-shadow(0px 1px 2px rgba(0, 0, 0, 0.3));\n",
              "      fill: #FFFFFF;\n",
              "    }\n",
              "  </style>\n",
              "\n",
              "    <script>\n",
              "      const buttonEl =\n",
              "        document.querySelector('#df-1b0c6d30-f28d-4752-9d62-b503f369f0d4 button.colab-df-convert');\n",
              "      buttonEl.style.display =\n",
              "        google.colab.kernel.accessAllowed ? 'block' : 'none';\n",
              "\n",
              "      async function convertToInteractive(key) {\n",
              "        const element = document.querySelector('#df-1b0c6d30-f28d-4752-9d62-b503f369f0d4');\n",
              "        const dataTable =\n",
              "          await google.colab.kernel.invokeFunction('convertToInteractive',\n",
              "                                                    [key], {});\n",
              "        if (!dataTable) return;\n",
              "\n",
              "        const docLinkHtml = 'Like what you see? Visit the ' +\n",
              "          '<a target=\"_blank\" href=https://colab.research.google.com/notebooks/data_table.ipynb>data table notebook</a>'\n",
              "          + ' to learn more about interactive tables.';\n",
              "        element.innerHTML = '';\n",
              "        dataTable['output_type'] = 'display_data';\n",
              "        await google.colab.output.renderOutput(dataTable, element);\n",
              "        const docLink = document.createElement('div');\n",
              "        docLink.innerHTML = docLinkHtml;\n",
              "        element.appendChild(docLink);\n",
              "      }\n",
              "    </script>\n",
              "  </div>\n",
              "\n",
              "\n",
              "<div id=\"df-3cbe8389-9a13-4ca0-af6d-9b7762e61df9\">\n",
              "  <button class=\"colab-df-quickchart\" onclick=\"quickchart('df-3cbe8389-9a13-4ca0-af6d-9b7762e61df9')\"\n",
              "            title=\"Suggest charts\"\n",
              "            style=\"display:none;\">\n",
              "\n",
              "<svg xmlns=\"http://www.w3.org/2000/svg\" height=\"24px\"viewBox=\"0 0 24 24\"\n",
              "     width=\"24px\">\n",
              "    <g>\n",
              "        <path d=\"M19 3H5c-1.1 0-2 .9-2 2v14c0 1.1.9 2 2 2h14c1.1 0 2-.9 2-2V5c0-1.1-.9-2-2-2zM9 17H7v-7h2v7zm4 0h-2V7h2v10zm4 0h-2v-4h2v4z\"/>\n",
              "    </g>\n",
              "</svg>\n",
              "  </button>\n",
              "\n",
              "<style>\n",
              "  .colab-df-quickchart {\n",
              "      --bg-color: #E8F0FE;\n",
              "      --fill-color: #1967D2;\n",
              "      --hover-bg-color: #E2EBFA;\n",
              "      --hover-fill-color: #174EA6;\n",
              "      --disabled-fill-color: #AAA;\n",
              "      --disabled-bg-color: #DDD;\n",
              "  }\n",
              "\n",
              "  [theme=dark] .colab-df-quickchart {\n",
              "      --bg-color: #3B4455;\n",
              "      --fill-color: #D2E3FC;\n",
              "      --hover-bg-color: #434B5C;\n",
              "      --hover-fill-color: #FFFFFF;\n",
              "      --disabled-bg-color: #3B4455;\n",
              "      --disabled-fill-color: #666;\n",
              "  }\n",
              "\n",
              "  .colab-df-quickchart {\n",
              "    background-color: var(--bg-color);\n",
              "    border: none;\n",
              "    border-radius: 50%;\n",
              "    cursor: pointer;\n",
              "    display: none;\n",
              "    fill: var(--fill-color);\n",
              "    height: 32px;\n",
              "    padding: 0;\n",
              "    width: 32px;\n",
              "  }\n",
              "\n",
              "  .colab-df-quickchart:hover {\n",
              "    background-color: var(--hover-bg-color);\n",
              "    box-shadow: 0 1px 2px rgba(60, 64, 67, 0.3), 0 1px 3px 1px rgba(60, 64, 67, 0.15);\n",
              "    fill: var(--button-hover-fill-color);\n",
              "  }\n",
              "\n",
              "  .colab-df-quickchart-complete:disabled,\n",
              "  .colab-df-quickchart-complete:disabled:hover {\n",
              "    background-color: var(--disabled-bg-color);\n",
              "    fill: var(--disabled-fill-color);\n",
              "    box-shadow: none;\n",
              "  }\n",
              "\n",
              "  .colab-df-spinner {\n",
              "    border: 2px solid var(--fill-color);\n",
              "    border-color: transparent;\n",
              "    border-bottom-color: var(--fill-color);\n",
              "    animation:\n",
              "      spin 1s steps(1) infinite;\n",
              "  }\n",
              "\n",
              "  @keyframes spin {\n",
              "    0% {\n",
              "      border-color: transparent;\n",
              "      border-bottom-color: var(--fill-color);\n",
              "      border-left-color: var(--fill-color);\n",
              "    }\n",
              "    20% {\n",
              "      border-color: transparent;\n",
              "      border-left-color: var(--fill-color);\n",
              "      border-top-color: var(--fill-color);\n",
              "    }\n",
              "    30% {\n",
              "      border-color: transparent;\n",
              "      border-left-color: var(--fill-color);\n",
              "      border-top-color: var(--fill-color);\n",
              "      border-right-color: var(--fill-color);\n",
              "    }\n",
              "    40% {\n",
              "      border-color: transparent;\n",
              "      border-right-color: var(--fill-color);\n",
              "      border-top-color: var(--fill-color);\n",
              "    }\n",
              "    60% {\n",
              "      border-color: transparent;\n",
              "      border-right-color: var(--fill-color);\n",
              "    }\n",
              "    80% {\n",
              "      border-color: transparent;\n",
              "      border-right-color: var(--fill-color);\n",
              "      border-bottom-color: var(--fill-color);\n",
              "    }\n",
              "    90% {\n",
              "      border-color: transparent;\n",
              "      border-bottom-color: var(--fill-color);\n",
              "    }\n",
              "  }\n",
              "</style>\n",
              "\n",
              "  <script>\n",
              "    async function quickchart(key) {\n",
              "      const quickchartButtonEl =\n",
              "        document.querySelector('#' + key + ' button');\n",
              "      quickchartButtonEl.disabled = true;  // To prevent multiple clicks.\n",
              "      quickchartButtonEl.classList.add('colab-df-spinner');\n",
              "      try {\n",
              "        const charts = await google.colab.kernel.invokeFunction(\n",
              "            'suggestCharts', [key], {});\n",
              "      } catch (error) {\n",
              "        console.error('Error during call to suggestCharts:', error);\n",
              "      }\n",
              "      quickchartButtonEl.classList.remove('colab-df-spinner');\n",
              "      quickchartButtonEl.classList.add('colab-df-quickchart-complete');\n",
              "    }\n",
              "    (() => {\n",
              "      let quickchartButtonEl =\n",
              "        document.querySelector('#df-3cbe8389-9a13-4ca0-af6d-9b7762e61df9 button');\n",
              "      quickchartButtonEl.style.display =\n",
              "        google.colab.kernel.accessAllowed ? 'block' : 'none';\n",
              "    })();\n",
              "  </script>\n",
              "</div>\n",
              "    </div>\n",
              "  </div>\n"
            ],
            "application/vnd.google.colaboratory.intrinsic+json": {
              "type": "dataframe",
              "variable_name": "df",
              "summary": "{\n  \"name\": \"df\",\n  \"rows\": 799,\n  \"fields\": [\n    {\n      \"column\": \"file_name\",\n      \"properties\": {\n        \"dtype\": \"string\",\n        \"num_unique_values\": 799,\n        \"samples\": [\n          \"1635707930060686.html\",\n          \"1635706341052699.html\",\n          \"1621866918083028.html\"\n        ],\n        \"semantic_type\": \"\",\n        \"description\": \"\"\n      }\n    },\n    {\n      \"column\": \"title\",\n      \"properties\": {\n        \"dtype\": \"string\",\n        \"num_unique_values\": 652,\n        \"samples\": [\n          \"\\n   Retail Cards & Digital Payments | Accenture\\n  \",\n          \"\\n   One Drive Cloud Document Sharing\\n  \",\n          \"\\n   UN News | Global perspective, human stories\\n  \"\n        ],\n        \"semantic_type\": \"\",\n        \"description\": \"\"\n      }\n    },\n    {\n      \"column\": \"content\",\n      \"properties\": {\n        \"dtype\": \"string\",\n        \"num_unique_values\": 546,\n        \"samples\": [\n          \"\\n                  \\u00a0\\n                  \\n                  Adobe Reader is a free software that lets you view, save or\\u00a0print files created in PDF format.\\n                  \\n                  To download Adobe Reader, click on the icon below.\\n                  \\n                  \\u00a0\\n                  \\n\\n\\n\\n\",\n          \"\\n\\n     Modules\\n    \\n    |\\n    \\n     Directives\\n    \\n    |\\n    \\n     FAQ\\n    \\n    |\\n    \\n     Glossary\\n    \\n    |\\n    \\n     Sitemap\\n    \\n \\n    Apache HTTP Server Version 2.4\\n    \\n\\n       Available Languages:\\n      \\n\\n       \\u00a0en\\u00a0\\n      \\n      |\\n      \\n       \\u00a0fr\\u00a0\\n      \\n      |\\n      \\n       \\u00a0ko\\u00a0\\n      \\n      |\\n      \\n       \\u00a0tr\\u00a0\\n      \\n \\n\\n      ab\\n     \\n     is a tool for benchmarking your Apache Hypertext\\n    Transfer Protocol (HTTP) server. It is designed to give you an impression\\n    of how your current Apache installation performs. This especially shows\\n    you how many requests per second your Apache installation is capable of\\n    serving.\\n     \\n\\n\\n       ab\\n      \\n      [ -\\n      \\n       A\\n      \\n\\n       auth-username\\n      \\n      :\\n      \\n       password\\n      \\n      ]\\n    [ -\\n      \\n       b\\n      \\n\\n       windowsize\\n      \\n      ]\\n    [ -\\n      \\n       B\\n      \\n\\n       local-address\\n      \\n      ]\\n    [ -\\n      \\n       c\\n      \\n\\n       concurrency\\n      \\n      ]\\n    [ -\\n      \\n       C\\n      \\n\\n       cookie-name\\n      \\n      =\\n      \\n       value\\n      \\n      ]\\n    [ -\\n      \\n       d\\n      \\n      ]\\n    [ -\\n      \\n       e\\n      \\n\\n       csv-file\\n      \\n      ]\\n    [ -\\n      \\n       E\\n      \\n\\n       client-certificate file\\n      \\n      ]\\n    [ -\\n      \\n       f\\n      \\n\\n       protocol\\n      \\n      ]\\n    [ -\\n      \\n       g\\n      \\n\\n       gnuplot-file\\n      \\n      ]\\n    [ -\\n      \\n       h\\n      \\n      ]\\n    [ -\\n      \\n       H\\n      \\n\\n       custom-header\\n      \\n      ]\\n    [ -\\n      \\n       i\\n      \\n      ]\\n    [ -\\n      \\n       k\\n      \\n      ]\\n    [ -\\n      \\n       l\\n      \\n      ]\\n    [ -\\n      \\n       m\\n      \\n\\n       HTTP-method\\n      \\n      ]\\n    [ -\\n      \\n       n\\n      \\n\\n       requests\\n      \\n      ]\\n    [ -\\n      \\n       p\\n      \\n\\n       POST-file\\n      \\n      ]\\n    [ -\\n      \\n       P\\n      \\n\\n       proxy-auth-username\\n      \\n      :\\n      \\n       password\\n      \\n      ]\\n    [ -\\n      \\n       q\\n      \\n      ]\\n    [ -\\n      \\n       r\\n      \\n      ]\\n    [ -\\n      \\n       s\\n      \\n\\n       timeout\\n      \\n      ]\\n    [ -\\n      \\n       S\\n      \\n      ]\\n    [ -\\n      \\n       t\\n      \\n\\n       timelimit\\n      \\n      ]\\n    [ -\\n      \\n       T\\n      \\n\\n       content-type\\n      \\n      ]\\n    [ -\\n      \\n       u\\n      \\n\\n       PUT-file\\n      \\n      ]\\n    [ -\\n      \\n       v\\n      \\n\\n       verbosity\\n      \\n      ]\\n    [ -\\n      \\n       V\\n      \\n      ]\\n    [ -\\n      \\n       w\\n      \\n      ]\\n    [ -\\n      \\n       x\\n      \\n\\n       <table>-attributes\\n      \\n      ]\\n    [ -\\n      \\n       X\\n      \\n\\n       proxy\\n      \\n      [:\\n      \\n       port\\n      \\n      ] ]\\n    [ -\\n      \\n       y\\n      \\n\\n       <tr>-attributes\\n      \\n      ]\\n    [ -\\n      \\n       z\\n      \\n\\n       <td>-attributes\\n      \\n      ]\\n    [ -\\n      \\n       Z\\n      \\n\\n       ciphersuite\\n      \\n      ]\\n    [http[s]://]\\n      \\n       hostname\\n      \\n      [:\\n      \\n       port\\n      \\n      ]/\\n      \\n       path\\n      \\n\\n \\n     The following list describes the values returned by\\n     \\n      ab\\n     \\n     :\\n     \\n     There are various statically declared buffers of fixed length. Combined\\n    with the lazy parsing of the command line arguments, the response headers\\n    from the server and other external inputs, this might bite you.\\n     \\n     It does not implement HTTP/1.x fully; only accepts some 'expected' forms\\n    of responses. The rather heavy use of\\n     \\n      strstr(3)\\n     \\n     shows up top\\n    in profile, which might indicate a performance problem;\\n     \\n      i.e.\\n     \\n     , you\\n    would measure the\\n     \\n      ab\\n     \\n     performance rather than the server's.\\n     \\n\\n     Available Languages:\\n    \\n\\n     \\u00a0en\\u00a0\\n    \\n    |\\n    \\n     \\u00a0fr\\u00a0\\n    \\n    |\\n    \\n     \\u00a0ko\\u00a0\\n    \\n    |\\n    \\n     \\u00a0tr\\u00a0\\n    \\n \\n    Copyright 2021 The Apache Software Foundation.\\n    \\n    Licensed under the\\n    \\n     Apache License, Version 2.0\\n    \\n    .\\n    \\n\\n     Modules\\n    \\n    |\\n    \\n     Directives\\n    \\n    |\\n    \\n     FAQ\\n    \\n    |\\n    \\n     Glossary\\n    \\n    |\\n    \\n     Sitemap\\n    \\n\",\n          \"\\n        Buy now for:\\n        \\n         $1,595\\n        \\n \\n       Make 36 monthly payments of $44.31\\n       \\n        |\\n       \\n       Pay 0% interest\\n       \\n        |\\n       \\n       Start using the domain today.\\n       \\n        See details\\n       \\n       .\\n       \\n        Call us to learn how we can help you get more value from your domain\\n        \\n        Turbocharge your Web site. Watch our video to learn how.\\n        \\n         Ok, so I read the online reviews and was a bit hesitant but went ahead with the purchase and it was excellent. I paid a fair price for the domain, within a few hours it was available for me at NameBright and within a few minutes on their dashboard I had transferred the domain to my preferred registrar. I reset the DNS nameservers and had a website up and running. Total time of 5 hours from when I made the purchase. Happy to recommend them.\\n         \\n         Buying a domain is an easy task. But when you are looking for a specific domain that needs to be transferred over and the costs are high you need a company that can handle this transaction for you. You are in a way buying a business when dealing with domains of this quality. With HugeDomains the process was extremely easy and helpful. We paid and received our logins / transfer documents and etc within the same hour. I highly recommend them and will be dealing with them for my domain needs.\\n         \\n         HugeDomains enabled me to own a premium domain through a monthly payment plan; a superb service not found elsewhere.\\n         \\n         Easy process with HugeDomains.com! I hope we can pay this off with our cool new Blockchain NFT project! Or our evil cats assist us >=D - Thank you!\\n         \\n         Great service and very quick transfer of domain, very easy transaction.\\nThis is the second time i have used these guys and very pleased.\\nTim.\\n         \\n          Yes, you can transfer your domain to any registrar or hosting company once you have purchased it. Since domain transfers are a manual process, it can take up to 5 days to transfer the domain.\\n          \\n          \\u00a0\\n          \\n          Domains purchased with payment plans are not eligible to transfer until all payments have been made. Please remember that our 30-day money back guarantee is void once a domain has been transferred.\\n          \\n          \\u00a0\\n          \\n          For transfer instructions to GoDaddy, please\\n          \\n           click here\\n          \\n          .\\n          \\n          Once you purchase the domain we will push it into an account for you at our registrar, NameBright.com, we will then send you an email with your NameBright username and password. In most cases access to the domain will be available within one to two hours of purchase, however access to domains purchased after business hours will be available within the next business day.\\n          \\n          Nothing else is included with the purchase of the domain name. Our registrar NameBright.com does offer email packages for a yearly fee, however you will need to find hosting and web design services on your own.\\n          \\n          Yes we offer payment plans for up to 12 months.\\n          \\n           See details\\n          \\n          .\\n          \\n          If you wish the domain ownership information to be private, add WhoIs Privacy Protection to your domain. This hides your personal information from the general public.\\n          \\n          \\u00a0\\n          \\n          To add privacy protection to your domain, do so within your registrar account. NameBright offers WhoIs Privacy Protection for free for the first year, and then for a small fee for subsequent years.\\n          \\n          \\u00a0\\n          \\n          Whois information is not updated immediately. It typically takes several hours for Whois data to update, and different registrars are faster than others. Usually your Whois information will be fully updated within two days.\\n          \\n          It's easy to think a domain name and a website are the same. While they are related, they are very different things.\\n          \\n          \\u00a0\\n          \\n          \\u2022 A domain name is like the address of your home. It just tells people where to go to find you.\\n          \\n          \\u2022 Websites are the code and content that you provide.\\n          \\n          \\u2022 A web host is a service that provides technology, allowing your website to be seen on the Internet.\\n          \\n     \\u00a9 2021 HugeDomains.com. All rights reserved.\\n    \"\n        ],\n        \"semantic_type\": \"\",\n        \"description\": \"\"\n      }\n    }\n  ]\n}"
            }
          },
          "metadata": {},
          "execution_count": 3
        }
      ],
      "source": [
        "import pandas as pd\n",
        "df = pd.read_csv('/content/drive/MyDrive/dataset-part-1/extracted_data.csv')\n",
        "df.head(799)"
      ]
    },
    {
      "cell_type": "code",
      "execution_count": null,
      "metadata": {
        "colab": {
          "base_uri": "https://localhost:8080/"
        },
        "id": "cxO24YlVwjLd",
        "outputId": "62554fb7-62c2-4602-f2f6-d01678923024"
      },
      "outputs": [
        {
          "output_type": "stream",
          "name": "stdout",
          "text": [
            "                 file_name                                              title  \\\n",
            "0    1622000111815969.html              \\n   Paypal - Log in your account\\n     \n",
            "1     162214030163758.html                                     \\n   Gmail\\n     \n",
            "2    1626907950904767.html     \\n   ‎10 Day NOAA Weather on the App Store\\n     \n",
            "3    1627144214613448.html                      \\n   NaVi Team - Giveaway\\n     \n",
            "4    1626067948222555.html                            \\n   Amazon Sign In\\n     \n",
            "..                     ...                                                ...   \n",
            "794  1635747418498447.html  \\n   Huntington Bancshares Inc, HBAN:NSQ summa...   \n",
            "795  1635748094761144.html                     \\n   McDelivery™ Sri Lanka\\n     \n",
            "796   163574908792612.html     \\n   Account – Taylor Swift Official Store\\n     \n",
            "797          10003934.html                                                NaN   \n",
            "798          10004056.html                                               Home   \n",
            "\n",
            "                                               content  \n",
            "0                                                  NaN  \n",
            "1    \\n \\n\\n\\n           Sign in with a different a...  \n",
            "2    \\n           Always stay a step ahead of the w...  \n",
            "3    \\n         Free case giveaway.\\n         \\n   ...  \n",
            "4                                               \\n\\n\\n  \n",
            "..                                                 ...  \n",
            "794  \\n                Largest regional lenders hav...  \n",
            "795  \\n\\n\\n\\n        We will be switching to the br...  \n",
            "796  \\n      Your cart is empty\\n      \\n        fr...  \n",
            "797  Ayúdanos a comprobar que no eres un robot © 20...  \n",
            "798                                                NaN  \n",
            "\n",
            "[799 rows x 3 columns]\n"
          ]
        }
      ],
      "source": [
        "import pandas as pd\n",
        "\n",
        "# Load your dataset\n",
        "dataset_file = '/content/drive/MyDrive/dataset-part-1/extracted_data.csv'\n",
        "df = pd.read_csv(dataset_file)\n",
        "\n",
        "# Clean the 'title' column\n",
        "df['title'] = df['title'].str.replace(r'\\n', '')  # Remove newline characters\n",
        "\n",
        "# Display the cleaned dataset\n",
        "print(df.head(799))\n"
      ]
    },
    {
      "cell_type": "code",
      "execution_count": null,
      "metadata": {
        "colab": {
          "base_uri": "https://localhost:8080/"
        },
        "id": "kcrq70IxxHgG",
        "outputId": "4411b3df-ff96-491e-8fc2-2fb1da5f569d"
      },
      "outputs": [
        {
          "output_type": "stream",
          "name": "stdout",
          "text": [
            "               file_name                                           title  \\\n",
            "0  1622000111815969.html           \\n   Paypal - Log in your account\\n     \n",
            "1   162214030163758.html                                  \\n   Gmail\\n     \n",
            "2  1626907950904767.html  \\n   ‎10 Day NOAA Weather on the App Store\\n     \n",
            "3  1627144214613448.html                   \\n   NaVi Team - Giveaway\\n     \n",
            "4  1626067948222555.html                         \\n   Amazon Sign In\\n     \n",
            "\n",
            "                                             content  \n",
            "0                                                NaN  \n",
            "1  \\n \\n\\n\\n           Sign in with a different a...  \n",
            "2  \\n           Always stay a step ahead of the w...  \n",
            "3  \\n         Free case giveaway.\\n         \\n   ...  \n",
            "4                                             \\n\\n\\n  \n"
          ]
        }
      ],
      "source": [
        "print(df.head())"
      ]
    },
    {
      "cell_type": "code",
      "execution_count": null,
      "metadata": {
        "colab": {
          "base_uri": "https://localhost:8080/"
        },
        "id": "NjY2K4Fi0gPv",
        "outputId": "15781ce0-28c5-46f9-9084-7aa6411533fb"
      },
      "outputs": [
        {
          "output_type": "stream",
          "name": "stdout",
          "text": [
            "               file_name                                       title  \\\n",
            "0  1622000111815969.html               Paypal  Log in your account     \n",
            "1   162214030163758.html                                     Gmail     \n",
            "2  1626907950904767.html     ‎10 Day NOAA Weather on the App Store     \n",
            "3  1627144214613448.html                       NaVi Team  Giveaway     \n",
            "4  1626067948222555.html                            Amazon Sign In     \n",
            "\n",
            "                                             content  \n",
            "0                                                     \n",
            "1              Sign in with a different account  ...  \n",
            "2             Always stay a step ahead of the wea...  \n",
            "3           Free case giveaway.                  ...  \n",
            "4                                                     \n"
          ]
        }
      ],
      "source": [
        "import pandas as pd\n",
        "\n",
        "# Read the dataset from a CSV file (replace 'your_dataset.csv' with the path to your dataset file)\n",
        "df = pd.read_csv('/content/drive/MyDrive/dataset-part-1/extracted_data.csv')\n",
        "\n",
        "# Function to clean strings in a DataFrame column\n",
        "def clean_string(text):\n",
        "    # Remove '$', 'null', 'nan', '\\n', and '-'\n",
        "    cleaned_text = str(text).replace(\"$\", \"\").replace(\"null\", \"\").replace(\"nan\", \"\").replace(\"\\n\", \"\").replace(\"-\", \"\")\n",
        "    return cleaned_text\n",
        "\n",
        "# Apply the cleaning function to each column in the DataFrame\n",
        "for column in df.columns:\n",
        "    df[column] = df[column].apply(clean_string)\n",
        "\n",
        "# Save the cleaned DataFrame back to a CSV file (replace 'cleaned_dataset.csv' with the desired output file path)\n",
        "df.to_csv('cleaned_dataset.csv', index=False)\n",
        "\n",
        "# Optionally, you can display the first few rows of the cleaned DataFrame to verify the cleaning process\n",
        "print(df.head())\n"
      ]
    },
    {
      "cell_type": "code",
      "source": [
        "import pandas as pd\n",
        "\n",
        "# Load the dataset\n",
        "df = pd.read_csv('/content/drive/MyDrive/MiniProject/cleaned_dataset - cleaned_dataset.csv')\n",
        "\n",
        "# Filter the DataFrame to keep only rows where the \"title\" column contains a string\n",
        "df = df[df['title'].apply(lambda x: isinstance(x, str))]\n",
        "\n",
        "# For example, let's print the first few rows of the filtered DataFrame\n",
        "print(df.head(799))"
      ],
      "metadata": {
        "colab": {
          "base_uri": "https://localhost:8080/"
        },
        "id": "sg6FMROarXaR",
        "outputId": "c564f1f6-a073-4447-9409-c1e68201b5de"
      },
      "execution_count": null,
      "outputs": [
        {
          "output_type": "stream",
          "name": "stdout",
          "text": [
            "                 file_name                                              title  \\\n",
            "0    1622000111815969.html                        Paypal  Log in your account   \n",
            "1     162214030163758.html                                              Gmail   \n",
            "2    1626907950904767.html              ‎10 Day NOAA Weather on the App Store   \n",
            "3    1627144214613448.html                                NaVi Team  Giveaway   \n",
            "4     162692410655005.html                Office 365 Login | Microsoft Office   \n",
            "..                     ...                                                ...   \n",
            "658  1635747133716288.html        Men's Razors & Shaving Products | Gillette®   \n",
            "659  1635747418498447.html     Huntington Bancshares Inc, HBAN:NSQ summary...   \n",
            "660  1635748094761144.html                              McDelivery™ Sri Lanka   \n",
            "661   163574908792612.html              Account – Taylor Swift Official Store   \n",
            "663          10004056.html                                               Home   \n",
            "\n",
            "                                               content  \n",
            "0                                                  NaN  \n",
            "1    Sign in with a different account              ...  \n",
            "2               Always stay a step ahead of the wea...  \n",
            "3    Free case giveaway.                  Get the f...  \n",
            "4                Remote Learning in education. Lear...  \n",
            "..                                                 ...  \n",
            "658       15% off code has been applied.           ...  \n",
            "659                  Largest regional lenders have ...  \n",
            "660          We will be switching to the breakfast ...  \n",
            "661        Your cart is empty              free shi...  \n",
            "663                                                NaN  \n",
            "\n",
            "[640 rows x 3 columns]\n"
          ]
        }
      ]
    },
    {
      "cell_type": "code",
      "source": [
        "# Drop rows with missing titles\n",
        "df.dropna(subset=['title'], inplace=True)\n",
        "df.head()"
      ],
      "metadata": {
        "colab": {
          "base_uri": "https://localhost:8080/",
          "height": 206
        },
        "id": "Za74lK6drgCX",
        "outputId": "59c1ee4b-79c0-40c6-aae4-e4f5940671b3"
      },
      "execution_count": null,
      "outputs": [
        {
          "output_type": "execute_result",
          "data": {
            "text/plain": [
              "               file_name                                  title  \\\n",
              "0  1622000111815969.html            Paypal  Log in your account   \n",
              "1   162214030163758.html                                  Gmail   \n",
              "2  1626907950904767.html  ‎10 Day NOAA Weather on the App Store   \n",
              "3  1627144214613448.html                    NaVi Team  Giveaway   \n",
              "4   162692410655005.html    Office 365 Login | Microsoft Office   \n",
              "\n",
              "                                             content  \n",
              "0                                                NaN  \n",
              "1  Sign in with a different account              ...  \n",
              "2             Always stay a step ahead of the wea...  \n",
              "3  Free case giveaway.                  Get the f...  \n",
              "4              Remote Learning in education. Lear...  "
            ],
            "text/html": [
              "\n",
              "  <div id=\"df-915e6cbd-a359-47cf-ab4e-8cfb6e98c3a4\" class=\"colab-df-container\">\n",
              "    <div>\n",
              "<style scoped>\n",
              "    .dataframe tbody tr th:only-of-type {\n",
              "        vertical-align: middle;\n",
              "    }\n",
              "\n",
              "    .dataframe tbody tr th {\n",
              "        vertical-align: top;\n",
              "    }\n",
              "\n",
              "    .dataframe thead th {\n",
              "        text-align: right;\n",
              "    }\n",
              "</style>\n",
              "<table border=\"1\" class=\"dataframe\">\n",
              "  <thead>\n",
              "    <tr style=\"text-align: right;\">\n",
              "      <th></th>\n",
              "      <th>file_name</th>\n",
              "      <th>title</th>\n",
              "      <th>content</th>\n",
              "    </tr>\n",
              "  </thead>\n",
              "  <tbody>\n",
              "    <tr>\n",
              "      <th>0</th>\n",
              "      <td>1622000111815969.html</td>\n",
              "      <td>Paypal  Log in your account</td>\n",
              "      <td>NaN</td>\n",
              "    </tr>\n",
              "    <tr>\n",
              "      <th>1</th>\n",
              "      <td>162214030163758.html</td>\n",
              "      <td>Gmail</td>\n",
              "      <td>Sign in with a different account              ...</td>\n",
              "    </tr>\n",
              "    <tr>\n",
              "      <th>2</th>\n",
              "      <td>1626907950904767.html</td>\n",
              "      <td>‎10 Day NOAA Weather on the App Store</td>\n",
              "      <td>Always stay a step ahead of the wea...</td>\n",
              "    </tr>\n",
              "    <tr>\n",
              "      <th>3</th>\n",
              "      <td>1627144214613448.html</td>\n",
              "      <td>NaVi Team  Giveaway</td>\n",
              "      <td>Free case giveaway.                  Get the f...</td>\n",
              "    </tr>\n",
              "    <tr>\n",
              "      <th>4</th>\n",
              "      <td>162692410655005.html</td>\n",
              "      <td>Office 365 Login | Microsoft Office</td>\n",
              "      <td>Remote Learning in education. Lear...</td>\n",
              "    </tr>\n",
              "  </tbody>\n",
              "</table>\n",
              "</div>\n",
              "    <div class=\"colab-df-buttons\">\n",
              "\n",
              "  <div class=\"colab-df-container\">\n",
              "    <button class=\"colab-df-convert\" onclick=\"convertToInteractive('df-915e6cbd-a359-47cf-ab4e-8cfb6e98c3a4')\"\n",
              "            title=\"Convert this dataframe to an interactive table.\"\n",
              "            style=\"display:none;\">\n",
              "\n",
              "  <svg xmlns=\"http://www.w3.org/2000/svg\" height=\"24px\" viewBox=\"0 -960 960 960\">\n",
              "    <path d=\"M120-120v-720h720v720H120Zm60-500h600v-160H180v160Zm220 220h160v-160H400v160Zm0 220h160v-160H400v160ZM180-400h160v-160H180v160Zm440 0h160v-160H620v160ZM180-180h160v-160H180v160Zm440 0h160v-160H620v160Z\"/>\n",
              "  </svg>\n",
              "    </button>\n",
              "\n",
              "  <style>\n",
              "    .colab-df-container {\n",
              "      display:flex;\n",
              "      gap: 12px;\n",
              "    }\n",
              "\n",
              "    .colab-df-convert {\n",
              "      background-color: #E8F0FE;\n",
              "      border: none;\n",
              "      border-radius: 50%;\n",
              "      cursor: pointer;\n",
              "      display: none;\n",
              "      fill: #1967D2;\n",
              "      height: 32px;\n",
              "      padding: 0 0 0 0;\n",
              "      width: 32px;\n",
              "    }\n",
              "\n",
              "    .colab-df-convert:hover {\n",
              "      background-color: #E2EBFA;\n",
              "      box-shadow: 0px 1px 2px rgba(60, 64, 67, 0.3), 0px 1px 3px 1px rgba(60, 64, 67, 0.15);\n",
              "      fill: #174EA6;\n",
              "    }\n",
              "\n",
              "    .colab-df-buttons div {\n",
              "      margin-bottom: 4px;\n",
              "    }\n",
              "\n",
              "    [theme=dark] .colab-df-convert {\n",
              "      background-color: #3B4455;\n",
              "      fill: #D2E3FC;\n",
              "    }\n",
              "\n",
              "    [theme=dark] .colab-df-convert:hover {\n",
              "      background-color: #434B5C;\n",
              "      box-shadow: 0px 1px 3px 1px rgba(0, 0, 0, 0.15);\n",
              "      filter: drop-shadow(0px 1px 2px rgba(0, 0, 0, 0.3));\n",
              "      fill: #FFFFFF;\n",
              "    }\n",
              "  </style>\n",
              "\n",
              "    <script>\n",
              "      const buttonEl =\n",
              "        document.querySelector('#df-915e6cbd-a359-47cf-ab4e-8cfb6e98c3a4 button.colab-df-convert');\n",
              "      buttonEl.style.display =\n",
              "        google.colab.kernel.accessAllowed ? 'block' : 'none';\n",
              "\n",
              "      async function convertToInteractive(key) {\n",
              "        const element = document.querySelector('#df-915e6cbd-a359-47cf-ab4e-8cfb6e98c3a4');\n",
              "        const dataTable =\n",
              "          await google.colab.kernel.invokeFunction('convertToInteractive',\n",
              "                                                    [key], {});\n",
              "        if (!dataTable) return;\n",
              "\n",
              "        const docLinkHtml = 'Like what you see? Visit the ' +\n",
              "          '<a target=\"_blank\" href=https://colab.research.google.com/notebooks/data_table.ipynb>data table notebook</a>'\n",
              "          + ' to learn more about interactive tables.';\n",
              "        element.innerHTML = '';\n",
              "        dataTable['output_type'] = 'display_data';\n",
              "        await google.colab.output.renderOutput(dataTable, element);\n",
              "        const docLink = document.createElement('div');\n",
              "        docLink.innerHTML = docLinkHtml;\n",
              "        element.appendChild(docLink);\n",
              "      }\n",
              "    </script>\n",
              "  </div>\n",
              "\n",
              "\n",
              "<div id=\"df-3a605339-f82f-498e-b5af-a8492b3e8a0d\">\n",
              "  <button class=\"colab-df-quickchart\" onclick=\"quickchart('df-3a605339-f82f-498e-b5af-a8492b3e8a0d')\"\n",
              "            title=\"Suggest charts\"\n",
              "            style=\"display:none;\">\n",
              "\n",
              "<svg xmlns=\"http://www.w3.org/2000/svg\" height=\"24px\"viewBox=\"0 0 24 24\"\n",
              "     width=\"24px\">\n",
              "    <g>\n",
              "        <path d=\"M19 3H5c-1.1 0-2 .9-2 2v14c0 1.1.9 2 2 2h14c1.1 0 2-.9 2-2V5c0-1.1-.9-2-2-2zM9 17H7v-7h2v7zm4 0h-2V7h2v10zm4 0h-2v-4h2v4z\"/>\n",
              "    </g>\n",
              "</svg>\n",
              "  </button>\n",
              "\n",
              "<style>\n",
              "  .colab-df-quickchart {\n",
              "      --bg-color: #E8F0FE;\n",
              "      --fill-color: #1967D2;\n",
              "      --hover-bg-color: #E2EBFA;\n",
              "      --hover-fill-color: #174EA6;\n",
              "      --disabled-fill-color: #AAA;\n",
              "      --disabled-bg-color: #DDD;\n",
              "  }\n",
              "\n",
              "  [theme=dark] .colab-df-quickchart {\n",
              "      --bg-color: #3B4455;\n",
              "      --fill-color: #D2E3FC;\n",
              "      --hover-bg-color: #434B5C;\n",
              "      --hover-fill-color: #FFFFFF;\n",
              "      --disabled-bg-color: #3B4455;\n",
              "      --disabled-fill-color: #666;\n",
              "  }\n",
              "\n",
              "  .colab-df-quickchart {\n",
              "    background-color: var(--bg-color);\n",
              "    border: none;\n",
              "    border-radius: 50%;\n",
              "    cursor: pointer;\n",
              "    display: none;\n",
              "    fill: var(--fill-color);\n",
              "    height: 32px;\n",
              "    padding: 0;\n",
              "    width: 32px;\n",
              "  }\n",
              "\n",
              "  .colab-df-quickchart:hover {\n",
              "    background-color: var(--hover-bg-color);\n",
              "    box-shadow: 0 1px 2px rgba(60, 64, 67, 0.3), 0 1px 3px 1px rgba(60, 64, 67, 0.15);\n",
              "    fill: var(--button-hover-fill-color);\n",
              "  }\n",
              "\n",
              "  .colab-df-quickchart-complete:disabled,\n",
              "  .colab-df-quickchart-complete:disabled:hover {\n",
              "    background-color: var(--disabled-bg-color);\n",
              "    fill: var(--disabled-fill-color);\n",
              "    box-shadow: none;\n",
              "  }\n",
              "\n",
              "  .colab-df-spinner {\n",
              "    border: 2px solid var(--fill-color);\n",
              "    border-color: transparent;\n",
              "    border-bottom-color: var(--fill-color);\n",
              "    animation:\n",
              "      spin 1s steps(1) infinite;\n",
              "  }\n",
              "\n",
              "  @keyframes spin {\n",
              "    0% {\n",
              "      border-color: transparent;\n",
              "      border-bottom-color: var(--fill-color);\n",
              "      border-left-color: var(--fill-color);\n",
              "    }\n",
              "    20% {\n",
              "      border-color: transparent;\n",
              "      border-left-color: var(--fill-color);\n",
              "      border-top-color: var(--fill-color);\n",
              "    }\n",
              "    30% {\n",
              "      border-color: transparent;\n",
              "      border-left-color: var(--fill-color);\n",
              "      border-top-color: var(--fill-color);\n",
              "      border-right-color: var(--fill-color);\n",
              "    }\n",
              "    40% {\n",
              "      border-color: transparent;\n",
              "      border-right-color: var(--fill-color);\n",
              "      border-top-color: var(--fill-color);\n",
              "    }\n",
              "    60% {\n",
              "      border-color: transparent;\n",
              "      border-right-color: var(--fill-color);\n",
              "    }\n",
              "    80% {\n",
              "      border-color: transparent;\n",
              "      border-right-color: var(--fill-color);\n",
              "      border-bottom-color: var(--fill-color);\n",
              "    }\n",
              "    90% {\n",
              "      border-color: transparent;\n",
              "      border-bottom-color: var(--fill-color);\n",
              "    }\n",
              "  }\n",
              "</style>\n",
              "\n",
              "  <script>\n",
              "    async function quickchart(key) {\n",
              "      const quickchartButtonEl =\n",
              "        document.querySelector('#' + key + ' button');\n",
              "      quickchartButtonEl.disabled = true;  // To prevent multiple clicks.\n",
              "      quickchartButtonEl.classList.add('colab-df-spinner');\n",
              "      try {\n",
              "        const charts = await google.colab.kernel.invokeFunction(\n",
              "            'suggestCharts', [key], {});\n",
              "      } catch (error) {\n",
              "        console.error('Error during call to suggestCharts:', error);\n",
              "      }\n",
              "      quickchartButtonEl.classList.remove('colab-df-spinner');\n",
              "      quickchartButtonEl.classList.add('colab-df-quickchart-complete');\n",
              "    }\n",
              "    (() => {\n",
              "      let quickchartButtonEl =\n",
              "        document.querySelector('#df-3a605339-f82f-498e-b5af-a8492b3e8a0d button');\n",
              "      quickchartButtonEl.style.display =\n",
              "        google.colab.kernel.accessAllowed ? 'block' : 'none';\n",
              "    })();\n",
              "  </script>\n",
              "</div>\n",
              "    </div>\n",
              "  </div>\n"
            ],
            "application/vnd.google.colaboratory.intrinsic+json": {
              "type": "dataframe",
              "variable_name": "df",
              "summary": "{\n  \"name\": \"df\",\n  \"rows\": 640,\n  \"fields\": [\n    {\n      \"column\": \"file_name\",\n      \"properties\": {\n        \"dtype\": \"string\",\n        \"num_unique_values\": 640,\n        \"samples\": [\n          \"1635709726130096.html\",\n          \"1613574004969257.html\",\n          \"1613529501089417.html\"\n        ],\n        \"semantic_type\": \"\",\n        \"description\": \"\"\n      }\n    },\n    {\n      \"column\": \"title\",\n      \"properties\": {\n        \"dtype\": \"string\",\n        \"num_unique_values\": 572,\n        \"samples\": [\n          \"Logitech K375s MultiDevice Wireless Keyboard & Stand Combo\",\n          \"Sunny | Into the Badlands Wikia | Fandom\",\n          \"   Office 365  Business Essentials, Business Premium | Tech One Global  \"\n        ],\n        \"semantic_type\": \"\",\n        \"description\": \"\"\n      }\n    },\n    {\n      \"column\": \"content\",\n      \"properties\": {\n        \"dtype\": \"string\",\n        \"num_unique_values\": 510,\n        \"samples\": [\n          \"          John Peake Knight              (13 December 1828 \\u2013 23 July 1886) was an English railway manager and inventor, credited with inventing the               traffic light              in 1868.              Knight was born in               Nottingham              and attended               Nottingham High School              . He left school at the age of 12 to work in the parcel room of               Derby              railway station. Peake Knight was promoted quickly and by the age of 20 had joined the South Eastern Railway, rising to the rank of Superintendent. He was appointed Traffic Manager for the London to Brighton Line in 1869 and General Manager the following year. He did a great deal to improve the quality of railway travel on the railway, introducing the               Westinghouse air brake              , safer carriages with               communication cords              , electric lighting, and Pullman cars.                [3]                He and his wife, Elizabeth, had five sons and the eldest founded J P Knight Ltd., tug boat operators.              Knight died in 1886 and the Prince of Wales had a special wreath placed on his coffin during the funeral.                [4]               He is buried in               Brompton Cemetery              in London.                [5]                In 1866, a year in which 1,102 people were killed and 1,334 injured on roads in               London              , Knight proposed a signalling system to regulate the horsedrawn traffic and reduce the number of road accidents. Knight's invention was operated by a policeman and used a               semaphore              , system based on railway signalling, during the day and red and green gaspowered lamps at night. The world's first traffic light was installed on 9 December 1868 in London near               Westminster Bridge              , at the intersection of Great George Street and Bridge Street,               London SW1              . However, in 1869, a gas leak caused one of the lights to explode, badly injuring the policeman operating it, and the system fell out of favour and was removed as a result. Traffic lights did not appear again in the               UK              until 1929, when the first electric signals were introduced in London.                [6]                A memorial plaque to Knight's invention can be seen at 12 Bridge Street, Westminster, the corner building close to where the original traffic lights were erected. Minister for Roads and Road Safety               Baroness Hayman              unveiled the plaque on 4 March 1998.                [4]        \",\n          \"        Google Search Console              is a web service by               Google              which allows               webmasters              to check indexing status and               optimize visibility              of their websites.                [1]                Until 20 May 2015, the service was called Google Webmaster Tools.                [2]               In January 2018, Google introduced a new version of the search console, with changes to the user interface. In September of 2019, old Search Console reports, including the home and dashboard pages, were removed.                [3]                The service includes tools that let webmasters              The list of inbound links on Google Webmaster Tools is generally much larger than the list of inbound links that can be discovered using the               link:example.com              search query on Google itself. The list on Google Webmaster Tools includes               nofollow              links that do not convey               search engine optimization              authority to the linked site. On the other hand, the list of links generated with a               link:example.com              type query is deemed by Google to be \\\"important\\\" links in a controversial way. Google Webmaster Tools, as well as the Google index, seems to routinely ignore               link spam              .Once a manual penalty has been removed, Google Webmaster Tools will still display the penalty for another 1\\u20133 days.                [16]               After the Google Search Console rebrand, information has been produced demonstrating that Google Search Console creates data points that do not reconcile with               Google Analytics              or ranking data, particularly within the local search market.              Due to a persistent bug in the new Google Search Console, many users cannot upload a valid sitemap (\\\"Couldn't fetch sitemap\\\" or \\\"Sitemap could not be read\\\" errors).                [17]         \",\n          \"       LAN Setup              There's nothing better than staying up all night playing videogames with your friends. Everyone craming into a small basement, ten or more gaming PCs pumping out heat, and more RGB LEDs lighting up the place than you can shake a stick at. If this sounds like a fun evening to you, but you don't know where to start, let me help you out.              To setup a basic lan, you will need:                  Computers              Obviously, everyone who plans on participating in a LAN party will need their own computer.              I would also suggest trying to have everyone install all the games & updates BEFORE arriving. That way, you won't spend hours waiting for everyone to get uptospeed.              Be sure to set all your LEDs to full rainbow mode for more FPS.              \\u00a0               Network Cards              \\u00a0              If you somehow have a computer without a network card in it, go buy one for 20. But honestly you probably need a new computer.              \\u00a0              Or you could be a man and buy this one.              \\u00a0               Network Cables              This is another obvious one. Every computer will have to be connected to the network, prefferably using a physical network cable. I would try to avoid wireless if possible.              There are a few types of network cables available. There is Cat5, Cat5e, and Cat6 (technically there are more, but these three are the norm). There are also shielded and unshielded versions of these cables. I would go with either Cat5e or Cat6. Cat6 is technically rated for gigabit speeds, but Cat5e can work too. If you want to pay extra for the shielded version of the cable, that's great, but unless you are having a lan party inside of microwave, you probably won't see any difference. I suppose the lifespan of the cable may increase, but that's about it.              \\u00a0               Hub, Switch, or Router              I mean... I would hope in this day and age you are using a router with a few available ports. Better yet, you have a separate switch plugged into your router giving you an additional 5 or 8 ports.              \\u00a0              When I host LANs we're using a 24 port gigabit Linksys switch, but you can easily use something a bit more affordable like one of these 5 / 8 port DLINK switches.              \\u00a0               Power              Having adequet power for a LAN party is essential. You don't need a dozen PCs suddenly shutting off because you blew a fuse. I personally recommend putting no more than 3 computers on a single 15amp fuse. Just spread it over as many fuses as possible. I don't have actual eletrical readings, but with today's power supplies easily being rated at at least 550w, it's better to be safe than sorry.              If you don't have enough outlets on separate fuses in the area you plan on having your lan, go buy some cheap 50ft extension cords. Also,               use surge protectors              not just power strips!! Power strips offer no protection!! Most people should only have two things they absolutely need to plug in: the computer, and the monitor. If they bring speakers, tell them to use headphones.              \\u00a0               Connections              Once you have all your computers, network adapters, cables, and switches together, they need to be connected.               \\u00a0               Disable Unused Adapters              On most modern computers, you may find two or more network adapters. This poses a problem for some games, and it is highly recommened that all unused LAN adapters are disabled, whether it be a physical plug, wireless, or even virtual (like hamachi or some other vpn software). The ideal scenario is to have ONE and only ONE adapter in use. This way the game can't somehow get confused as to which adapter it is trying to send/recieve information from.              Open the Control Panel, go to Network and Internet, Network and Sharing Center, Change Adapter Settings, and then rightclick on the unused adapters and disable them so they are greyed out.              \\u00a0               Verify Connectivity              To test connectivity, simply go to Windows start button, go to run, type in 'cmd' with no quotes and push enter, then in the DOS screen that appears, type in 'ping IPADDRESS'. Obviously, don't include the quotes, and dont actually type in IPADDRESS. Instead, type in another computer's IP address.              Assuming no one is running any firewalls, antivirus, or anti spyware programs, you should be able to ping one another with no problem.              A successful ping request will say 'Reply from (IPADDRESS): bytes=32 time....' 4 times total, and then give a short summary of the ping request.              An unsuccessful ping request will say 'Request timed out.' 4 times total, then give a short summary of the failed ping request.              \\u00a0               Hey if I helped you out, why not buy me a Mountain Dew?               \\u00a0      \"\n        ],\n        \"semantic_type\": \"\",\n        \"description\": \"\"\n      }\n    }\n  ]\n}"
            }
          },
          "metadata": {},
          "execution_count": 8
        }
      ]
    },
    {
      "cell_type": "code",
      "source": [
        "import pandas as pd\n",
        "\n",
        "# Load your dataset (replace 'your_dataset.csv' with the actual file name)\n",
        "df = pd.read_csv('/content/drive/MyDrive/MiniProject/cleaned_dataset - cleaned_dataset.csv')\n",
        "\n",
        "# Extract the content column\n",
        "content_column = df['content']\n",
        "\n",
        "# Now you can use the content_column for further processing\n",
        "print(content_column)"
      ],
      "metadata": {
        "colab": {
          "base_uri": "https://localhost:8080/"
        },
        "id": "UuY0TYAc9A-D",
        "outputId": "d004c926-4cc6-48cd-aea8-e19c2d82940a"
      },
      "execution_count": null,
      "outputs": [
        {
          "output_type": "stream",
          "name": "stdout",
          "text": [
            "0                                                    NaN\n",
            "1      Sign in with a different account              ...\n",
            "2                 Always stay a step ahead of the wea...\n",
            "3      Free case giveaway.                  Get the f...\n",
            "4                  Remote Learning in education. Lear...\n",
            "                             ...                        \n",
            "659                    Largest regional lenders have ...\n",
            "660            We will be switching to the breakfast ...\n",
            "661          Your cart is empty              free shi...\n",
            "662    Ayúdanos a comprobar que no eres un robot © 20...\n",
            "663                                                  NaN\n",
            "Name: content, Length: 664, dtype: object\n"
          ]
        }
      ]
    },
    {
      "cell_type": "markdown",
      "source": [
        "BERT FOR CONTENT ANALYSIS"
      ],
      "metadata": {
        "id": "wCIEp3i4DbDE"
      }
    },
    {
      "cell_type": "code",
      "source": [
        "import torch\n",
        "from transformers import BertTokenizer, BertModel\n",
        "import pandas as pd\n",
        "\n",
        "# Load pre-trained BERT tokenizer and model\n",
        "tokenizer = BertTokenizer.from_pretrained('bert-base-uncased')\n",
        "model = BertModel.from_pretrained('bert-base-uncased')\n",
        "\n",
        "# Function to preprocess text and generate BERT embeddings\n",
        "def preprocess_and_embed(text):\n",
        "    # Ensure text is a string\n",
        "    text = str(text)\n",
        "\n",
        "    # Tokenize input text\n",
        "    inputs = tokenizer(text, return_tensors='pt', padding=True, truncation=True, max_length=512, add_special_tokens=True)\n",
        "\n",
        "    # Generate BERT embeddings\n",
        "    with torch.no_grad():\n",
        "        outputs = model(**inputs)\n",
        "        embeddings = outputs.last_hidden_state.mean(dim=1).squeeze(0)  # Mean pooling of token embeddings\n",
        "\n",
        "    return embeddings\n",
        "\n",
        "# Load your dataset and extract the content column\n",
        "df = pd.read_csv('/content/drive/MyDrive/MiniProject/cleaned_dataset - cleaned_dataset.csv')\n",
        "content_column = df['content']\n",
        "\n",
        "# Preprocess content and generate BERT embeddings\n",
        "embeddings = []\n",
        "for content in content_column:\n",
        "    embeddings.append(preprocess_and_embed(content))\n",
        "\n",
        "# Convert embeddings to a DataFrame\n",
        "embedding_df_bert = pd.DataFrame(torch.stack(embeddings).numpy())\n",
        "\n",
        "# Now you can use embedding_df for further analysis such as clustering, classification, etc.\n"
      ],
      "metadata": {
        "id": "e6DeuUFP-AFl",
        "colab": {
          "base_uri": "https://localhost:8080/",
          "height": 305,
          "referenced_widgets": [
            "d8ec40eeda3842379e878ba58393fb6c",
            "85c28ba1aa0c4369b76f8ad9babc09fe",
            "f5037d60e88b4014b8ea07d526fd28d1",
            "97e4501fa77f423fa9070d11590e9468",
            "0309b54114d045a9bbb923e38d6c4c05",
            "48ce7a136ec94e1aa8355ac7d27737ac",
            "c308268b3eb34f27b83d97e87b1ff2a6",
            "3d1a8b97d34a486abc86717e25cf8085",
            "92b6a387b798444dad0bb9fa9f9ef372",
            "d040a807ff5446578d4e4528dfb4a654",
            "4ae0046eae1c48afa900458c13b4528a",
            "08b0a656c3b44fc2aa003fac510b6703",
            "bf388cd3317440acb5fec1f67d66df30",
            "2b5102ea155e40bb9f05b174b15b0c6c",
            "fe54dc1272e74dc69e9933cb9fe0ca21",
            "1c17dd85550044d298e9418d861b5682",
            "5f279916538d4fb39aa9427c5b25c963",
            "8f7b277e26824beda14ac7bed9b87875",
            "6e293ae80c304405a348064363a271a7",
            "10a0dd4e5d2a44b9bf2c0cfca66da98b",
            "d68ea9afb8e64ce38933a0013e23d575",
            "0fa2e55459204bfcaea25a3a62df9acd",
            "dfc031d5aee2472f8f5315493c7e9a21",
            "ad05fe6086f046ba82b4e8eecd4115ad",
            "f20a4012336a4d3ba6546ede145d158a",
            "a4319b48427e4f26847973cb243dac69",
            "2033c4a30ee44280b57e6712a7a566bf",
            "3fe6423c7cd1433db73cd5ef40dabdb9",
            "c64fe583cf5d489c94f0f82261dbf079",
            "e9d488ce98b54bcdb077333377823e69",
            "3d2fde838d9041fa9d1d7937b726f99a",
            "f1e55fe91c8d4d6fb14b19a111afbf57",
            "3054bface5644051afce96feebf1b6ac",
            "dac1e0d4352b4c28b40feb7c7b24ab4f",
            "e607639742a144d7a5b8615ff2d01698",
            "e30909ba1eb346929e9bfee20894a8df",
            "f050cb7ed3904ccd8d4f224065529fac",
            "3165be6e80354969aed998ce1416c89a",
            "a9f6655ebb6646fda0e27ff4d1cc8f14",
            "fdf0a0f75a414771a10ccf106861d5e3",
            "c7b42bbc72934a71823c6c21e136b286",
            "23b729b9ffc34238930d6db155dc746e",
            "ded5e79575b24073bdd89c01fcd36fd5",
            "63ecdbce593e464b9a6f4d345d16537e",
            "db3cee5952ef4dc096674cc3fc53390d",
            "f8d762afa82c4323b71bb6f608a132b8",
            "3eff9448b4ca40a8b2cb46760282fa80",
            "d9d74f0748e44c2e836cc7c2703b7f02",
            "ce98eea99752477f870d98c8f0bbbb48",
            "4249ae00891c485eab3e849f21d60438",
            "4ade03a83e904ff7acc815c786efa6ab",
            "e748899a51c24b34ad903dcaa1cf5ab4",
            "f581669d2cc84809adeb32821fcf783c",
            "832ded2e75fa46bf9e2147e4005d87fc",
            "fe06de13110542e29ad35dbd382a181e"
          ]
        },
        "outputId": "2c79b8ee-7743-41c5-b3d2-1bfcbea78cf6"
      },
      "execution_count": null,
      "outputs": [
        {
          "output_type": "stream",
          "name": "stderr",
          "text": [
            "/usr/local/lib/python3.10/dist-packages/huggingface_hub/utils/_token.py:88: UserWarning: \n",
            "The secret `HF_TOKEN` does not exist in your Colab secrets.\n",
            "To authenticate with the Hugging Face Hub, create a token in your settings tab (https://huggingface.co/settings/tokens), set it as secret in your Google Colab and restart your session.\n",
            "You will be able to reuse this secret in all of your notebooks.\n",
            "Please note that authentication is recommended but still optional to access public models or datasets.\n",
            "  warnings.warn(\n"
          ]
        },
        {
          "output_type": "display_data",
          "data": {
            "text/plain": [
              "tokenizer_config.json:   0%|          | 0.00/48.0 [00:00<?, ?B/s]"
            ],
            "application/vnd.jupyter.widget-view+json": {
              "version_major": 2,
              "version_minor": 0,
              "model_id": "d8ec40eeda3842379e878ba58393fb6c"
            }
          },
          "metadata": {}
        },
        {
          "output_type": "display_data",
          "data": {
            "text/plain": [
              "vocab.txt:   0%|          | 0.00/232k [00:00<?, ?B/s]"
            ],
            "application/vnd.jupyter.widget-view+json": {
              "version_major": 2,
              "version_minor": 0,
              "model_id": "08b0a656c3b44fc2aa003fac510b6703"
            }
          },
          "metadata": {}
        },
        {
          "output_type": "display_data",
          "data": {
            "text/plain": [
              "tokenizer.json:   0%|          | 0.00/466k [00:00<?, ?B/s]"
            ],
            "application/vnd.jupyter.widget-view+json": {
              "version_major": 2,
              "version_minor": 0,
              "model_id": "dfc031d5aee2472f8f5315493c7e9a21"
            }
          },
          "metadata": {}
        },
        {
          "output_type": "display_data",
          "data": {
            "text/plain": [
              "config.json:   0%|          | 0.00/570 [00:00<?, ?B/s]"
            ],
            "application/vnd.jupyter.widget-view+json": {
              "version_major": 2,
              "version_minor": 0,
              "model_id": "dac1e0d4352b4c28b40feb7c7b24ab4f"
            }
          },
          "metadata": {}
        },
        {
          "output_type": "display_data",
          "data": {
            "text/plain": [
              "model.safetensors:   0%|          | 0.00/440M [00:00<?, ?B/s]"
            ],
            "application/vnd.jupyter.widget-view+json": {
              "version_major": 2,
              "version_minor": 0,
              "model_id": "db3cee5952ef4dc096674cc3fc53390d"
            }
          },
          "metadata": {}
        }
      ]
    },
    {
      "cell_type": "code",
      "source": [
        "print(embedding_df_bert)"
      ],
      "metadata": {
        "colab": {
          "base_uri": "https://localhost:8080/"
        },
        "id": "nXtD4Y_RAzDo",
        "outputId": "ce262732-2164-4408-91d2-0d97179ce56c"
      },
      "execution_count": null,
      "outputs": [
        {
          "output_type": "stream",
          "name": "stdout",
          "text": [
            "          0         1         2         3         4         5         6    \\\n",
            "0    0.147346 -0.120473 -0.143501 -0.050273 -0.246980 -0.174425  0.217534   \n",
            "1    0.350327 -0.065798  0.214230 -0.087303  0.578310 -0.041046  0.363392   \n",
            "2   -0.237621 -0.058696  0.650889  0.037571  0.328298 -0.114106  0.083093   \n",
            "3   -0.135142 -0.429204  0.316161 -0.066527  0.652873 -0.099295  0.398038   \n",
            "4    0.063081  0.174957  0.409324  0.291393  0.659153 -0.189888  0.142736   \n",
            "..        ...       ...       ...       ...       ...       ...       ...   \n",
            "659 -0.238712  0.112074  0.419463  0.092873  0.491780  0.032514 -0.258205   \n",
            "660 -0.136295  0.059159  0.369377 -0.123826  0.672391  0.043028  0.234821   \n",
            "661  0.032996  0.096790  0.566874  0.000688  0.761202 -0.276982  0.221735   \n",
            "662  0.005267 -0.078325  0.086802  0.487502  0.570903  0.402007  0.290157   \n",
            "663  0.147346 -0.120473 -0.143501 -0.050273 -0.246980 -0.174425  0.217534   \n",
            "\n",
            "          7         8         9    ...       758       759       760  \\\n",
            "0   -0.021909  0.250342 -0.369515  ...  0.510520 -0.168481 -0.157159   \n",
            "1    0.549775  0.073673 -0.337824  ...  0.483641 -0.234059  0.095653   \n",
            "2    0.535012 -0.076168 -0.295784  ... -0.079684 -0.126673  0.116931   \n",
            "3    0.634445  0.055858 -0.101914  ...  0.309279  0.208783  0.086236   \n",
            "4    0.406681 -0.042805 -0.926439  ...  0.309714  0.044583 -0.020212   \n",
            "..        ...       ...       ...  ...       ...       ...       ...   \n",
            "659  0.478918 -0.014238 -0.126550  ... -0.231684 -0.056562  0.084617   \n",
            "660  0.503616 -0.034052 -0.166012  ... -0.006646 -0.214337  0.110540   \n",
            "661  0.396783  0.090085 -0.241677  ...  0.108470 -0.350697 -0.093232   \n",
            "662  1.083971  0.125171 -0.309304  ...  0.272151 -0.032011  0.111204   \n",
            "663 -0.021909  0.250342 -0.369515  ...  0.510520 -0.168481 -0.157159   \n",
            "\n",
            "          761       762       763       764       765       766       767  \n",
            "0   -0.270925 -0.184986 -0.467401  0.170689 -0.064285 -0.171124 -0.133782  \n",
            "1   -0.310319  0.187659  0.202229 -0.102358 -0.212981 -0.065813  0.431843  \n",
            "2   -0.227643 -0.036632 -0.123068 -0.104354 -0.210863  0.016573  0.002450  \n",
            "3   -0.320681 -0.095358  0.060656 -0.084094 -0.282505  0.018360  0.264842  \n",
            "4   -0.402050  0.131049  0.288860 -0.118262 -0.346046 -0.149852 -0.108073  \n",
            "..        ...       ...       ...       ...       ...       ...       ...  \n",
            "659 -0.205333  0.155375 -0.400828 -0.085818 -0.040061  0.019216 -0.057515  \n",
            "660 -0.360918 -0.118951 -0.007460 -0.169806  0.139621 -0.013821  0.006111  \n",
            "661 -0.276254  0.158488 -0.040404 -0.350840 -0.344843 -0.207272 -0.228331  \n",
            "662  0.099147 -0.160676 -0.136601  0.091278 -0.735479 -0.047660  0.456039  \n",
            "663 -0.270925 -0.184986 -0.467401  0.170689 -0.064285 -0.171124 -0.133782  \n",
            "\n",
            "[664 rows x 768 columns]\n"
          ]
        }
      ]
    },
    {
      "cell_type": "code",
      "source": [
        "from sklearn.cluster import KMeans\n",
        "\n",
        "# Assuming embedding_df contains BERT embeddings\n",
        "# Perform K-Means clustering\n",
        "kmeans = KMeans(n_clusters=2, random_state=42)\n",
        "kmeans.fit(embedding_df_bert)\n",
        "\n",
        "# Get cluster labels\n",
        "cluster_labels = kmeans.labels_\n",
        "\n",
        "# Assuming cluster 0 represents legitimate content and cluster 1 represents phishing content\n",
        "\n",
        "phishing_cluster = 1  # Adjust this if necessary\n",
        "\n",
        "# Get indices of instances in the phishing cluster\n",
        "phishing_indices = [i for i, label in enumerate(cluster_labels) if label == phishing_cluster]\n",
        "\n",
        "# Print indices of potential phishing instances\n",
        "print(\"Indices of potential phishing instances:\", phishing_indices)\n"
      ],
      "metadata": {
        "colab": {
          "base_uri": "https://localhost:8080/"
        },
        "id": "xWySjAGaBRCQ",
        "outputId": "c427c3b0-6874-435a-8bb4-6039e8679fed"
      },
      "execution_count": null,
      "outputs": [
        {
          "output_type": "stream",
          "name": "stderr",
          "text": [
            "/usr/local/lib/python3.10/dist-packages/sklearn/cluster/_kmeans.py:870: FutureWarning: The default value of `n_init` will change from 10 to 'auto' in 1.4. Set the value of `n_init` explicitly to suppress the warning\n",
            "  warnings.warn(\n"
          ]
        },
        {
          "output_type": "stream",
          "name": "stdout",
          "text": [
            "Indices of potential phishing instances: [0, 5, 9, 14, 26, 28, 51, 54, 73, 112, 117, 120, 123, 125, 137, 141, 162, 164, 179, 201, 211, 217, 224, 226, 233, 236, 237, 238, 240, 244, 251, 252, 255, 258, 259, 261, 262, 263, 267, 272, 279, 291, 296, 304, 306, 311, 318, 322, 326, 331, 333, 338, 339, 342, 348, 356, 358, 360, 362, 363, 365, 367, 375, 384, 386, 387, 388, 390, 397, 403, 407, 422, 424, 439, 440, 453, 455, 458, 465, 469, 474, 476, 486, 487, 494, 498, 501, 503, 522, 531, 535, 537, 540, 554, 574, 580, 583, 584, 585, 590, 591, 597, 604, 614, 618, 620, 625, 630, 635, 638, 639, 652, 657, 663]\n"
          ]
        }
      ]
    },
    {
      "cell_type": "code",
      "source": [
        "# Assuming embedding_df contains DeBERTa embeddings\n",
        "# Perform K-Means clustering\n",
        "kmeans = KMeans(n_clusters=2, random_state=42)\n",
        "kmeans.fit(embedding_df_bert)\n",
        "\n",
        "# Get cluster labels\n",
        "cluster_labels = kmeans.labels_\n",
        "\n",
        "# Assuming cluster 0 represents legitimate content and cluster 1 represents phishing content\n",
        "# You may need to verify this based on the distribution of cluster labels and manual inspection\n",
        "legitimate_cluster = 0\n",
        "phishing_cluster = 1  # Adjust this if necessary\n",
        "\n",
        "# Create lists to store the indices of instances in each cluster\n",
        "legitimate_indices = [i for i, label in enumerate(cluster_labels) if label == legitimate_cluster]\n",
        "phishing_indices = [i for i, label in enumerate(cluster_labels) if label == phishing_cluster]\n",
        "\n",
        "# Print the clusters\n",
        "print(\"Cluster 0 (Legitimate title):\", legitimate_indices)\n",
        "print(\"Cluster 1 (Phishing title):\", phishing_indices)"
      ],
      "metadata": {
        "colab": {
          "base_uri": "https://localhost:8080/"
        },
        "id": "wJROENxq3Bnm",
        "outputId": "6b8f9cd9-ff63-497c-f842-b807b8a9f45c"
      },
      "execution_count": null,
      "outputs": [
        {
          "output_type": "stream",
          "name": "stderr",
          "text": [
            "/usr/local/lib/python3.10/dist-packages/sklearn/cluster/_kmeans.py:870: FutureWarning: The default value of `n_init` will change from 10 to 'auto' in 1.4. Set the value of `n_init` explicitly to suppress the warning\n",
            "  warnings.warn(\n"
          ]
        },
        {
          "output_type": "stream",
          "name": "stdout",
          "text": [
            "Cluster 0 (Legitimate title): [1, 2, 3, 4, 6, 7, 8, 10, 11, 12, 13, 15, 16, 17, 18, 19, 20, 21, 22, 23, 24, 25, 27, 29, 30, 31, 32, 33, 34, 35, 36, 37, 38, 39, 40, 41, 42, 43, 44, 45, 46, 47, 48, 49, 50, 52, 53, 55, 56, 57, 58, 59, 60, 61, 62, 63, 64, 65, 66, 67, 68, 69, 70, 71, 72, 74, 75, 76, 77, 78, 79, 80, 81, 82, 83, 84, 85, 86, 87, 88, 89, 90, 91, 92, 93, 94, 95, 96, 97, 98, 99, 100, 101, 102, 103, 104, 105, 106, 107, 108, 109, 110, 111, 113, 114, 115, 116, 118, 119, 121, 122, 124, 126, 127, 128, 129, 130, 131, 132, 133, 134, 135, 136, 138, 139, 140, 142, 143, 144, 145, 146, 147, 148, 149, 150, 151, 152, 153, 154, 155, 156, 157, 158, 159, 160, 161, 163, 165, 166, 167, 168, 169, 170, 171, 172, 173, 174, 175, 176, 177, 178, 180, 181, 182, 183, 184, 185, 186, 187, 188, 189, 190, 191, 192, 193, 194, 195, 196, 197, 198, 199, 200, 202, 203, 204, 205, 206, 207, 208, 209, 210, 212, 213, 214, 215, 216, 218, 219, 220, 221, 222, 223, 225, 227, 228, 229, 230, 231, 232, 234, 235, 239, 241, 242, 243, 245, 246, 247, 248, 249, 250, 253, 254, 256, 257, 260, 264, 265, 266, 268, 269, 270, 271, 273, 274, 275, 276, 277, 278, 280, 281, 282, 283, 284, 285, 286, 287, 288, 289, 290, 292, 293, 294, 295, 297, 298, 299, 300, 301, 302, 303, 305, 307, 308, 309, 310, 312, 313, 314, 315, 316, 317, 319, 320, 321, 323, 324, 325, 327, 328, 329, 330, 332, 334, 335, 336, 337, 340, 341, 343, 344, 345, 346, 347, 349, 350, 351, 352, 353, 354, 355, 357, 359, 361, 364, 366, 368, 369, 370, 371, 372, 373, 374, 376, 377, 378, 379, 380, 381, 382, 383, 385, 389, 391, 392, 393, 394, 395, 396, 398, 399, 400, 401, 402, 404, 405, 406, 408, 409, 410, 411, 412, 413, 414, 415, 416, 417, 418, 419, 420, 421, 423, 425, 426, 427, 428, 429, 430, 431, 432, 433, 434, 435, 436, 437, 438, 441, 442, 443, 444, 445, 446, 447, 448, 449, 450, 451, 452, 454, 456, 457, 459, 460, 461, 462, 463, 464, 466, 467, 468, 470, 471, 472, 473, 475, 477, 478, 479, 480, 481, 482, 483, 484, 485, 488, 489, 490, 491, 492, 493, 495, 496, 497, 499, 500, 502, 504, 505, 506, 507, 508, 509, 510, 511, 512, 513, 514, 515, 516, 517, 518, 519, 520, 521, 523, 524, 525, 526, 527, 528, 529, 530, 532, 533, 534, 536, 538, 539, 541, 542, 543, 544, 545, 546, 547, 548, 549, 550, 551, 552, 553, 555, 556, 557, 558, 559, 560, 561, 562, 563, 564, 565, 566, 567, 568, 569, 570, 571, 572, 573, 575, 576, 577, 578, 579, 581, 582, 586, 587, 588, 589, 592, 593, 594, 595, 596, 598, 599, 600, 601, 602, 603, 605, 606, 607, 608, 609, 610, 611, 612, 613, 615, 616, 617, 619, 621, 622, 623, 624, 626, 627, 628, 629, 631, 632, 633, 634, 636, 637, 640, 641, 642, 643, 644, 645, 646, 647, 648, 649, 650, 651, 653, 654, 655, 656, 658, 659, 660, 661, 662]\n",
            "Cluster 1 (Phishing title): [0, 5, 9, 14, 26, 28, 51, 54, 73, 112, 117, 120, 123, 125, 137, 141, 162, 164, 179, 201, 211, 217, 224, 226, 233, 236, 237, 238, 240, 244, 251, 252, 255, 258, 259, 261, 262, 263, 267, 272, 279, 291, 296, 304, 306, 311, 318, 322, 326, 331, 333, 338, 339, 342, 348, 356, 358, 360, 362, 363, 365, 367, 375, 384, 386, 387, 388, 390, 397, 403, 407, 422, 424, 439, 440, 453, 455, 458, 465, 469, 474, 476, 486, 487, 494, 498, 501, 503, 522, 531, 535, 537, 540, 554, 574, 580, 583, 584, 585, 590, 591, 597, 604, 614, 618, 620, 625, 630, 635, 638, 639, 652, 657, 663]\n"
          ]
        }
      ]
    },
    {
      "cell_type": "code",
      "source": [
        "# Assuming kmeans is your fitted KMeans model\n",
        "cluster_centers = kmeans.cluster_centers_\n",
        "\n",
        "# Print the cluster centers\n",
        "print(\"Cluster Centers:\")\n",
        "print(cluster_centers)"
      ],
      "metadata": {
        "colab": {
          "base_uri": "https://localhost:8080/"
        },
        "id": "O0i8o79ixUAE",
        "outputId": "e3bcc27a-7072-4c9c-a8d7-b21d57ac34a5"
      },
      "execution_count": null,
      "outputs": [
        {
          "output_type": "stream",
          "name": "stdout",
          "text": [
            "Cluster Centers:\n",
            "[[-0.09915998  0.04832655  0.35118085 ... -0.15678331  0.01247075\n",
            "   0.08982228]\n",
            " [ 0.14676335 -0.11960009 -0.14157715 ... -0.06814614 -0.17044844\n",
            "  -0.13328521]]\n"
          ]
        }
      ]
    },
    {
      "cell_type": "code",
      "source": [
        "kmeans.inertia_"
      ],
      "metadata": {
        "colab": {
          "base_uri": "https://localhost:8080/"
        },
        "id": "oCXAGpv5xfgA",
        "outputId": "b40687df-9ee8-4341-9919-ccb3e34192c5"
      },
      "execution_count": null,
      "outputs": [
        {
          "output_type": "execute_result",
          "data": {
            "text/plain": [
              "14510.4111328125"
            ]
          },
          "metadata": {},
          "execution_count": 15
        }
      ]
    },
    {
      "cell_type": "code",
      "source": [
        "# Assuming phishing_indices contains the indices of potential phishing instances identified by clustering\n",
        "\n",
        "# Total number of samples\n",
        "total_samples = embedding_df_bert.shape[0]\n",
        "\n",
        "# Number of samples identified as phishing\n",
        "phishing_samples = len(phishing_indices)\n",
        "\n",
        "print(\"Result: %d out of %d samples were identified as potential phishing instances.\" % (phishing_samples, total_samples))"
      ],
      "metadata": {
        "colab": {
          "base_uri": "https://localhost:8080/"
        },
        "id": "y1tYpvP9xv1C",
        "outputId": "05de1788-ced3-4d2a-e80b-c6ec5ee9bccc"
      },
      "execution_count": null,
      "outputs": [
        {
          "output_type": "stream",
          "name": "stdout",
          "text": [
            "Result: 114 out of 664 samples were identified as potential phishing instances.\n"
          ]
        }
      ]
    },
    {
      "cell_type": "code",
      "source": [
        "# Total number of samples\n",
        "total_samples = embedding_df_bert.shape[0]\n",
        "\n",
        "# Number of samples identified as phishing by the BERT model\n",
        "phishing_samples = len(phishing_indices)\n",
        "\n",
        "# Calculate percentage\n",
        "percentage_phishing = (phishing_samples / total_samples) * 100\n",
        "\n",
        "print(\"Percentage of potential phishing instances: %.2f%%\" % percentage_phishing)\n"
      ],
      "metadata": {
        "colab": {
          "base_uri": "https://localhost:8080/"
        },
        "id": "7X9lRP4T1-3d",
        "outputId": "881f2f39-f78b-4c0f-d2c2-600a9e3a07f2"
      },
      "execution_count": null,
      "outputs": [
        {
          "output_type": "stream",
          "name": "stdout",
          "text": [
            "Percentage of potential phishing instances: 17.17%\n"
          ]
        }
      ]
    },
    {
      "cell_type": "code",
      "source": [
        "# Count the number of instances in each cluster\n",
        "phishing_count = sum(cluster_labels == phishing_cluster)\n",
        "legitimate_count = len(cluster_labels) - phishing_count\n",
        "\n",
        "print(\"Number of potential phishing instances:\", phishing_count)\n",
        "print(\"Number of legitimate instances:\", legitimate_count)\n"
      ],
      "metadata": {
        "colab": {
          "base_uri": "https://localhost:8080/"
        },
        "id": "4vH0bMJjBdqJ",
        "outputId": "a9811620-373e-4b0d-87ba-6fd06a7644a9"
      },
      "execution_count": null,
      "outputs": [
        {
          "output_type": "stream",
          "name": "stdout",
          "text": [
            "Number of potential phishing instances: 114\n",
            "Number of legitimate instances: 550\n"
          ]
        }
      ]
    },
    {
      "cell_type": "markdown",
      "source": [
        "Evaluation metrics"
      ],
      "metadata": {
        "id": "zMQCEsaAxuW_"
      }
    },
    {
      "cell_type": "code",
      "source": [
        "from sklearn.metrics import silhouette_score, davies_bouldin_score\n",
        "\n",
        "# Calculate silhouette score\n",
        "silhouette_avg = silhouette_score(embedding_df_bert, cluster_labels)\n",
        "print(\"Silhouette Score:\", silhouette_avg)\n",
        "\n",
        "# Calculate Davies–Bouldin index\n",
        "db_index = davies_bouldin_score(embedding_df_bert, cluster_labels)\n",
        "print(\"Davies–Bouldin Index:\", db_index)\n"
      ],
      "metadata": {
        "colab": {
          "base_uri": "https://localhost:8080/"
        },
        "id": "gtR-qMXEj75c",
        "outputId": "43754c0b-34a9-4cc0-b60e-5cf0305dc57e"
      },
      "execution_count": null,
      "outputs": [
        {
          "output_type": "stream",
          "name": "stdout",
          "text": [
            "Silhouette Score: 0.48703894\n",
            "Davies–Bouldin Index: 0.4930405519264305\n"
          ]
        }
      ]
    },
    {
      "cell_type": "code",
      "source": [
        "from sklearn.metrics import calinski_harabasz_score\n",
        "\n",
        "# Calculate Calinski-Harabasz index\n",
        "ch_score = calinski_harabasz_score(embedding_df_bert, cluster_labels)\n",
        "print(\"Calinski-Harabasz Index:\", ch_score)\n"
      ],
      "metadata": {
        "colab": {
          "base_uri": "https://localhost:8080/"
        },
        "id": "q0N3tbO7lgjc",
        "outputId": "d55fc90e-fa2e-44ee-d050-0a9afe81f692"
      },
      "execution_count": null,
      "outputs": [
        {
          "output_type": "stream",
          "name": "stdout",
          "text": [
            "Calinski-Harabasz Index: 433.13896030457664\n"
          ]
        }
      ]
    },
    {
      "cell_type": "markdown",
      "source": [
        "Plot"
      ],
      "metadata": {
        "id": "5NAfHa0lzcRk"
      }
    },
    {
      "cell_type": "code",
      "source": [
        "import matplotlib.pyplot as plt\n",
        "from sklearn.decomposition import PCA\n",
        "\n",
        "# Reduce dimensionality of embeddings using PCA\n",
        "pca = PCA(n_components=2)\n",
        "embedding_pca = pca.fit_transform(embedding_df_bert)\n",
        "\n",
        "# Plot scatter plot of embeddings\n",
        "plt.figure(figsize=(8, 6))\n",
        "plt.scatter(embedding_pca[:, 0], embedding_pca[:, 1], c=cluster_labels, cmap='viridis', alpha=0.7)\n",
        "plt.title('Scatter Plot of Embeddings')\n",
        "plt.xlabel('PCA Component 1')\n",
        "plt.ylabel('PCA Component 2')\n",
        "plt.colorbar(label='Cluster')\n",
        "plt.grid(True)\n",
        "\n",
        "# Mention clusters above the plot\n",
        "plt.text(0.05, 0.95, f'Cluster 0 (Legitimate)', transform=plt.gca().transAxes, fontsize=10, verticalalignment='top')\n",
        "plt.text(0.05, 0.90, f'Cluster 1 (Phishing)', transform=plt.gca().transAxes, fontsize=10, verticalalignment='top')\n",
        "\n",
        "plt.show()\n"
      ],
      "metadata": {
        "colab": {
          "base_uri": "https://localhost:8080/",
          "height": 564
        },
        "id": "tZ0ivKhwzIYe",
        "outputId": "8babc170-4532-4e5f-aa97-7621d2e67f73"
      },
      "execution_count": null,
      "outputs": [
        {
          "output_type": "display_data",
          "data": {
            "text/plain": [
              "<Figure size 800x600 with 2 Axes>"
            ],
            "image/png": "[encoded data removed]"
          },
          "metadata": {}
        }
      ]
    },
    {
      "cell_type": "code",
      "source": [
        "from sklearn.metrics import silhouette_samples\n",
        "import numpy as np\n",
        "# Silhouette Plot\n",
        "silhouette_values = silhouette_samples(embedding_df_bert, cluster_labels)\n",
        "plt.figure(figsize=(8, 6))\n",
        "plt.hist(silhouette_values, bins=20)\n",
        "plt.title('Silhouette Plot')\n",
        "plt.xlabel('Silhouette Coefficient')\n",
        "plt.ylabel('Frequency')\n",
        "plt.grid(True)\n",
        "plt.show()\n",
        "\n",
        "# Davies-Bouldin Plot\n",
        "db_scores = []\n",
        "for k in range(2, 11):\n",
        "    kmeans = KMeans(n_clusters=k, random_state=42)\n",
        "    kmeans.fit(embedding_df_bert)\n",
        "    db_scores.append(davies_bouldin_score(embedding_df_bert, kmeans.labels_))\n",
        "\n",
        "plt.figure(figsize=(8, 6))\n",
        "plt.plot(range(2, 11), db_scores, marker='o')\n",
        "plt.title('Davies-Bouldin Index Plot')\n",
        "plt.xlabel('Number of Clusters (K)')\n",
        "plt.ylabel('Davies-Bouldin Index')\n",
        "plt.grid(True)\n",
        "plt.show()\n",
        "\n",
        "# Calinski-Harabasz Plot\n",
        "ch_scores = []\n",
        "for k in range(2, 11):\n",
        "    kmeans = KMeans(n_clusters=k, random_state=42)\n",
        "    kmeans.fit(embedding_df_bert)\n",
        "    ch_scores.append(calinski_harabasz_score(embedding_df_bert, kmeans.labels_))\n",
        "\n",
        "plt.figure(figsize=(8, 6))\n",
        "plt.plot(range(2, 11), ch_scores, marker='o')\n",
        "plt.title('Calinski-Harabasz Index Plot')\n",
        "plt.xlabel('Number of Clusters (K)')\n",
        "plt.ylabel('Calinski-Harabasz Index')\n",
        "plt.grid(True)\n",
        "plt.show()\n"
      ],
      "metadata": {
        "colab": {
          "base_uri": "https://localhost:8080/",
          "height": 1000
        },
        "id": "UIFtZ76XzOvv",
        "outputId": "5806c0f7-6f26-4d61-ab54-20bb0e4542a2"
      },
      "execution_count": null,
      "outputs": [
        {
          "output_type": "display_data",
          "data": {
            "text/plain": [
              "<Figure size 800x600 with 1 Axes>"
            ],
            "image/png": "[encoded data removed]"
          },
          "metadata": {}
        },
        {
          "output_type": "stream",
          "name": "stderr",
          "text": [
            "/usr/local/lib/python3.10/dist-packages/sklearn/cluster/_kmeans.py:870: FutureWarning: The default value of `n_init` will change from 10 to 'auto' in 1.4. Set the value of `n_init` explicitly to suppress the warning\n",
            "  warnings.warn(\n",
            "/usr/local/lib/python3.10/dist-packages/sklearn/cluster/_kmeans.py:870: FutureWarning: The default value of `n_init` will change from 10 to 'auto' in 1.4. Set the value of `n_init` explicitly to suppress the warning\n",
            "  warnings.warn(\n",
            "/usr/local/lib/python3.10/dist-packages/sklearn/cluster/_kmeans.py:870: FutureWarning: The default value of `n_init` will change from 10 to 'auto' in 1.4. Set the value of `n_init` explicitly to suppress the warning\n",
            "  warnings.warn(\n",
            "/usr/local/lib/python3.10/dist-packages/sklearn/cluster/_kmeans.py:870: FutureWarning: The default value of `n_init` will change from 10 to 'auto' in 1.4. Set the value of `n_init` explicitly to suppress the warning\n",
            "  warnings.warn(\n",
            "/usr/local/lib/python3.10/dist-packages/sklearn/cluster/_kmeans.py:870: FutureWarning: The default value of `n_init` will change from 10 to 'auto' in 1.4. Set the value of `n_init` explicitly to suppress the warning\n",
            "  warnings.warn(\n",
            "/usr/local/lib/python3.10/dist-packages/sklearn/cluster/_kmeans.py:870: FutureWarning: The default value of `n_init` will change from 10 to 'auto' in 1.4. Set the value of `n_init` explicitly to suppress the warning\n",
            "  warnings.warn(\n",
            "/usr/local/lib/python3.10/dist-packages/sklearn/cluster/_kmeans.py:870: FutureWarning: The default value of `n_init` will change from 10 to 'auto' in 1.4. Set the value of `n_init` explicitly to suppress the warning\n",
            "  warnings.warn(\n",
            "/usr/local/lib/python3.10/dist-packages/sklearn/cluster/_kmeans.py:870: FutureWarning: The default value of `n_init` will change from 10 to 'auto' in 1.4. Set the value of `n_init` explicitly to suppress the warning\n",
            "  warnings.warn(\n",
            "/usr/local/lib/python3.10/dist-packages/sklearn/cluster/_kmeans.py:870: FutureWarning: The default value of `n_init` will change from 10 to 'auto' in 1.4. Set the value of `n_init` explicitly to suppress the warning\n",
            "  warnings.warn(\n"
          ]
        },
        {
          "output_type": "display_data",
          "data": {
            "text/plain": [
              "<Figure size 800x600 with 1 Axes>"
            ],
            "image/png": "[encoded data removed]"
          },
          "metadata": {}
        },
        {
          "output_type": "stream",
          "name": "stderr",
          "text": [
            "/usr/local/lib/python3.10/dist-packages/sklearn/cluster/_kmeans.py:870: FutureWarning: The default value of `n_init` will change from 10 to 'auto' in 1.4. Set the value of `n_init` explicitly to suppress the warning\n",
            "  warnings.warn(\n",
            "/usr/local/lib/python3.10/dist-packages/sklearn/cluster/_kmeans.py:870: FutureWarning: The default value of `n_init` will change from 10 to 'auto' in 1.4. Set the value of `n_init` explicitly to suppress the warning\n",
            "  warnings.warn(\n",
            "/usr/local/lib/python3.10/dist-packages/sklearn/cluster/_kmeans.py:870: FutureWarning: The default value of `n_init` will change from 10 to 'auto' in 1.4. Set the value of `n_init` explicitly to suppress the warning\n",
            "  warnings.warn(\n",
            "/usr/local/lib/python3.10/dist-packages/sklearn/cluster/_kmeans.py:870: FutureWarning: The default value of `n_init` will change from 10 to 'auto' in 1.4. Set the value of `n_init` explicitly to suppress the warning\n",
            "  warnings.warn(\n",
            "/usr/local/lib/python3.10/dist-packages/sklearn/cluster/_kmeans.py:870: FutureWarning: The default value of `n_init` will change from 10 to 'auto' in 1.4. Set the value of `n_init` explicitly to suppress the warning\n",
            "  warnings.warn(\n",
            "/usr/local/lib/python3.10/dist-packages/sklearn/cluster/_kmeans.py:870: FutureWarning: The default value of `n_init` will change from 10 to 'auto' in 1.4. Set the value of `n_init` explicitly to suppress the warning\n",
            "  warnings.warn(\n",
            "/usr/local/lib/python3.10/dist-packages/sklearn/cluster/_kmeans.py:870: FutureWarning: The default value of `n_init` will change from 10 to 'auto' in 1.4. Set the value of `n_init` explicitly to suppress the warning\n",
            "  warnings.warn(\n",
            "/usr/local/lib/python3.10/dist-packages/sklearn/cluster/_kmeans.py:870: FutureWarning: The default value of `n_init` will change from 10 to 'auto' in 1.4. Set the value of `n_init` explicitly to suppress the warning\n",
            "  warnings.warn(\n",
            "/usr/local/lib/python3.10/dist-packages/sklearn/cluster/_kmeans.py:870: FutureWarning: The default value of `n_init` will change from 10 to 'auto' in 1.4. Set the value of `n_init` explicitly to suppress the warning\n",
            "  warnings.warn(\n"
          ]
        },
        {
          "output_type": "display_data",
          "data": {
            "text/plain": [
              "<Figure size 800x600 with 1 Axes>"
            ],
            "image/png": "[encoded data removed]"
          },
          "metadata": {}
        }
      ]
    },
    {
      "cell_type": "markdown",
      "source": [
        "DEBERTA FOR TITLE ANALYSIS"
      ],
      "metadata": {
        "id": "zJBGVNw6CL-x"
      }
    },
    {
      "cell_type": "code",
      "source": [
        "import torch\n",
        "from transformers import DebertaTokenizer, DebertaModel\n",
        "import pandas as pd\n",
        "\n",
        "# Load pre-trained DeBERTa tokenizer and model\n",
        "tokenizer = DebertaTokenizer.from_pretrained('microsoft/deberta-base')\n",
        "model = DebertaModel.from_pretrained('microsoft/deberta-base')\n",
        "\n",
        "# Function to preprocess text and generate DeBERTa embeddings\n",
        "def preprocess_and_embed(text):\n",
        "    # Ensure text is a string\n",
        "    text = str(text)\n",
        "\n",
        "    # Tokenize input text\n",
        "    inputs = tokenizer(text, return_tensors='pt', padding=True, truncation=True, max_length=512)\n",
        "\n",
        "    # Generate DeBERTa embeddings\n",
        "    with torch.no_grad():\n",
        "        outputs = model(**inputs)\n",
        "        embeddings = outputs.last_hidden_state.mean(dim=1).squeeze(0)  # Mean pooling of token embeddings\n",
        "\n",
        "    return embeddings\n",
        "\n",
        "# Load your dataset and extract the title column\n",
        "df = pd.read_csv('/content/drive/MyDrive/MiniProject/cleaned_dataset - cleaned_dataset.csv')\n",
        "title_column = df['title']\n",
        "\n",
        "# Preprocess titles and generate DeBERTa embeddings\n",
        "embeddings = []\n",
        "for title in title_column:\n",
        "    embeddings.append(preprocess_and_embed(title))\n",
        "\n",
        "# Convert embeddings to a DataFrame\n",
        "embedding_df = pd.DataFrame(torch.stack(embeddings).numpy())\n",
        "\n",
        "# Now you can use embedding_df for further analysis such as clustering, classification, etc.\n"
      ],
      "metadata": {
        "id": "yr9C9qU-CLnc",
        "colab": {
          "base_uri": "https://localhost:8080/",
          "height": 177,
          "referenced_widgets": [
            "9885f51708a04c94bb2e31f69ddd3eae",
            "d3be6195f8aa44a0aacf41cd35e8fe41",
            "559f0bd087184f88bd8c6f06eb55c6f1",
            "974d22dedadc460bac58015cefea5f31",
            "47ff9d82b455418f9098f1056fc0eb5f",
            "1dba6d47d8bb438ea10b40b11d42cc91",
            "9d304962f1e148b995b20bc649fb6069",
            "f6f4ee4102834ef5b39d3b3648d637a4",
            "0a93d03d880d4ca4baf21383e6b1145e",
            "472b8679082a4a95b3d6d21500d1de3a",
            "2906705c2c01421e89bfc332fa729aac",
            "c82fed929f64485885e5bb82788bbdb4",
            "bdfbba212c2c49f794b6b11ab10aeb45",
            "8fb6ae8f9fbf4f3093938f2002fa6b8d",
            "48d40dfcf0434b339e6aebf09a559666",
            "78464bf522b949ebac8922157444473f",
            "110d6034a182496abf6e56b2e9032315",
            "ce8ffa7abd27433e94d98f2f679f999b",
            "1340259c54ff45b69c81b0b3412ecaed",
            "1bb70da8aca64fd3881760d4a27ff236",
            "b571cd25da46450ab1a3514b5abd1a2e",
            "12c34ced4a6b4bd894b5fbe04db3940d",
            "6be416413cec4d77a3f1a8d018941727",
            "4296028aaa47470f99e538db8dfcb079",
            "fd3cfe91bb3f4342ae72747c527a9738",
            "241ab434fece44a3ab3832b20a4fcfc4",
            "de9db8a529b341df825d1650f8b04eae",
            "a355da5790fe4226939cd7bc0cf3ee52",
            "c1a3a4dad63a477ea31be572ba17ed2a",
            "5277f8b459cd4f168e173dba63953ddb",
            "11e0054d524e4e03b6b8fa7640ebd818",
            "db2e1cf86e9447ed92188b74b27df86e",
            "10cfaf60c6da483ba72228a18da0fe2d",
            "5ab2bbce6cc440dba7aeb3b8561c896d",
            "f2829506503046ef8ee194b22bf34e45",
            "fa5ea4127bef4a589330d916fb3f8cab",
            "7d4da57839a3466e94ba730ff117a612",
            "279a24ac60714c1ca5d1e604651c7064",
            "2519fe00f4be4549adbf2132c37865fe",
            "c385feeaab284d419ca1b4767e834aaa",
            "08f4463c3d4c4a08bb3f5cff798ca896",
            "5cd00d6fa0cd41e58ce34167841cee7c",
            "6f74fc5f73d740b784cd7ff4da16425e",
            "7274872dffc643dda2bad556e72b6cad",
            "71c2622d6b944df88d831ee30b28cc31",
            "1965e094d7ed4698a0ed7d16acbb6bd7",
            "ebc8fc7c53a640249716c62adb5f494f",
            "6f7f472f6838449a9178ac09e8defd71",
            "55015cfd3a894a7ea130d85b609acab8",
            "d939526334614a10988eb24e45e17066",
            "bd29d641a9dc4e5c9665640eefa1f985",
            "999a07a71f184d4bbfd8bc0bf414e341",
            "aa0a359df4404a8bacf0418000606590",
            "cf9cacbe1893416f8fe5bddba529ccf7",
            "30a65b563df149b1a5a6a174fbdd33b1"
          ]
        },
        "outputId": "81a6ba53-49f6-49dc-b51a-73661c7a6c4b"
      },
      "execution_count": null,
      "outputs": [
        {
          "output_type": "display_data",
          "data": {
            "text/plain": [
              "tokenizer_config.json:   0%|          | 0.00/52.0 [00:00<?, ?B/s]"
            ],
            "application/vnd.jupyter.widget-view+json": {
              "version_major": 2,
              "version_minor": 0,
              "model_id": "9885f51708a04c94bb2e31f69ddd3eae"
            }
          },
          "metadata": {}
        },
        {
          "output_type": "display_data",
          "data": {
            "text/plain": [
              "vocab.json:   0%|          | 0.00/899k [00:00<?, ?B/s]"
            ],
            "application/vnd.jupyter.widget-view+json": {
              "version_major": 2,
              "version_minor": 0,
              "model_id": "c82fed929f64485885e5bb82788bbdb4"
            }
          },
          "metadata": {}
        },
        {
          "output_type": "display_data",
          "data": {
            "text/plain": [
              "merges.txt:   0%|          | 0.00/456k [00:00<?, ?B/s]"
            ],
            "application/vnd.jupyter.widget-view+json": {
              "version_major": 2,
              "version_minor": 0,
              "model_id": "6be416413cec4d77a3f1a8d018941727"
            }
          },
          "metadata": {}
        },
        {
          "output_type": "display_data",
          "data": {
            "text/plain": [
              "config.json:   0%|          | 0.00/474 [00:00<?, ?B/s]"
            ],
            "application/vnd.jupyter.widget-view+json": {
              "version_major": 2,
              "version_minor": 0,
              "model_id": "5ab2bbce6cc440dba7aeb3b8561c896d"
            }
          },
          "metadata": {}
        },
        {
          "output_type": "display_data",
          "data": {
            "text/plain": [
              "pytorch_model.bin:   0%|          | 0.00/559M [00:00<?, ?B/s]"
            ],
            "application/vnd.jupyter.widget-view+json": {
              "version_major": 2,
              "version_minor": 0,
              "model_id": "71c2622d6b944df88d831ee30b28cc31"
            }
          },
          "metadata": {}
        }
      ]
    },
    {
      "cell_type": "code",
      "source": [
        "print(embedding_df)"
      ],
      "metadata": {
        "colab": {
          "base_uri": "https://localhost:8080/"
        },
        "id": "vpf7UKULCx97",
        "outputId": "724a5fbc-d415-4125-ea49-c5041e859f58"
      },
      "execution_count": null,
      "outputs": [
        {
          "output_type": "stream",
          "name": "stdout",
          "text": [
            "          0         1         2         3         4         5         6    \\\n",
            "0    0.000079  0.070252 -0.179508 -0.692654  0.244847  0.297841  0.114403   \n",
            "1    0.026388 -0.499843 -0.537629 -0.249833 -0.079905  0.245440 -0.381194   \n",
            "2   -0.230216  0.017549  0.063749 -0.869175  0.144009  0.306932 -0.184817   \n",
            "3    0.271840 -0.230694 -0.125778 -0.390882  0.087729  0.272072 -0.197908   \n",
            "4   -0.203926  0.012990 -0.298779 -0.576553 -0.288671  0.662713 -0.306467   \n",
            "..        ...       ...       ...       ...       ...       ...       ...   \n",
            "659 -0.554304 -0.127009 -0.180766 -0.628829 -0.032425  0.221738 -0.425065   \n",
            "660  0.465833 -0.194216 -0.200196 -0.513521  0.669047  0.187625 -0.152395   \n",
            "661  0.280306 -0.144679 -0.381667 -0.729200  0.107937  0.234276  0.087530   \n",
            "662 -0.089687 -0.130764 -0.070167 -0.154480  0.116317  0.037006 -0.088287   \n",
            "663  0.036614 -0.231569 -0.087449 -0.269104  0.011233 -0.026320 -0.136079   \n",
            "\n",
            "          7         8         9    ...       758       759       760  \\\n",
            "0   -0.304008  0.361270 -0.156232  ... -0.577793  0.106116  0.352182   \n",
            "1    0.119510  0.606712  0.529548  ... -0.140939  0.103078  0.493325   \n",
            "2    0.125440  0.484292 -0.041699  ... -0.602195 -0.418112  0.091649   \n",
            "3    0.001590  0.272628  0.165654  ... -0.372562  0.426731  0.006486   \n",
            "4   -0.054700  0.061090  0.189929  ... -0.787375  0.085307  0.256052   \n",
            "..        ...       ...       ...  ...       ...       ...       ...   \n",
            "659  0.473136  0.403061  0.412486  ... -0.100843 -0.083124  0.420763   \n",
            "660  0.761543  0.039281  0.382952  ... -0.251925 -0.099309 -0.125873   \n",
            "661  0.019933  0.037267  0.100061  ... -0.323141 -0.108995  0.319354   \n",
            "662  0.287827  0.327554  0.547964  ...  0.090129 -0.216690  0.142411   \n",
            "663  0.145694  0.296779  0.628913  ...  0.102120 -0.141563  0.105923   \n",
            "\n",
            "          761       762       763       764       765       766       767  \n",
            "0    0.083479  0.408338  0.586806  0.121778  0.501393  0.177185  0.460490  \n",
            "1    0.074251  0.028544  0.728643 -0.037763  0.589903  0.090674  0.154632  \n",
            "2   -0.094565  0.659716  0.548121  0.189752  0.734112 -0.365602  0.436122  \n",
            "3    0.159385  0.061915  0.626693 -0.084271  0.770047 -0.735882  0.700290  \n",
            "4   -0.363929  0.398832  0.364273 -0.123856  0.597055 -0.528085  0.569850  \n",
            "..        ...       ...       ...       ...       ...       ...       ...  \n",
            "659 -0.187954  0.224327  0.712966  0.034947  1.105361 -0.653237  0.786285  \n",
            "660  0.502605  0.371899  0.260186 -0.317094  0.798720 -0.306177  0.596289  \n",
            "661 -0.044841  0.169078  0.411043  0.173313  0.495256 -0.253981  0.799194  \n",
            "662 -0.161527  0.043226  0.096102  0.018214  0.126296 -0.305650 -0.123047  \n",
            "663 -0.144550  0.154548  0.123647 -0.066054  0.076391 -0.318623 -0.079187  \n",
            "\n",
            "[664 rows x 768 columns]\n"
          ]
        }
      ]
    },
    {
      "cell_type": "code",
      "source": [
        "from sklearn.cluster import KMeans\n",
        "\n",
        "# Assuming embedding_df contains DeBERTa embeddings\n",
        "# Perform K-Means clustering\n",
        "kmeans = KMeans(n_clusters=2, random_state=42)\n",
        "kmeans.fit(embedding_df)\n",
        "\n",
        "# Get cluster labels\n",
        "cluster_labels = kmeans.labels_\n",
        "\n",
        "# Assuming cluster 0 represents legitimate content and cluster 1 represents phishing content\n",
        "# You may need to verify this based on the distribution of cluster labels and manual inspection\n",
        "phishing_cluster = 1  # Adjust this if necessary\n",
        "\n",
        "# Get indices of instances in the phishing cluster\n",
        "phishing_indices = [i for i, label in enumerate(cluster_labels) if label == phishing_cluster]\n",
        "\n",
        "# Print indices of potential phishing instances\n",
        "print(\"Indices of potential phishing instances:\", phishing_indices)\n"
      ],
      "metadata": {
        "colab": {
          "base_uri": "https://localhost:8080/"
        },
        "id": "3gyFSKVECzx7",
        "outputId": "a8962769-16c1-48b2-8615-64de29b27faa"
      },
      "execution_count": null,
      "outputs": [
        {
          "output_type": "stream",
          "name": "stderr",
          "text": [
            "/usr/local/lib/python3.10/dist-packages/sklearn/cluster/_kmeans.py:870: FutureWarning: The default value of `n_init` will change from 10 to 'auto' in 1.4. Set the value of `n_init` explicitly to suppress the warning\n",
            "  warnings.warn(\n"
          ]
        },
        {
          "output_type": "stream",
          "name": "stdout",
          "text": [
            "Indices of potential phishing instances: [1, 7, 9, 14, 27, 32, 33, 36, 37, 38, 41, 46, 53, 58, 80, 85, 88, 98, 106, 110, 115, 116, 117, 119, 122, 123, 129, 133, 134, 137, 142, 166, 168, 171, 174, 175, 177, 179, 184, 187, 190, 192, 200, 206, 208, 210, 224, 228, 232, 236, 237, 238, 240, 243, 244, 251, 258, 262, 263, 273, 275, 279, 283, 291, 296, 301, 304, 308, 322, 327, 335, 338, 339, 342, 345, 346, 348, 349, 351, 354, 355, 358, 360, 363, 364, 367, 374, 375, 377, 379, 380, 382, 387, 390, 403, 411, 421, 422, 426, 439, 440, 458, 462, 470, 472, 474, 475, 476, 477, 478, 480, 484, 488, 494, 500, 501, 503, 506, 509, 515, 519, 525, 534, 539, 556, 560, 565, 568, 574, 580, 584, 585, 586, 594, 597, 604, 612, 614, 618, 621, 623, 626, 628, 631, 632, 635, 638, 639, 643, 647, 648, 651, 655, 662, 663]\n"
          ]
        }
      ]
    },
    {
      "cell_type": "code",
      "source": [
        "# Assuming embedding_df contains DeBERTa embeddings\n",
        "# Perform K-Means clustering\n",
        "kmeans = KMeans(n_clusters=2, random_state=42)\n",
        "kmeans.fit(embedding_df)\n",
        "\n",
        "# Get cluster labels\n",
        "cluster_labels = kmeans.labels_\n",
        "\n",
        "# Assuming cluster 0 represents legitimate content and cluster 1 represents phishing content\n",
        "# You may need to verify this based on the distribution of cluster labels and manual inspection\n",
        "legitimate_cluster = 0\n",
        "phishing_cluster = 1  # Adjust this if necessary\n",
        "\n",
        "# Create lists to store the indices of instances in each cluster\n",
        "legitimate_indices = [i for i, label in enumerate(cluster_labels) if label == legitimate_cluster]\n",
        "phishing_indices = [i for i, label in enumerate(cluster_labels) if label == phishing_cluster]\n",
        "\n",
        "# Print the clusters\n",
        "print(\"Cluster 0 (Legitimate title):\", legitimate_indices)\n",
        "print(\"Cluster 1 (Phishing title):\", phishing_indices)\n"
      ],
      "metadata": {
        "colab": {
          "base_uri": "https://localhost:8080/"
        },
        "id": "lUboPal8sBXZ",
        "outputId": "27664397-36fb-4d0d-9fee-d36781851cb8"
      },
      "execution_count": null,
      "outputs": [
        {
          "output_type": "stream",
          "name": "stderr",
          "text": [
            "/usr/local/lib/python3.10/dist-packages/sklearn/cluster/_kmeans.py:870: FutureWarning: The default value of `n_init` will change from 10 to 'auto' in 1.4. Set the value of `n_init` explicitly to suppress the warning\n",
            "  warnings.warn(\n"
          ]
        },
        {
          "output_type": "stream",
          "name": "stdout",
          "text": [
            "Cluster 0 (Legitimate title): [0, 2, 3, 4, 5, 6, 8, 10, 11, 12, 13, 15, 16, 17, 18, 19, 20, 21, 22, 23, 24, 25, 26, 28, 29, 30, 31, 34, 35, 39, 40, 42, 43, 44, 45, 47, 48, 49, 50, 51, 52, 54, 55, 56, 57, 59, 60, 61, 62, 63, 64, 65, 66, 67, 68, 69, 70, 71, 72, 73, 74, 75, 76, 77, 78, 79, 81, 82, 83, 84, 86, 87, 89, 90, 91, 92, 93, 94, 95, 96, 97, 99, 100, 101, 102, 103, 104, 105, 107, 108, 109, 111, 112, 113, 114, 118, 120, 121, 124, 125, 126, 127, 128, 130, 131, 132, 135, 136, 138, 139, 140, 141, 143, 144, 145, 146, 147, 148, 149, 150, 151, 152, 153, 154, 155, 156, 157, 158, 159, 160, 161, 162, 163, 164, 165, 167, 169, 170, 172, 173, 176, 178, 180, 181, 182, 183, 185, 186, 188, 189, 191, 193, 194, 195, 196, 197, 198, 199, 201, 202, 203, 204, 205, 207, 209, 211, 212, 213, 214, 215, 216, 217, 218, 219, 220, 221, 222, 223, 225, 226, 227, 229, 230, 231, 233, 234, 235, 239, 241, 242, 245, 246, 247, 248, 249, 250, 252, 253, 254, 255, 256, 257, 259, 260, 261, 264, 265, 266, 267, 268, 269, 270, 271, 272, 274, 276, 277, 278, 280, 281, 282, 284, 285, 286, 287, 288, 289, 290, 292, 293, 294, 295, 297, 298, 299, 300, 302, 303, 305, 306, 307, 309, 310, 311, 312, 313, 314, 315, 316, 317, 318, 319, 320, 321, 323, 324, 325, 326, 328, 329, 330, 331, 332, 333, 334, 336, 337, 340, 341, 343, 344, 347, 350, 352, 353, 356, 357, 359, 361, 362, 365, 366, 368, 369, 370, 371, 372, 373, 376, 378, 381, 383, 384, 385, 386, 388, 389, 391, 392, 393, 394, 395, 396, 397, 398, 399, 400, 401, 402, 404, 405, 406, 407, 408, 409, 410, 412, 413, 414, 415, 416, 417, 418, 419, 420, 423, 424, 425, 427, 428, 429, 430, 431, 432, 433, 434, 435, 436, 437, 438, 441, 442, 443, 444, 445, 446, 447, 448, 449, 450, 451, 452, 453, 454, 455, 456, 457, 459, 460, 461, 463, 464, 465, 466, 467, 468, 469, 471, 473, 479, 481, 482, 483, 485, 486, 487, 489, 490, 491, 492, 493, 495, 496, 497, 498, 499, 502, 504, 505, 507, 508, 510, 511, 512, 513, 514, 516, 517, 518, 520, 521, 522, 523, 524, 526, 527, 528, 529, 530, 531, 532, 533, 535, 536, 537, 538, 540, 541, 542, 543, 544, 545, 546, 547, 548, 549, 550, 551, 552, 553, 554, 555, 557, 558, 559, 561, 562, 563, 564, 566, 567, 569, 570, 571, 572, 573, 575, 576, 577, 578, 579, 581, 582, 583, 587, 588, 589, 590, 591, 592, 593, 595, 596, 598, 599, 600, 601, 602, 603, 605, 606, 607, 608, 609, 610, 611, 613, 615, 616, 617, 619, 620, 622, 624, 625, 627, 629, 630, 633, 634, 636, 637, 640, 641, 642, 644, 645, 646, 649, 650, 652, 653, 654, 656, 657, 658, 659, 660, 661]\n",
            "Cluster 1 (Phishing title): [1, 7, 9, 14, 27, 32, 33, 36, 37, 38, 41, 46, 53, 58, 80, 85, 88, 98, 106, 110, 115, 116, 117, 119, 122, 123, 129, 133, 134, 137, 142, 166, 168, 171, 174, 175, 177, 179, 184, 187, 190, 192, 200, 206, 208, 210, 224, 228, 232, 236, 237, 238, 240, 243, 244, 251, 258, 262, 263, 273, 275, 279, 283, 291, 296, 301, 304, 308, 322, 327, 335, 338, 339, 342, 345, 346, 348, 349, 351, 354, 355, 358, 360, 363, 364, 367, 374, 375, 377, 379, 380, 382, 387, 390, 403, 411, 421, 422, 426, 439, 440, 458, 462, 470, 472, 474, 475, 476, 477, 478, 480, 484, 488, 494, 500, 501, 503, 506, 509, 515, 519, 525, 534, 539, 556, 560, 565, 568, 574, 580, 584, 585, 586, 594, 597, 604, 612, 614, 618, 621, 623, 626, 628, 631, 632, 635, 638, 639, 643, 647, 648, 651, 655, 662, 663]\n"
          ]
        }
      ]
    },
    {
      "cell_type": "code",
      "source": [
        "# Assuming kmeans is your fitted KMeans model\n",
        "cluster_centers = kmeans.cluster_centers_\n",
        "\n",
        "# Print the cluster centers\n",
        "print(\"Cluster Centers:\")\n",
        "print(cluster_centers)\n"
      ],
      "metadata": {
        "colab": {
          "base_uri": "https://localhost:8080/"
        },
        "id": "rptcW2fboG88",
        "outputId": "8963e345-809c-4ddd-8e8e-a4d7f0f0f804"
      },
      "execution_count": null,
      "outputs": [
        {
          "output_type": "stream",
          "name": "stdout",
          "text": [
            "Cluster Centers:\n",
            "[[ 0.00575631 -0.03541513 -0.06089433 ...  0.7663791  -0.5051947\n",
            "   0.5223713 ]\n",
            " [ 0.10653189 -0.19122724 -0.22461838 ...  0.3855803  -0.21655378\n",
            "   0.16634762]]\n"
          ]
        }
      ]
    },
    {
      "cell_type": "code",
      "source": [
        "kmeans.inertia_"
      ],
      "metadata": {
        "colab": {
          "base_uri": "https://localhost:8080/"
        },
        "id": "16dcZ_BPoONh",
        "outputId": "d07e811b-f375-4a87-9198-a941560cfdc8"
      },
      "execution_count": null,
      "outputs": [
        {
          "output_type": "execute_result",
          "data": {
            "text/plain": [
              "41194.20703125"
            ]
          },
          "metadata": {},
          "execution_count": 28
        }
      ]
    },
    {
      "cell_type": "code",
      "source": [
        "# Assuming phishing_indices contains the indices of potential phishing instances identified by clustering\n",
        "\n",
        "# Total number of samples\n",
        "total_samples = embedding_df.shape[0]\n",
        "\n",
        "# Number of samples identified as phishing\n",
        "phishing_samples = len(phishing_indices)\n",
        "\n",
        "print(\"Result: %d out of %d samples were identified as potential phishing instances.\" % (phishing_samples, total_samples))\n"
      ],
      "metadata": {
        "colab": {
          "base_uri": "https://localhost:8080/"
        },
        "id": "SlDuDIAbpa9c",
        "outputId": "e36ab464-1e35-4493-efb0-ef88be934402"
      },
      "execution_count": null,
      "outputs": [
        {
          "output_type": "stream",
          "name": "stdout",
          "text": [
            "Result: 155 out of 664 samples were identified as potential phishing instances.\n"
          ]
        }
      ]
    },
    {
      "cell_type": "code",
      "source": [
        "# Total number of samples\n",
        "total_samples = embedding_df.shape[0]\n",
        "\n",
        "# Number of samples identified as phishing by the BERT model\n",
        "phishing_samples = len(phishing_indices)\n",
        "\n",
        "# Calculate percentage\n",
        "percentage_phishing = (phishing_samples / total_samples) * 100\n",
        "\n",
        "print(\"Percentage of potential phishing instances: %.2f%%\" % percentage_phishing)\n"
      ],
      "metadata": {
        "colab": {
          "base_uri": "https://localhost:8080/"
        },
        "id": "iGC1WBBApksB",
        "outputId": "f3374d37-c6e3-4127-b189-4bc3e707efe2"
      },
      "execution_count": null,
      "outputs": [
        {
          "output_type": "stream",
          "name": "stdout",
          "text": [
            "Percentage of potential phishing instances: 23.34%\n"
          ]
        }
      ]
    },
    {
      "cell_type": "code",
      "source": [
        "# Count the number of instances in each cluster\n",
        "phishing_count = sum(cluster_labels == phishing_cluster)\n",
        "legitimate_count = len(cluster_labels) - phishing_count\n",
        "\n",
        "print(\"Number of potential phishing instances:\", phishing_count)\n",
        "print(\"Number of legitimate instances:\", legitimate_count)\n"
      ],
      "metadata": {
        "colab": {
          "base_uri": "https://localhost:8080/"
        },
        "id": "NSIQT8eXDKdj",
        "outputId": "15f0ca9f-20a9-492b-852d-05a9fe70b148"
      },
      "execution_count": null,
      "outputs": [
        {
          "output_type": "stream",
          "name": "stdout",
          "text": [
            "Number of potential phishing instances: 155\n",
            "Number of legitimate instances: 509\n"
          ]
        }
      ]
    },
    {
      "cell_type": "markdown",
      "source": [
        "Evaluation metrics\n"
      ],
      "metadata": {
        "id": "ukFFGWdyx2yD"
      }
    },
    {
      "cell_type": "code",
      "source": [
        "from sklearn.metrics import silhouette_score, davies_bouldin_score\n",
        "\n",
        "# Calculate silhouette score\n",
        "silhouette_avg = silhouette_score(embedding_df, cluster_labels)\n",
        "print(\"Silhouette Score:\", silhouette_avg)\n",
        "\n",
        "# Calculate Davies–Bouldin index\n",
        "db_index = davies_bouldin_score(embedding_df, cluster_labels)\n",
        "print(\"Davies–Bouldin Index:\", db_index)"
      ],
      "metadata": {
        "colab": {
          "base_uri": "https://localhost:8080/"
        },
        "id": "RikzgQhewhJ_",
        "outputId": "7268e7c1-84e6-4780-b566-1f2c199854ea"
      },
      "execution_count": null,
      "outputs": [
        {
          "output_type": "stream",
          "name": "stdout",
          "text": [
            "Silhouette Score: 0.051155046\n",
            "Davies–Bouldin Index: 4.322833996644603\n"
          ]
        }
      ]
    },
    {
      "cell_type": "code",
      "source": [
        "from sklearn.metrics import calinski_harabasz_score\n",
        "\n",
        "# Calculate Calinski-Harabasz index\n",
        "ch_score = calinski_harabasz_score(embedding_df, cluster_labels)\n",
        "print(\"Calinski-Harabasz Index:\", ch_score)"
      ],
      "metadata": {
        "colab": {
          "base_uri": "https://localhost:8080/"
        },
        "id": "mK57EjXCw3JU",
        "outputId": "24b5ee39-73ea-4c33-88b7-91c8d6c66cfa"
      },
      "execution_count": null,
      "outputs": [
        {
          "output_type": "stream",
          "name": "stdout",
          "text": [
            "Calinski-Harabasz Index: 20.253199740369798\n"
          ]
        }
      ]
    },
    {
      "cell_type": "markdown",
      "source": [
        "plot"
      ],
      "metadata": {
        "id": "2bZ43huI0D06"
      }
    },
    {
      "cell_type": "code",
      "source": [
        "import matplotlib.pyplot as plt\n",
        "from sklearn.decomposition import PCA\n",
        "from sklearn.cluster import KMeans\n",
        "from sklearn.metrics import silhouette_samples, davies_bouldin_score, calinski_harabasz_score\n",
        "import numpy as np\n",
        "\n",
        "# Reduce dimensionality of embeddings using PCA\n",
        "pca = PCA(n_components=2)\n",
        "embedding_pca = pca.fit_transform(embedding_df)\n",
        "\n",
        "# Plot scatter plot of embeddings\n",
        "plt.figure(figsize=(8, 6))\n",
        "plt.scatter(embedding_pca[:, 0], embedding_pca[:, 1], c=cluster_labels, cmap='viridis', alpha=0.7)\n",
        "plt.title('Scatter Plot of Embeddings')\n",
        "plt.xlabel('PCA Component 1')\n",
        "plt.ylabel('PCA Component 2')\n",
        "plt.colorbar(label='Cluster')\n",
        "plt.grid(True)\n",
        "\n",
        "# Mention clusters above the plot\n",
        "plt.text(0.05, 0.95, f'Cluster 0 (Legitimate): {legitimate_cluster}', transform=plt.gca().transAxes, fontsize=10, verticalalignment='top')\n",
        "plt.text(0.05, 0.90, f'Cluster 1 (Phishing): {phishing_cluster}', transform=plt.gca().transAxes, fontsize=10, verticalalignment='top')\n",
        "\n",
        "plt.show()\n"
      ],
      "metadata": {
        "colab": {
          "base_uri": "https://localhost:8080/",
          "height": 564
        },
        "id": "8DsqDwkq1Rj7",
        "outputId": "b305edc9-90ed-4e5b-8b8e-62c299ae6554"
      },
      "execution_count": null,
      "outputs": [
        {
          "output_type": "display_data",
          "data": {
            "text/plain": [
              "<Figure size 800x600 with 2 Axes>"
            ],
            "image/png": "[encoded data removed]"
          },
          "metadata": {}
        }
      ]
    },
    {
      "cell_type": "code",
      "source": [
        "from sklearn.metrics import silhouette_samples, davies_bouldin_score, calinski_harabasz_score\n",
        "import numpy as np\n",
        "\n",
        "# Silhouette Plot\n",
        "silhouette_values = silhouette_samples(embedding_df, cluster_labels)\n",
        "plt.figure(figsize=(8, 6))\n",
        "plt.hist(silhouette_values, bins=20)\n",
        "plt.title('Silhouette Plot')\n",
        "plt.xlabel('Silhouette Coefficient')\n",
        "plt.ylabel('Frequency')\n",
        "plt.grid(True)\n",
        "plt.show()\n",
        "\n",
        "# Davies-Bouldin Plot\n",
        "db_scores = []\n",
        "for k in range(2, 11):\n",
        "    kmeans = KMeans(n_clusters=k, random_state=42)\n",
        "    kmeans.fit(embedding_df)\n",
        "    db_scores.append(davies_bouldin_score(embedding_df, kmeans.labels_))\n",
        "\n",
        "plt.figure(figsize=(8, 6))\n",
        "plt.plot(range(2, 11), db_scores, marker='o')\n",
        "plt.title('Davies-Bouldin Index Plot')\n",
        "plt.xlabel('Number of Clusters (K)')\n",
        "plt.ylabel('Davies-Bouldin Index')\n",
        "plt.grid(True)\n",
        "plt.show()\n",
        "\n",
        "# Calinski-Harabasz Plot\n",
        "ch_scores = []\n",
        "for k in range(2, 11):\n",
        "    kmeans = KMeans(n_clusters=k, random_state=42)\n",
        "    kmeans.fit(embedding_df)\n",
        "    ch_scores.append(calinski_harabasz_score(embedding_df, kmeans.labels_))\n",
        "\n",
        "plt.figure(figsize=(8, 6))\n",
        "plt.plot(range(2, 11), ch_scores, marker='o')\n",
        "plt.title('Calinski-Harabasz Index Plot')\n",
        "plt.xlabel('Number of Clusters (K)')\n",
        "plt.ylabel('Calinski-Harabasz Index')\n",
        "plt.grid(True)\n",
        "plt.show()"
      ],
      "metadata": {
        "colab": {
          "base_uri": "https://localhost:8080/",
          "height": 1000
        },
        "id": "lSn0IxI90OAM",
        "outputId": "f1a0ca50-ed08-4d7d-e6ed-110961bbea7f"
      },
      "execution_count": null,
      "outputs": [
        {
          "output_type": "display_data",
          "data": {
            "text/plain": [
              "<Figure size 800x600 with 1 Axes>"
            ],
            "image/png": "[encoded data removed]"
          },
          "metadata": {}
        },
        {
          "output_type": "stream",
          "name": "stderr",
          "text": [
            "/usr/local/lib/python3.10/dist-packages/sklearn/cluster/_kmeans.py:870: FutureWarning: The default value of `n_init` will change from 10 to 'auto' in 1.4. Set the value of `n_init` explicitly to suppress the warning\n",
            "  warnings.warn(\n",
            "/usr/local/lib/python3.10/dist-packages/sklearn/cluster/_kmeans.py:870: FutureWarning: The default value of `n_init` will change from 10 to 'auto' in 1.4. Set the value of `n_init` explicitly to suppress the warning\n",
            "  warnings.warn(\n",
            "/usr/local/lib/python3.10/dist-packages/sklearn/cluster/_kmeans.py:870: FutureWarning: The default value of `n_init` will change from 10 to 'auto' in 1.4. Set the value of `n_init` explicitly to suppress the warning\n",
            "  warnings.warn(\n",
            "/usr/local/lib/python3.10/dist-packages/sklearn/cluster/_kmeans.py:870: FutureWarning: The default value of `n_init` will change from 10 to 'auto' in 1.4. Set the value of `n_init` explicitly to suppress the warning\n",
            "  warnings.warn(\n",
            "/usr/local/lib/python3.10/dist-packages/sklearn/cluster/_kmeans.py:870: FutureWarning: The default value of `n_init` will change from 10 to 'auto' in 1.4. Set the value of `n_init` explicitly to suppress the warning\n",
            "  warnings.warn(\n",
            "/usr/local/lib/python3.10/dist-packages/sklearn/cluster/_kmeans.py:870: FutureWarning: The default value of `n_init` will change from 10 to 'auto' in 1.4. Set the value of `n_init` explicitly to suppress the warning\n",
            "  warnings.warn(\n",
            "/usr/local/lib/python3.10/dist-packages/sklearn/cluster/_kmeans.py:870: FutureWarning: The default value of `n_init` will change from 10 to 'auto' in 1.4. Set the value of `n_init` explicitly to suppress the warning\n",
            "  warnings.warn(\n",
            "/usr/local/lib/python3.10/dist-packages/sklearn/cluster/_kmeans.py:870: FutureWarning: The default value of `n_init` will change from 10 to 'auto' in 1.4. Set the value of `n_init` explicitly to suppress the warning\n",
            "  warnings.warn(\n",
            "/usr/local/lib/python3.10/dist-packages/sklearn/cluster/_kmeans.py:870: FutureWarning: The default value of `n_init` will change from 10 to 'auto' in 1.4. Set the value of `n_init` explicitly to suppress the warning\n",
            "  warnings.warn(\n"
          ]
        },
        {
          "output_type": "display_data",
          "data": {
            "text/plain": [
              "<Figure size 800x600 with 1 Axes>"
            ],
            "image/png": "[encoded data removed]"
          },
          "metadata": {}
        },
        {
          "output_type": "stream",
          "name": "stderr",
          "text": [
            "/usr/local/lib/python3.10/dist-packages/sklearn/cluster/_kmeans.py:870: FutureWarning: The default value of `n_init` will change from 10 to 'auto' in 1.4. Set the value of `n_init` explicitly to suppress the warning\n",
            "  warnings.warn(\n",
            "/usr/local/lib/python3.10/dist-packages/sklearn/cluster/_kmeans.py:870: FutureWarning: The default value of `n_init` will change from 10 to 'auto' in 1.4. Set the value of `n_init` explicitly to suppress the warning\n",
            "  warnings.warn(\n",
            "/usr/local/lib/python3.10/dist-packages/sklearn/cluster/_kmeans.py:870: FutureWarning: The default value of `n_init` will change from 10 to 'auto' in 1.4. Set the value of `n_init` explicitly to suppress the warning\n",
            "  warnings.warn(\n",
            "/usr/local/lib/python3.10/dist-packages/sklearn/cluster/_kmeans.py:870: FutureWarning: The default value of `n_init` will change from 10 to 'auto' in 1.4. Set the value of `n_init` explicitly to suppress the warning\n",
            "  warnings.warn(\n",
            "/usr/local/lib/python3.10/dist-packages/sklearn/cluster/_kmeans.py:870: FutureWarning: The default value of `n_init` will change from 10 to 'auto' in 1.4. Set the value of `n_init` explicitly to suppress the warning\n",
            "  warnings.warn(\n",
            "/usr/local/lib/python3.10/dist-packages/sklearn/cluster/_kmeans.py:870: FutureWarning: The default value of `n_init` will change from 10 to 'auto' in 1.4. Set the value of `n_init` explicitly to suppress the warning\n",
            "  warnings.warn(\n",
            "/usr/local/lib/python3.10/dist-packages/sklearn/cluster/_kmeans.py:870: FutureWarning: The default value of `n_init` will change from 10 to 'auto' in 1.4. Set the value of `n_init` explicitly to suppress the warning\n",
            "  warnings.warn(\n",
            "/usr/local/lib/python3.10/dist-packages/sklearn/cluster/_kmeans.py:870: FutureWarning: The default value of `n_init` will change from 10 to 'auto' in 1.4. Set the value of `n_init` explicitly to suppress the warning\n",
            "  warnings.warn(\n",
            "/usr/local/lib/python3.10/dist-packages/sklearn/cluster/_kmeans.py:870: FutureWarning: The default value of `n_init` will change from 10 to 'auto' in 1.4. Set the value of `n_init` explicitly to suppress the warning\n",
            "  warnings.warn(\n"
          ]
        },
        {
          "output_type": "display_data",
          "data": {
            "text/plain": [
              "<Figure size 800x600 with 1 Axes>"
            ],
            "image/png": "[encoded data removed]"
          },
          "metadata": {}
        }
      ]
    },
    {
      "cell_type": "markdown",
      "source": [
        "COMBINED RESULT\n"
      ],
      "metadata": {
        "id": "Jzx-LxvH4GRX"
      }
    },
    {
      "cell_type": "code",
      "source": [
        "# Get the phishing indices for DeBERTa and BERT embeddings\n",
        "deberta_phishing_indices = [1, 7, 9, 14, 27, 32, 33, 36, 37, 38, 41, 46, 53, 58, 80, 85, 88, 98, 106, 110, 115, 116, 117, 119, 122, 123, 129, 133, 134, 137, 142, 166, 168, 171, 174, 175, 177, 179, 184, 187, 190, 192, 200, 206, 208, 210, 224, 228, 232, 236, 237, 238, 240, 243, 244, 251, 258, 262, 263, 273, 275, 279, 283, 291, 296, 301, 304, 308, 322, 327, 335, 338, 339, 342, 345, 346, 348, 349, 351, 354, 355, 358, 360, 363, 364, 367, 374, 375, 377, 379, 380, 382, 387, 390, 403, 411, 421, 422, 426, 439, 440, 458, 462, 470, 472, 474, 475, 476, 477, 478, 480, 484, 488, 494, 500, 501, 503, 506, 509, 515, 519, 525, 534, 539, 556, 560, 565, 568, 574, 580, 584, 585, 586, 594, 597, 604, 612, 614, 618, 621, 623, 626, 628, 631, 632, 635, 638, 639, 643, 647, 648, 651, 655, 662, 663]  # Example phishing indices for DeBERTa embeddings\n",
        "bert_phishing_indices = [0, 5, 9, 14, 26, 28, 51, 54, 73, 112, 117, 120, 123, 125, 137, 141, 162, 164, 179, 201, 211, 217, 224, 226, 233, 236, 237, 238, 240, 244, 251, 252, 255, 258, 259, 261, 262, 263, 267, 272, 279, 291, 296, 304, 306, 311, 318, 322, 326, 331, 333, 338, 339, 342, 348, 356, 358, 360, 362, 363, 365, 367, 375, 384, 386, 387, 388, 390, 397, 403, 407, 422, 424, 439, 440, 453, 455, 458, 465, 469, 474, 476, 486, 487, 494, 498, 501, 503, 522, 531, 535, 537, 540, 554, 574, 580, 583, 584, 585, 590, 591, 597, 604, 614, 618, 620, 625, 630, 635, 638, 639, 652, 657, 663]   # Example phishing indices for BERT embeddings\n",
        "\n",
        "# Intersection of phishing indices\n",
        "intersection_phishing_indices = list(set(deberta_phishing_indices) & set(bert_phishing_indices))\n",
        "\n",
        "# Union of phishing indices\n",
        "union_phishing_indices = list(set(deberta_phishing_indices) | set(bert_phishing_indices))\n",
        "\n",
        "# Analyze the instances corresponding to the intersection and union\n",
        "print(\"Instances marked as phishing by both DeBERTa and BERT:\", intersection_phishing_indices)\n",
        "print(\"Instances marked as phishing by at least one model:\", union_phishing_indices)\n"
      ],
      "metadata": {
        "colab": {
          "base_uri": "https://localhost:8080/"
        },
        "id": "_zPqVLYQfhCY",
        "outputId": "aea436a1-1c7a-4712-b433-529114a691e3"
      },
      "execution_count": null,
      "outputs": [
        {
          "output_type": "stream",
          "name": "stdout",
          "text": [
            "Instances marked as phishing by both DeBERTa and BERT: [258, 387, 262, 263, 390, 9, 137, 14, 403, 663, 279, 291, 422, 296, 304, 179, 439, 440, 574, 322, 580, 584, 585, 458, 338, 339, 597, 342, 474, 604, 348, 476, 224, 503, 614, 358, 360, 618, 123, 236, 237, 238, 251, 240, 363, 367, 494, 244, 117, 501, 375, 635, 638, 639]\n",
            "Instances marked as phishing by at least one model: [0, 1, 515, 5, 7, 519, 9, 522, 525, 14, 531, 534, 535, 537, 26, 27, 539, 28, 540, 32, 33, 36, 37, 38, 41, 554, 556, 46, 560, 51, 53, 565, 54, 568, 58, 574, 580, 583, 584, 585, 586, 73, 590, 591, 80, 594, 85, 597, 88, 604, 98, 612, 614, 106, 618, 620, 621, 110, 623, 112, 625, 626, 115, 116, 117, 628, 119, 631, 632, 122, 123, 635, 630, 638, 639, 120, 129, 125, 643, 133, 134, 647, 648, 137, 651, 652, 141, 142, 655, 657, 662, 663, 162, 164, 166, 168, 171, 174, 175, 177, 179, 184, 187, 190, 192, 200, 201, 206, 208, 210, 211, 217, 224, 226, 228, 232, 233, 236, 237, 238, 240, 243, 244, 251, 252, 255, 258, 259, 261, 262, 263, 267, 272, 273, 275, 279, 283, 291, 296, 301, 304, 306, 308, 311, 318, 322, 326, 327, 331, 333, 335, 338, 339, 342, 345, 346, 348, 349, 351, 354, 355, 356, 358, 360, 362, 363, 364, 365, 367, 374, 375, 377, 379, 380, 382, 384, 386, 387, 388, 390, 397, 403, 407, 411, 421, 422, 424, 426, 439, 440, 453, 455, 458, 462, 465, 469, 470, 472, 474, 475, 476, 477, 478, 480, 484, 486, 487, 488, 494, 498, 500, 501, 503, 506, 509]\n"
          ]
        }
      ]
    },
    {
      "cell_type": "markdown",
      "source": [
        "COMBINED RESULT"
      ],
      "metadata": {
        "id": "eP2M_9dnxa0V"
      }
    },
    {
      "cell_type": "code",
      "source": [
        "import numpy as np\n",
        "from sklearn.cluster import KMeans\n",
        "\n",
        "# Assuming you have embeddings from BERT and DeBERTa stored in bert_embeddings and deberta_embeddings respectively\n",
        "# Shape of bert_embeddings: (num_samples, bert_embedding_dim)\n",
        "# Shape of deberta_embeddings: (num_samples, deberta_embedding_dim)\n",
        "\n",
        "# Step 1: Combine embeddings\n",
        "combined_embeddings = np.concatenate((embedding_df_bert, embedding_df), axis=1)\n",
        "\n",
        "# Step 2: Clustering\n",
        "# Example: Using KMeans clustering\n",
        "num_clusters = 2  # Since you only need 2 clusters\n",
        "kmeans = KMeans(n_clusters=num_clusters, random_state=42)\n",
        "cluster_labels = kmeans.fit_predict(combined_embeddings)\n",
        "\n",
        "# Step 3: Print cluster indices\n",
        "for cluster_num in range(num_clusters):\n",
        "    print(f\"Cluster {cluster_num} indices:\")\n",
        "    cluster_indices = np.where(cluster_labels == cluster_num)[0]\n",
        "    print(cluster_indices)\n"
      ],
      "metadata": {
        "colab": {
          "base_uri": "https://localhost:8080/"
        },
        "id": "rHlxuwsTvylY",
        "outputId": "35bd9f07-6bad-48ce-fa0a-513255ff81c6"
      },
      "execution_count": null,
      "outputs": [
        {
          "output_type": "stream",
          "name": "stderr",
          "text": [
            "/usr/local/lib/python3.10/dist-packages/sklearn/cluster/_kmeans.py:870: FutureWarning: The default value of `n_init` will change from 10 to 'auto' in 1.4. Set the value of `n_init` explicitly to suppress the warning\n",
            "  warnings.warn(\n"
          ]
        },
        {
          "output_type": "stream",
          "name": "stdout",
          "text": [
            "Cluster 0 indices:\n",
            "[  1   2   3   4   6   7   8  10  11  12  13  15  16  17  18  19  20  21\n",
            "  22  23  24  25  27  29  30  31  32  34  35  36  37  38  39  40  41  42\n",
            "  43  44  45  46  47  48  49  50  52  53  55  56  57  58  59  60  61  62\n",
            "  63  64  65  66  67  68  69  70  71  72  74  75  76  77  78  79  80  81\n",
            "  82  83  84  85  86  87  88  89  90  91  92  93  94  95  96  97  98  99\n",
            " 100 101 102 103 104 105 106 107 108 109 110 111 113 114 115 116 118 119\n",
            " 121 122 124 126 127 128 129 130 131 132 133 134 135 136 138 139 140 142\n",
            " 143 144 145 146 147 148 149 150 151 152 153 154 155 156 157 158 159 160\n",
            " 161 163 165 166 167 168 169 170 171 172 173 174 175 176 177 178 180 181\n",
            " 182 183 184 185 186 187 188 189 190 191 192 193 194 195 196 197 198 199\n",
            " 202 203 204 205 206 207 208 209 210 212 213 214 215 216 218 219 220 221\n",
            " 222 223 225 227 228 229 230 231 232 234 235 239 241 242 243 245 246 247\n",
            " 248 249 250 253 254 256 257 260 264 265 266 268 269 270 271 273 274 275\n",
            " 276 277 278 280 281 282 283 284 285 286 287 288 289 290 292 293 294 295\n",
            " 297 298 299 300 301 302 303 305 307 308 309 310 312 313 314 315 316 317\n",
            " 319 320 321 323 324 325 327 328 329 330 332 334 335 336 337 340 341 343\n",
            " 344 345 346 347 349 350 351 352 353 354 355 357 359 361 364 366 368 369\n",
            " 370 371 372 373 374 376 377 378 379 381 382 383 385 389 391 392 393 394\n",
            " 395 396 398 399 400 401 402 404 405 406 408 409 410 411 412 413 414 415\n",
            " 416 417 418 419 420 421 423 425 426 427 428 429 430 431 432 433 434 435\n",
            " 436 437 438 441 442 443 444 445 446 447 448 449 450 451 452 454 456 457\n",
            " 459 460 461 462 463 464 466 467 468 470 471 472 473 475 477 478 479 480\n",
            " 481 482 483 484 485 488 489 490 491 492 493 495 496 497 499 500 502 504\n",
            " 505 506 507 508 509 510 511 512 513 514 515 516 517 518 519 520 521 523\n",
            " 524 525 526 527 528 529 530 532 533 534 536 538 539 541 542 543 544 545\n",
            " 546 547 548 549 550 551 552 553 555 557 558 559 560 561 562 563 564 565\n",
            " 566 567 568 569 570 571 572 573 575 576 577 578 579 581 582 586 587 588\n",
            " 589 592 593 594 595 596 598 599 600 601 602 603 605 606 607 608 609 610\n",
            " 611 612 613 615 616 617 619 621 622 623 624 626 627 628 629 631 632 633\n",
            " 634 636 637 640 641 642 643 644 645 646 647 648 649 650 651 653 654 655\n",
            " 656 658 659 660 661 662]\n",
            "Cluster 1 indices:\n",
            "[  0   5   9  14  26  28  33  51  54  73 112 117 120 123 125 137 141 162\n",
            " 164 179 200 201 211 217 224 226 233 236 237 238 240 244 251 252 255 258\n",
            " 259 261 262 263 267 272 279 291 296 304 306 311 318 322 326 331 333 338\n",
            " 339 342 348 356 358 360 362 363 365 367 375 380 384 386 387 388 390 397\n",
            " 403 407 422 424 439 440 453 455 458 465 469 474 476 486 487 494 498 501\n",
            " 503 522 531 535 537 540 554 556 574 580 583 584 585 590 591 597 604 614\n",
            " 618 620 625 630 635 638 639 652 657 663]\n"
          ]
        }
      ]
    },
    {
      "cell_type": "markdown",
      "source": [
        "Evaluation metrics"
      ],
      "metadata": {
        "id": "JHL_S-3Vxb-F"
      }
    },
    {
      "cell_type": "code",
      "source": [
        "from sklearn.metrics import silhouette_score, davies_bouldin_score\n",
        "\n",
        "# Calculate silhouette score\n",
        "silhouette_avg = silhouette_score(combined_embeddings, cluster_labels)\n",
        "print(\"Silhouette Score:\", silhouette_avg)\n",
        "\n",
        "# Calculate Davies–Bouldin index\n",
        "db_index = davies_bouldin_score(combined_embeddings, cluster_labels)\n",
        "print(\"Davies–Bouldin Index:\", db_index)\n",
        "\n"
      ],
      "metadata": {
        "colab": {
          "base_uri": "https://localhost:8080/"
        },
        "id": "zBXxMCrvxSE7",
        "outputId": "d607f731-2b48-4e77-9dcf-3062439c1b7c"
      },
      "execution_count": null,
      "outputs": [
        {
          "output_type": "stream",
          "name": "stdout",
          "text": [
            "Silhouette Score: 0.20074546\n",
            "Davies–Bouldin Index: 1.7172532271903305\n"
          ]
        }
      ]
    },
    {
      "cell_type": "code",
      "source": [
        "from sklearn.metrics import calinski_harabasz_score\n",
        "\n",
        "# Calculate Calinski-Harabasz index\n",
        "ch_score = calinski_harabasz_score(combined_embeddings, cluster_labels)\n",
        "print(\"Calinski-Harabasz Index:\", ch_score)"
      ],
      "metadata": {
        "colab": {
          "base_uri": "https://localhost:8080/"
        },
        "id": "N0cNpphwxh9N",
        "outputId": "7028450e-0777-4616-c14b-18e48b4a87d6"
      },
      "execution_count": null,
      "outputs": [
        {
          "output_type": "stream",
          "name": "stdout",
          "text": [
            "Calinski-Harabasz Index: 117.03832991838635\n"
          ]
        }
      ]
    },
    {
      "cell_type": "code",
      "source": [
        "#Step 4: Visualization\n",
        "# Example: Using PCA for dimensionality reduction and visualization\n",
        "pca = PCA(n_components=2)\n",
        "reduced_embeddings = pca.fit_transform(combined_embeddings)\n",
        "\n",
        "plt.figure(figsize=(8, 6))\n",
        "for cluster_num in range(num_clusters):\n",
        "    cluster_indices = np.where(cluster_labels == cluster_num)[0]\n",
        "    plt.scatter(reduced_embeddings[cluster_indices, 0], reduced_embeddings[cluster_indices, 1], label=f'Cluster {cluster_num}')\n",
        "\n",
        "plt.title('Clustering Visualization (PCA)')\n",
        "plt.xlabel('Principal Component 1')\n",
        "plt.ylabel('Principal Component 2')\n",
        "plt.legend()\n",
        "plt.show()"
      ],
      "metadata": {
        "colab": {
          "base_uri": "https://localhost:8080/",
          "height": 564
        },
        "id": "fp6zflNHwkag",
        "outputId": "45607f82-3c08-49ab-8144-9fcf1d489a14"
      },
      "execution_count": null,
      "outputs": [
        {
          "output_type": "display_data",
          "data": {
            "text/plain": [
              "<Figure size 800x600 with 1 Axes>"
            ],
            "image/png": "[encoded data removed]"
          },
          "metadata": {}
        }
      ]
    },
    {
      "cell_type": "code",
      "source": [
        "from sklearn.metrics import silhouette_samples, davies_bouldin_score, calinski_harabasz_score\n",
        "\n",
        "# Step 4: Silhouette Plot\n",
        "silhouette_values = silhouette_samples(combined_embeddings, cluster_labels)\n",
        "plt.figure(figsize=(8, 6))\n",
        "plt.hist(silhouette_values, bins=20)\n",
        "plt.title('Silhouette Plot')\n",
        "plt.xlabel('Silhouette Coefficient')\n",
        "plt.ylabel('Frequency')\n",
        "plt.grid(True)\n",
        "plt.show()\n",
        "\n",
        "# Step 5: Davies-Bouldin Plot\n",
        "db_scores = []\n",
        "for k in range(2, 11):\n",
        "    kmeans = KMeans(n_clusters=k, random_state=42)\n",
        "    kmeans.fit(combined_embeddings)\n",
        "    db_scores.append(davies_bouldin_score(combined_embeddings, kmeans.labels_))\n",
        "\n",
        "plt.figure(figsize=(8, 6))\n",
        "plt.plot(range(2, 11), db_scores, marker='o')\n",
        "plt.title('Davies-Bouldin Index Plot')\n",
        "plt.xlabel('Number of Clusters (K)')\n",
        "plt.ylabel('Davies-Bouldin Index')\n",
        "plt.grid(True)\n",
        "plt.show()\n",
        "\n",
        "# Step 6: Calinski-Harabasz Plot\n",
        "ch_scores = []\n",
        "for k in range(2, 11):\n",
        "    kmeans = KMeans(n_clusters=k, random_state=42)\n",
        "    kmeans.fit(combined_embeddings)\n",
        "    ch_scores.append(calinski_harabasz_score(combined_embeddings, kmeans.labels_))\n",
        "\n",
        "plt.figure(figsize=(8, 6))\n",
        "plt.plot(range(2, 11), ch_scores, marker='o')\n",
        "plt.title('Calinski-Harabasz Index Plot')\n",
        "plt.xlabel('Number of Clusters (K)')\n",
        "plt.ylabel('Calinski-Harabasz Index')\n",
        "plt.grid(True)\n",
        "plt.show()"
      ],
      "metadata": {
        "colab": {
          "base_uri": "https://localhost:8080/",
          "height": 1000
        },
        "id": "fUEw5bbg2OYN",
        "outputId": "502d4f94-b323-4215-8109-582be8095fe6"
      },
      "execution_count": null,
      "outputs": [
        {
          "output_type": "display_data",
          "data": {
            "text/plain": [
              "<Figure size 800x600 with 1 Axes>"
            ],
            "image/png": "[encoded data removed]"
          },
          "metadata": {}
        },
        {
          "output_type": "stream",
          "name": "stderr",
          "text": [
            "/usr/local/lib/python3.10/dist-packages/sklearn/cluster/_kmeans.py:870: FutureWarning: The default value of `n_init` will change from 10 to 'auto' in 1.4. Set the value of `n_init` explicitly to suppress the warning\n",
            "  warnings.warn(\n",
            "/usr/local/lib/python3.10/dist-packages/sklearn/cluster/_kmeans.py:870: FutureWarning: The default value of `n_init` will change from 10 to 'auto' in 1.4. Set the value of `n_init` explicitly to suppress the warning\n",
            "  warnings.warn(\n",
            "/usr/local/lib/python3.10/dist-packages/sklearn/cluster/_kmeans.py:870: FutureWarning: The default value of `n_init` will change from 10 to 'auto' in 1.4. Set the value of `n_init` explicitly to suppress the warning\n",
            "  warnings.warn(\n",
            "/usr/local/lib/python3.10/dist-packages/sklearn/cluster/_kmeans.py:870: FutureWarning: The default value of `n_init` will change from 10 to 'auto' in 1.4. Set the value of `n_init` explicitly to suppress the warning\n",
            "  warnings.warn(\n",
            "/usr/local/lib/python3.10/dist-packages/sklearn/cluster/_kmeans.py:870: FutureWarning: The default value of `n_init` will change from 10 to 'auto' in 1.4. Set the value of `n_init` explicitly to suppress the warning\n",
            "  warnings.warn(\n",
            "/usr/local/lib/python3.10/dist-packages/sklearn/cluster/_kmeans.py:870: FutureWarning: The default value of `n_init` will change from 10 to 'auto' in 1.4. Set the value of `n_init` explicitly to suppress the warning\n",
            "  warnings.warn(\n",
            "/usr/local/lib/python3.10/dist-packages/sklearn/cluster/_kmeans.py:870: FutureWarning: The default value of `n_init` will change from 10 to 'auto' in 1.4. Set the value of `n_init` explicitly to suppress the warning\n",
            "  warnings.warn(\n",
            "/usr/local/lib/python3.10/dist-packages/sklearn/cluster/_kmeans.py:870: FutureWarning: The default value of `n_init` will change from 10 to 'auto' in 1.4. Set the value of `n_init` explicitly to suppress the warning\n",
            "  warnings.warn(\n",
            "/usr/local/lib/python3.10/dist-packages/sklearn/cluster/_kmeans.py:870: FutureWarning: The default value of `n_init` will change from 10 to 'auto' in 1.4. Set the value of `n_init` explicitly to suppress the warning\n",
            "  warnings.warn(\n"
          ]
        },
        {
          "output_type": "display_data",
          "data": {
            "text/plain": [
              "<Figure size 800x600 with 1 Axes>"
            ],
            "image/png": "[encoded data removed]"
          },
          "metadata": {}
        },
        {
          "output_type": "stream",
          "name": "stderr",
          "text": [
            "/usr/local/lib/python3.10/dist-packages/sklearn/cluster/_kmeans.py:870: FutureWarning: The default value of `n_init` will change from 10 to 'auto' in 1.4. Set the value of `n_init` explicitly to suppress the warning\n",
            "  warnings.warn(\n",
            "/usr/local/lib/python3.10/dist-packages/sklearn/cluster/_kmeans.py:870: FutureWarning: The default value of `n_init` will change from 10 to 'auto' in 1.4. Set the value of `n_init` explicitly to suppress the warning\n",
            "  warnings.warn(\n",
            "/usr/local/lib/python3.10/dist-packages/sklearn/cluster/_kmeans.py:870: FutureWarning: The default value of `n_init` will change from 10 to 'auto' in 1.4. Set the value of `n_init` explicitly to suppress the warning\n",
            "  warnings.warn(\n",
            "/usr/local/lib/python3.10/dist-packages/sklearn/cluster/_kmeans.py:870: FutureWarning: The default value of `n_init` will change from 10 to 'auto' in 1.4. Set the value of `n_init` explicitly to suppress the warning\n",
            "  warnings.warn(\n",
            "/usr/local/lib/python3.10/dist-packages/sklearn/cluster/_kmeans.py:870: FutureWarning: The default value of `n_init` will change from 10 to 'auto' in 1.4. Set the value of `n_init` explicitly to suppress the warning\n",
            "  warnings.warn(\n",
            "/usr/local/lib/python3.10/dist-packages/sklearn/cluster/_kmeans.py:870: FutureWarning: The default value of `n_init` will change from 10 to 'auto' in 1.4. Set the value of `n_init` explicitly to suppress the warning\n",
            "  warnings.warn(\n",
            "/usr/local/lib/python3.10/dist-packages/sklearn/cluster/_kmeans.py:870: FutureWarning: The default value of `n_init` will change from 10 to 'auto' in 1.4. Set the value of `n_init` explicitly to suppress the warning\n",
            "  warnings.warn(\n",
            "/usr/local/lib/python3.10/dist-packages/sklearn/cluster/_kmeans.py:870: FutureWarning: The default value of `n_init` will change from 10 to 'auto' in 1.4. Set the value of `n_init` explicitly to suppress the warning\n",
            "  warnings.warn(\n",
            "/usr/local/lib/python3.10/dist-packages/sklearn/cluster/_kmeans.py:870: FutureWarning: The default value of `n_init` will change from 10 to 'auto' in 1.4. Set the value of `n_init` explicitly to suppress the warning\n",
            "  warnings.warn(\n"
          ]
        },
        {
          "output_type": "display_data",
          "data": {
            "text/plain": [
              "<Figure size 800x600 with 1 Axes>"
            ],
            "image/png": "[encoded data removed]"
          },
          "metadata": {}
        }
      ]
    }
  ]
}